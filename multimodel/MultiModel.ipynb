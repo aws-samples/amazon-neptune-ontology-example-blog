{
 "cells": [
  {
   "cell_type": "markdown",
   "id": "94a47c81",
   "metadata": {},
   "source": [
    "\n",
    "\n",
    "# MultiModel\n",
    "This notebook shows the movie example from my talk/blog post on using Amazon Neptune to help model a multi-model database solution.\n",
    "\n",
    "In this notebook you insert into Neptune two types of data:\n",
    "- An ontology of data products.\n",
    "- Specific movie resource data. This shows how the Knowledge Graph model within the overall metamodel works. "
   ]
  },
  {
   "cell_type": "markdown",
   "id": "808f1776",
   "metadata": {},
   "source": [
    "## Add Ontology to Neptune\n"
   ]
  },
  {
   "cell_type": "markdown",
   "id": "4852ab28",
   "metadata": {},
   "source": [
    "### Set the name of an S3 bucket in the same region that Neptune has access to\n",
    "If necessary, add IAM role to Neptune cluster allowing it read access."
   ]
  },
  {
   "cell_type": "code",
   "execution_count": null,
   "id": "eb659729",
   "metadata": {},
   "outputs": [],
   "source": [
    "S3_BUCKET='s3://your-bucket-name/your-folder' \n"
   ]
  },
  {
   "cell_type": "markdown",
   "id": "2fcd0721",
   "metadata": {},
   "source": [
    "### Download the TTL files containing the MM ontology. Then move to S3"
   ]
  },
  {
   "cell_type": "code",
   "execution_count": null,
   "id": "8d885ebf",
   "metadata": {},
   "outputs": [],
   "source": [
    "%%bash -s \"$S3_BUCKET\"\n",
    "\n",
    "mkdir ttl\n",
    "cd ttl\n",
    "rm *\n",
    "wget https://raw.githubusercontent.com/aws-samples/amazon-neptune-ontology-example-blog/main/multimodel/mm_movie.ttl\n",
    "aws s3 sync . $1\n"
   ]
  },
  {
   "cell_type": "markdown",
   "id": "cabfbfe0",
   "metadata": {},
   "source": [
    "### Bulk-load to Neptune from S3"
   ]
  },
  {
   "cell_type": "code",
   "execution_count": null,
   "id": "c719b0f1",
   "metadata": {},
   "outputs": [],
   "source": [
    "%load -s {S3_BUCKET} -f turtle --store-to loadres --run"
   ]
  },
  {
   "cell_type": "markdown",
   "id": "e093eb62",
   "metadata": {},
   "source": [
    "### Check status of load"
   ]
  },
  {
   "cell_type": "code",
   "execution_count": null,
   "id": "20ca521c",
   "metadata": {
    "scrolled": true
   },
   "outputs": [],
   "source": [
    "%load_status {loadres['payload']['loadId']} --errors --details"
   ]
  },
  {
   "cell_type": "markdown",
   "id": "36409f6a",
   "metadata": {},
   "source": [
    "## Query the products (and some KG instances)"
   ]
  },
  {
   "cell_type": "markdown",
   "id": "93889bde",
   "metadata": {},
   "source": [
    "### Get list of products"
   ]
  },
  {
   "cell_type": "code",
   "execution_count": null,
   "id": "685ee74b",
   "metadata": {},
   "outputs": [],
   "source": [
    "%%sparql\n",
    "\n",
    "PREFIX : <http://amazon.com/aws/wwso/neptune/demo/multimodel/> \n",
    "prefix mov:           <http://amazon.com/aws/wwso/neptune/demo/multimodel/movmm/> \n",
    "prefix movkg:           <http://amazon.com/aws/wwso/neptune/demo/multimodel/movmm/kg/> \n",
    "prefix movvideo:           <http://amazon.com/aws/wwso/neptune/demo/multimodel/movmm/video/> \n",
    "prefix movstory:           <http://amazon.com/aws/wwso/neptune/demo/multimodel/movmm/story/> \n",
    "prefix movlake:           <http://amazon.com/aws/wwso/neptune/demo/multimodel/movmm/lake/> \n",
    "prefix movdoc:           <http://amazon.com/aws/wwso/neptune/demo/multimodel/movmm/doc/> \n",
    "prefix aws:           <http://amazon.com/aws/wwso/neptune/demo/multimodel/aws/> \n",
    "\n",
    "select ?product where {\n",
    "    ?product rdfs:subClassOf+ :DataProduct .\n",
    "} \n",
    "ORDER BY ?product "
   ]
  },
  {
   "cell_type": "markdown",
   "id": "24e90b31",
   "metadata": {},
   "source": [
    "### Get list of products and their impls"
   ]
  },
  {
   "cell_type": "code",
   "execution_count": null,
   "id": "c1bee56f",
   "metadata": {},
   "outputs": [],
   "source": [
    "%%sparql\n",
    "\n",
    "PREFIX : <http://amazon.com/aws/wwso/neptune/demo/multimodel/> \n",
    "prefix mov:           <http://amazon.com/aws/wwso/neptune/demo/multimodel/movmm/> \n",
    "prefix movkg:           <http://amazon.com/aws/wwso/neptune/demo/multimodel/movmm/kg/> \n",
    "prefix movvideo:           <http://amazon.com/aws/wwso/neptune/demo/multimodel/movmm/video/> \n",
    "prefix movstory:           <http://amazon.com/aws/wwso/neptune/demo/multimodel/movmm/story/> \n",
    "prefix movlake:           <http://amazon.com/aws/wwso/neptune/demo/multimodel/movmm/lake/> \n",
    "prefix movdoc:           <http://amazon.com/aws/wwso/neptune/demo/multimodel/movmm/doc/> \n",
    "prefix aws:           <http://amazon.com/aws/wwso/neptune/demo/multimodel/aws/> \n",
    "\n",
    "select ?product (GROUP_CONCAT(?impl;SEPARATOR=\",\") AS ?impls) where {\n",
    "    ?product rdfs:subClassOf+ :DataProduct .\n",
    "    OPTIONAL { ?product :hasImpl ?impl } .\n",
    "} \n",
    "GROUP BY ?product\n",
    "ORDER BY ?product "
   ]
  },
  {
   "cell_type": "markdown",
   "id": "4f9fda5e",
   "metadata": {},
   "source": [
    "### Inspect one product a few levels deep"
   ]
  },
  {
   "cell_type": "code",
   "execution_count": null,
   "id": "58cdd07f",
   "metadata": {},
   "outputs": [],
   "source": [
    "%%sparql\n",
    "\n",
    "PREFIX : <http://amazon.com/aws/wwso/neptune/demo/multimodel/> \n",
    "prefix mov:           <http://amazon.com/aws/wwso/neptune/demo/multimodel/movmm/> \n",
    "prefix movkg:           <http://amazon.com/aws/wwso/neptune/demo/multimodel/movmm/kg/> \n",
    "prefix movvideo:           <http://amazon.com/aws/wwso/neptune/demo/multimodel/movmm/video/> \n",
    "prefix movstory:           <http://amazon.com/aws/wwso/neptune/demo/multimodel/movmm/story/> \n",
    "prefix movlake:           <http://amazon.com/aws/wwso/neptune/demo/multimodel/movmm/lake/> \n",
    "prefix movdoc:           <http://amazon.com/aws/wwso/neptune/demo/multimodel/movmm/doc/> \n",
    "prefix aws:           <http://amazon.com/aws/wwso/neptune/demo/multimodel/aws/> \n",
    "\n",
    "select * where {\n",
    "    ?anno a owl:AnnotationProperty .\n",
    "    movdoc:MovieDocument ?anno ?o .\n",
    "    OPTIONAL { \n",
    "        ?anno2 a owl:AnnotationProperty  .\n",
    "        ?o ?anno2 ?o2 . \n",
    "    } .\n",
    "} \n",
    "ORDER BY ?anno ?o ?anno2 "
   ]
  },
  {
   "cell_type": "markdown",
   "id": "76e75b43",
   "metadata": {},
   "source": [
    "### Describe a product"
   ]
  },
  {
   "cell_type": "code",
   "execution_count": null,
   "id": "bcc9c295",
   "metadata": {},
   "outputs": [],
   "source": [
    "%%sparql\n",
    "\n",
    "# describe mode https://docs.aws.amazon.com/neptune/latest/userguide/sparql-query-hints-for-describe.html#sparql-query-hints-describeMode\n",
    "\n",
    "PREFIX : <http://amazon.com/aws/wwso/neptune/demo/multimodel/> \n",
    "prefix mov:           <http://amazon.com/aws/wwso/neptune/demo/multimodel/movmm/> \n",
    "prefix movkg:           <http://amazon.com/aws/wwso/neptune/demo/multimodel/movmm/kg/> \n",
    "prefix movvideo:           <http://amazon.com/aws/wwso/neptune/demo/multimodel/movmm/video/> \n",
    "prefix movstory:           <http://amazon.com/aws/wwso/neptune/demo/multimodel/movmm/story/> \n",
    "prefix movlake:           <http://amazon.com/aws/wwso/neptune/demo/multimodel/movmm/lake/> \n",
    "prefix movdoc:           <http://amazon.com/aws/wwso/neptune/demo/multimodel/movmm/doc/> \n",
    "prefix aws:           <http://amazon.com/aws/wwso/neptune/demo/multimodel/aws/> \n",
    "PREFIX hint: <http://aws.amazon.com/neptune/vocab/v01/QueryHints#>\n",
    "\n",
    "describe movkg:MovieResource\n",
    "#{\n",
    "#  hint:Query hint:describeMode \"CBD\"\n",
    "#}"
   ]
  },
  {
   "cell_type": "markdown",
   "id": "0ed54473",
   "metadata": {},
   "source": [
    "### Which products use OpenSearch and Elasticache?"
   ]
  },
  {
   "cell_type": "code",
   "execution_count": null,
   "id": "d9ef787f",
   "metadata": {},
   "outputs": [],
   "source": [
    "%%sparql\n",
    "\n",
    "PREFIX : <http://amazon.com/aws/wwso/neptune/demo/multimodel/> \n",
    "prefix mov:           <http://amazon.com/aws/wwso/neptune/demo/multimodel/movmm/> \n",
    "prefix movkg:           <http://amazon.com/aws/wwso/neptune/demo/multimodel/movmm/kg/> \n",
    "prefix movvideo:           <http://amazon.com/aws/wwso/neptune/demo/multimodel/movmm/video/> \n",
    "prefix movstory:           <http://amazon.com/aws/wwso/neptune/demo/multimodel/movmm/story/> \n",
    "prefix movlake:           <http://amazon.com/aws/wwso/neptune/demo/multimodel/movmm/lake/> \n",
    "prefix movdoc:           <http://amazon.com/aws/wwso/neptune/demo/multimodel/movmm/doc/> \n",
    "prefix aws:           <http://amazon.com/aws/wwso/neptune/demo/multimodel/aws/> \n",
    "\n",
    "select * where {\n",
    "    ?product rdfs:subClassOf :DataProduct .\n",
    "    ?product :hasImpl/:hasService aws:OpenSearch .\n",
    "    ?product :hasImpl/:hasService aws:Elasticache .\n",
    "}"
   ]
  },
  {
   "cell_type": "markdown",
   "id": "d9c792b2",
   "metadata": {},
   "source": [
    "### Story and Movie Related?"
   ]
  },
  {
   "cell_type": "code",
   "execution_count": null,
   "id": "ebc840f1",
   "metadata": {},
   "outputs": [],
   "source": [
    "%%sparql\n",
    "PREFIX : <http://amazon.com/aws/wwso/neptune/demo/multimodel/> \n",
    "prefix mov:           <http://amazon.com/aws/wwso/neptune/demo/multimodel/movmm/> \n",
    "prefix movkg:           <http://amazon.com/aws/wwso/neptune/demo/multimodel/movmm/kg/> \n",
    "prefix movvideo:           <http://amazon.com/aws/wwso/neptune/demo/multimodel/movmm/video/> \n",
    "prefix movstory:           <http://amazon.com/aws/wwso/neptune/demo/multimodel/movmm/story/> \n",
    "prefix movlake:           <http://amazon.com/aws/wwso/neptune/demo/multimodel/movmm/lake/> \n",
    "prefix movdoc:           <http://amazon.com/aws/wwso/neptune/demo/multimodel/movmm/doc/> \n",
    "prefix aws:           <http://amazon.com/aws/wwso/neptune/demo/multimodel/aws/> \n",
    "\n",
    "ask where {\n",
    "    BIND(movstory:StoryAnalysis as ?product) .\n",
    "    \n",
    "    ?product  ((:hasNeighbor|:hasNeighborAttribute|:joins|:refersTo|:hasSimilarity|\n",
    "        :hasSource|:hasDataset|rdfs:subPropertyOf|owl:hasKey/rdf:first|rdfs:domain|rdfs:range|rdfs:subPropertyOf) |^ \n",
    "        (:hasNeighbor|:hasNeighborAttribute|:joins|:refersTo|:hasSimilarity|\n",
    "        :hasSource|:hasDataset|rdfs:subPropertyOf|owl:hasKey/rdf:first|rdfs:domain|rdfs:range|rdfs:subPropertyOf))* ?rel .\n",
    "\n",
    "    FILTER(?rel = movkg:MovieResource || ?rel = movdoc:MovieDocument) . \n",
    "} \n"
   ]
  },
  {
   "cell_type": "markdown",
   "id": "e8cf0b3c",
   "metadata": {},
   "source": [
    "### Story and IMDB?"
   ]
  },
  {
   "cell_type": "code",
   "execution_count": null,
   "id": "8efc3675",
   "metadata": {},
   "outputs": [],
   "source": [
    "%%sparql\n",
    "PREFIX : <http://amazon.com/aws/wwso/neptune/demo/multimodel/> \n",
    "prefix mov:           <http://amazon.com/aws/wwso/neptune/demo/multimodel/movmm/> \n",
    "prefix movkg:           <http://amazon.com/aws/wwso/neptune/demo/multimodel/movmm/kg/> \n",
    "prefix movvideo:           <http://amazon.com/aws/wwso/neptune/demo/multimodel/movmm/video/> \n",
    "prefix movstory:           <http://amazon.com/aws/wwso/neptune/demo/multimodel/movmm/story/> \n",
    "prefix movlake:           <http://amazon.com/aws/wwso/neptune/demo/multimodel/movmm/lake/> \n",
    "prefix movdoc:           <http://amazon.com/aws/wwso/neptune/demo/multimodel/movmm/doc/> \n",
    "prefix aws:           <http://amazon.com/aws/wwso/neptune/demo/multimodel/aws/> \n",
    "\n",
    "ask where {\n",
    "    BIND(movstory:StoryAnalysis as ?product) .\n",
    "    \n",
    "    ?product  ((:hasNeighbor|:hasNeighborAttribute|:joins|:refersTo|:hasSimilarity|\n",
    "        :hasSource|:hasDataset|rdfs:subPropertyOf|owl:hasKey/rdf:first|rdfs:domain|rdfs:range|rdfs:subPropertyOf) |^ \n",
    "        (:hasNeighbor|:hasNeighborAttribute|:joins|:refersTo|:hasSimilarity|\n",
    "        :hasSource|:hasDataset|rdfs:subPropertyOf|owl:hasKey/rdf:first|rdfs:domain|rdfs:range|rdfs:subPropertyOf))* ?rel .\n",
    "\n",
    "    FILTER(?rel = mov:IMDB) . \n",
    "} "
   ]
  },
  {
   "cell_type": "markdown",
   "id": "676b4c2a",
   "metadata": {},
   "source": [
    "### Story and the Lonely product"
   ]
  },
  {
   "cell_type": "code",
   "execution_count": null,
   "id": "1706b605",
   "metadata": {},
   "outputs": [],
   "source": [
    "%%sparql\n",
    "PREFIX : <http://amazon.com/aws/wwso/neptune/demo/multimodel/> \n",
    "prefix mov:           <http://amazon.com/aws/wwso/neptune/demo/multimodel/movmm/> \n",
    "prefix movkg:           <http://amazon.com/aws/wwso/neptune/demo/multimodel/movmm/kg/> \n",
    "prefix movvideo:           <http://amazon.com/aws/wwso/neptune/demo/multimodel/movmm/video/> \n",
    "prefix movstory:           <http://amazon.com/aws/wwso/neptune/demo/multimodel/movmm/story/> \n",
    "prefix movlake:           <http://amazon.com/aws/wwso/neptune/demo/multimodel/movmm/lake/> \n",
    "prefix movdoc:           <http://amazon.com/aws/wwso/neptune/demo/multimodel/movmm/doc/> \n",
    "prefix aws:           <http://amazon.com/aws/wwso/neptune/demo/multimodel/aws/> \n",
    "\n",
    "ask where {\n",
    "    BIND(movstory:StoryAnalysis as ?product) .\n",
    "    \n",
    "    ?product  ((:hasNeighbor|:hasNeighborAttribute|:joins|:refersTo|:hasSimilarity|\n",
    "        :hasSource|:hasDataset|rdfs:subPropertyOf|owl:hasKey/rdf:first|rdfs:domain|rdfs:range|rdfs:subPropertyOf) |^ \n",
    "        (:hasNeighbor|:hasNeighborAttribute|:joins|:refersTo|:hasSimilarity|\n",
    "        :hasSource|:hasDataset|rdfs:subPropertyOf|owl:hasKey/rdf:first|rdfs:domain|rdfs:range|rdfs:subPropertyOf))* ?rel .\n",
    "\n",
    "    FILTER(?rel = mov:LonelyProduct) . \n",
    "} "
   ]
  },
  {
   "cell_type": "markdown",
   "id": "4ec4c1ec",
   "metadata": {},
   "source": [
    "## Movie Example"
   ]
  },
  {
   "cell_type": "markdown",
   "id": "502896fd",
   "metadata": {},
   "source": [
    "### Populate sample data. A movie, a couple of its roles, stories that mention, video analysis, links to IMDB, DBPedia, Wikidata"
   ]
  },
  {
   "cell_type": "code",
   "execution_count": null,
   "id": "ab8c28ab",
   "metadata": {},
   "outputs": [],
   "source": [
    "%%sparql\n",
    "PREFIX : <http://amazon.com/aws/wwso/neptune/demo/multimodel/> \n",
    "prefix mov:           <http://amazon.com/aws/wwso/neptune/demo/multimodel/movmm/> \n",
    "prefix movkg:           <http://amazon.com/aws/wwso/neptune/demo/multimodel/movmm/kg/> \n",
    "prefix movvideo:           <http://amazon.com/aws/wwso/neptune/demo/multimodel/movmm/video/> \n",
    "prefix movstory:           <http://amazon.com/aws/wwso/neptune/demo/multimodel/movmm/story/> \n",
    "prefix movlake:           <http://amazon.com/aws/wwso/neptune/demo/multimodel/movmm/lake/> \n",
    "prefix movdoc:           <http://amazon.com/aws/wwso/neptune/demo/multimodel/movmm/doc/> \n",
    "prefix aws:           <http://amazon.com/aws/wwso/neptune/demo/multimodel/aws/> \n",
    "\n",
    "INSERT DATA { graph <:mmblog> {\n",
    "    movkg:Shining a movkg:MovieResource .\n",
    "    movkg:Shining movdoc:MovieID \"tt0081505\" .\n",
    "    movkg:Shining movkg:hasDBPediaRef <http://dbpedia.org/resource/The_Shining_(film)> .\n",
    "    movkg:Shining movkg:hasWikidataRef <http://www.wikidata.org/entity/Q186341> .\n",
    "    \n",
    "    # cast - a couple contributors to give the idea\n",
    "    movkg:RoleShining_Jack a movkg:RoleResource .\n",
    "    movkg:RoleShining_Jack movkg:hasMovie movkg:Shining .\n",
    "    movkg:RoleShining_Jack movkg:hasContribClass movkg:Actor .\n",
    "    movkg:RoleShining_Jack movkg:hasContrib movkg:JackNicholson .\n",
    "\n",
    "    movkg::RoleShining_Kubrick_Dir a movkg:RoleResource .\n",
    "    movkg::RoleShining_Kubrick_Dir movkg:hasMovie movkg:Shining .\n",
    "    movkg::RoleShining_Kubrick_Dir movkg:hasContribClass movkg:Director .\n",
    "    movkg::RoleShining_Kubrick_Dir movkg:hasContrib movkg:StanleyKubrick .\n",
    "\n",
    "    movkg:RoleShining_Kubrick_Prod a movkg:RoleResource .\n",
    "    movkg:RoleShining_Kubrick_Prod movkg:hasMovie movkg:Shining .\n",
    "    movkg:RoleShining_Kubrick_Prod movkg:hasContribClass movkg:Producer .\n",
    "    movkg:RoleShining_Kubrick_Prob movkg:hasContrib movkg:StanleyKubrick .\n",
    "\n",
    "    movkg:JackNicholson a movkg:ContributorResource . \n",
    "    movkg:JackNihcolson movkg:ContribID \"nm0000197\" .\n",
    "    movkg:JackNicholson movkg:hasDBPediaRef <http://dbpedia.org/resource/Jack_Nicholson> .\n",
    "    movkg:JackNicholson movkg:hasWikidataRef <https://www.wikidata.org/entitiy/Q39792> .\n",
    "\n",
    "    movkg:StanleyKubrick a movkg:ContributorResource . \n",
    "    movkg:StanleyKubrick movkg:ContribID \"nm0000040\" .\n",
    "    movkg:StanleyKubrick movkg:hasDBPediaRef <http://dbpedia.org/resource/Stanley_Kubrick> .\n",
    "    movkg:StanleyKubrick movkg:hasWikidataRef <https://www.wikidata.org/entitiy/Q2001> .\n",
    "\n",
    "    # stories that mention\n",
    "    movkg:Story_Staycation_in_Hollywood a movkg:StorytResource .\n",
    "    movkg:Story_Staycation_in_Hollywood movstory:StoryTitle \"Staycation in Hollywood\" .\n",
    "    movkg:Story_Staycation_in_Hollywood movkg:mentions movkg:Shining .\n",
    "    movkg:Story_Starve_Cabin_Fever_Until_Spring a movkg:StorytResource .\n",
    "    movkg:Story_Starve_Cabin_Fever_Until_Spring movstory:StoryTitle \"Starve Cabin Fever Until Spring\" .\n",
    "    movkg:Story_Starve_Cabin_Fever_Until_Spring movkg:mentions movkg:Shining .\n",
    "    \n",
    "    # video analysis\n",
    "    movkg:Analysis_123456789 a movkg:VideoAnalysisResource .\n",
    "    movkg:Shining movkg:hasVideoAnalysis movkg:Analysis_123456789 .\n",
    "    movkg:Analysis_123456789 movvideo:VideoID \"123456789\" .\n",
    "    movkg:Analysis_123456789 movvideo:S3IngestLocation \"s3://va_abcderfg_123456789/ingest\" .\n",
    "    movkg:Analysis_123456789 movvideo:S3AnalysisLocation \"s3://va_abcderfg_123456789/analysis\" .\n",
    "    movkg:Analysis_123456789 movvideo:MP4FileName \"0081505_shining.mp4\" .\n",
    "    movkg:Analysis_123456789 movkg:hasRekognitionCeleb movkg:Analysis_123456789_celeb0 .\n",
    "    movkg:Analysis_123456789_celeb0 movkg:celebName \"Jeff Bezos\" .\n",
    "    movkg:Analysis_123456789_celeb0 movkg:hasWikidataRef <http://www.wikidata.org/entity/Q312556> .\n",
    "    movkg:Analysis_123456789_celeb0 movdoc:ContribID \"nm1757263\" . # this is an IMDB ID\n",
    "    # more detail on occurences of cebel in video in S3AnalysisLocation given above\n",
    " \n",
    "}}"
   ]
  },
  {
   "cell_type": "markdown",
   "id": "506f4515",
   "metadata": {},
   "source": [
    "### With MovieID (IMDBID) as input, get basic details of the movie"
   ]
  },
  {
   "cell_type": "code",
   "execution_count": null,
   "id": "3ae59b2d",
   "metadata": {},
   "outputs": [],
   "source": [
    "%%sparql\n",
    "\n",
    "PREFIX : <http://amazon.com/aws/wwso/neptune/demo/multimodel/> \n",
    "prefix mov:           <http://amazon.com/aws/wwso/neptune/demo/multimodel/movmm/> \n",
    "prefix movkg:           <http://amazon.com/aws/wwso/neptune/demo/multimodel/movmm/kg/> \n",
    "prefix movvideo:           <http://amazon.com/aws/wwso/neptune/demo/multimodel/movmm/video/> \n",
    "prefix movstory:           <http://amazon.com/aws/wwso/neptune/demo/multimodel/movmm/story/> \n",
    "prefix movlake:           <http://amazon.com/aws/wwso/neptune/demo/multimodel/movmm/lake/> \n",
    "prefix movdoc:           <http://amazon.com/aws/wwso/neptune/demo/multimodel/movmm/doc/> \n",
    "prefix aws:           <http://amazon.com/aws/wwso/neptune/demo/multimodel/aws/> \n",
    "\n",
    "SELECT ?movie ?dbp ?wiki ?storyMention ?video ?mp4\n",
    "WHERE \n",
    "{\n",
    "    ?movie movdoc:MovieID \"tt0081505\" .\n",
    "    ?movie a movkg:MovieResource .\n",
    "    OPTIONAL {?movie movkg:hasDBPediaRef ?dbp . } .\n",
    "    OPTIONAL {?movie movkg:hasWikidataRef ?wiki . } .\n",
    "    \n",
    "    # bring in story mentions\n",
    "    OPTIONAL {?storyMention movkg:mentions ?movie . } .\n",
    "    \n",
    "    # bring in video analyis\n",
    "    OPTIONAL {?movie movkg:hasVideoAnalysis ?video . ?video movvideo:MP4FileName ?mp4 . } .\n",
    "} \n"
   ]
  },
  {
   "cell_type": "markdown",
   "id": "99ec3c62",
   "metadata": {},
   "source": [
    "### Knowing the movie URI, DESCRIBE it\n",
    "\n",
    "See https://docs.aws.amazon.com/neptune/latest/userguide/sparql-query-hints-for-describe.html for more on DESCRIBE in Neptune. Try the Graph view too."
   ]
  },
  {
   "cell_type": "code",
   "execution_count": null,
   "id": "0ad10064",
   "metadata": {},
   "outputs": [],
   "source": [
    "%%sparql\n",
    "\n",
    "PREFIX : <http://amazon.com/aws/wwso/neptune/demo/multimodel/> \n",
    "prefix mov:           <http://amazon.com/aws/wwso/neptune/demo/multimodel/movmm/> \n",
    "prefix movkg:           <http://amazon.com/aws/wwso/neptune/demo/multimodel/movmm/kg/> \n",
    "prefix movvideo:           <http://amazon.com/aws/wwso/neptune/demo/multimodel/movmm/video/> \n",
    "prefix movstory:           <http://amazon.com/aws/wwso/neptune/demo/multimodel/movmm/story/> \n",
    "prefix movlake:           <http://amazon.com/aws/wwso/neptune/demo/multimodel/movmm/lake/> \n",
    "prefix movdoc:           <http://amazon.com/aws/wwso/neptune/demo/multimodel/movmm/doc/> \n",
    "prefix aws:           <http://amazon.com/aws/wwso/neptune/demo/multimodel/aws/> \n",
    "\n",
    "describe movkg:Shining\n",
    "#{\n",
    "#  hint:Query hint:describeMode \"CBD\"\n",
    "#}"
   ]
  },
  {
   "cell_type": "markdown",
   "id": "3e17f2f8",
   "metadata": {},
   "source": [
    "### Get video analysis - celebs"
   ]
  },
  {
   "cell_type": "code",
   "execution_count": null,
   "id": "7803a306",
   "metadata": {},
   "outputs": [],
   "source": [
    "%%sparql\n",
    "\n",
    "PREFIX : <http://amazon.com/aws/wwso/neptune/demo/multimodel/> \n",
    "prefix mov:           <http://amazon.com/aws/wwso/neptune/demo/multimodel/movmm/> \n",
    "prefix movkg:           <http://amazon.com/aws/wwso/neptune/demo/multimodel/movmm/kg/> \n",
    "prefix movvideo:           <http://amazon.com/aws/wwso/neptune/demo/multimodel/movmm/video/> \n",
    "prefix movstory:           <http://amazon.com/aws/wwso/neptune/demo/multimodel/movmm/story/> \n",
    "prefix movlake:           <http://amazon.com/aws/wwso/neptune/demo/multimodel/movmm/lake/> \n",
    "prefix movdoc:           <http://amazon.com/aws/wwso/neptune/demo/multimodel/movmm/doc/> \n",
    "prefix aws:           <http://amazon.com/aws/wwso/neptune/demo/multimodel/aws/> \n",
    "\n",
    "SELECT ?movie ?mp4 ?celebName ?celebWikdata ?celebIMDB ?roleX\n",
    "WHERE \n",
    "{\n",
    "    ?movie movdoc:MovieID \"tt0081505\" .\n",
    "    ?movie a movkg:MovieResource .\n",
    "    \n",
    "    ?movie movkg:hasVideoAnalysis ?video . \n",
    "    ?video movvideo:MP4FileName ?mp4 .\n",
    "    OPTIONAL {\n",
    "        # bring in celebs in video analysis\n",
    "        ?video movkg:hasRekognitionCeleb ?celeb .\n",
    "        ?celeb movkg:celebName ?celebName .\n",
    "        ?celeb movkg:hasWikidataRef ?celebWikdata .\n",
    "        ?celeb movdoc:ContribID ?celebIMDB .\n",
    "        OPTIONAL {\n",
    "            # Is the celeb a contributor in the movie\n",
    "            ?roleX movkg:hasContributor ?contribX .\n",
    "            ?contribX a movkg:ContributorResource .\n",
    "            ?roleX movkg:hasMovie ?movie .\n",
    "            ?contribX movdoc:ContribID ?celebIMDB . \n",
    "        }\n",
    "    } \n",
    "} \n"
   ]
  },
  {
   "cell_type": "markdown",
   "id": "1831874b",
   "metadata": {},
   "source": [
    "### Pull in DBPedia"
   ]
  },
  {
   "cell_type": "code",
   "execution_count": null,
   "id": "fcd66e59",
   "metadata": {},
   "outputs": [],
   "source": [
    "%%sparql\n",
    "\n",
    "PREFIX : <http://amazon.com/aws/wwso/neptune/demo/multimodel/> \n",
    "prefix mov:           <http://amazon.com/aws/wwso/neptune/demo/multimodel/movmm/> \n",
    "prefix movkg:           <http://amazon.com/aws/wwso/neptune/demo/multimodel/movmm/kg/> \n",
    "prefix movvideo:           <http://amazon.com/aws/wwso/neptune/demo/multimodel/movmm/video/> \n",
    "prefix movstory:           <http://amazon.com/aws/wwso/neptune/demo/multimodel/movmm/story/> \n",
    "prefix movlake:           <http://amazon.com/aws/wwso/neptune/demo/multimodel/movmm/lake/> \n",
    "prefix movdoc:           <http://amazon.com/aws/wwso/neptune/demo/multimodel/movmm/doc/> \n",
    "prefix aws:           <http://amazon.com/aws/wwso/neptune/demo/multimodel/aws/> \n",
    "\n",
    "SELECT ?p ?o \n",
    "WHERE \n",
    "{\n",
    "    ?movie movdoc:MovieID \"tt0081505\" .\n",
    "    ?movie a movkg:MovieResource .\n",
    "    ?movie movkg:hasDBPediaRef ?dbp .\n",
    "    SERVICE <https://dbpedia.org/sparql> {\n",
    "        ?dbp ?p ?o . \n",
    "    }\n",
    "}\n"
   ]
  },
  {
   "cell_type": "markdown",
   "id": "ad7bf44a",
   "metadata": {},
   "source": [
    "### Pull in Wikidata"
   ]
  },
  {
   "cell_type": "code",
   "execution_count": null,
   "id": "f451cbab",
   "metadata": {},
   "outputs": [],
   "source": [
    "%%sparql\n",
    "\n",
    "PREFIX : <http://amazon.com/aws/wwso/neptune/demo/multimodel/> \n",
    "prefix mov:           <http://amazon.com/aws/wwso/neptune/demo/multimodel/movmm/> \n",
    "prefix movkg:           <http://amazon.com/aws/wwso/neptune/demo/multimodel/movmm/kg/> \n",
    "prefix movvideo:           <http://amazon.com/aws/wwso/neptune/demo/multimodel/movmm/video/> \n",
    "prefix movstory:           <http://amazon.com/aws/wwso/neptune/demo/multimodel/movmm/story/> \n",
    "prefix movlake:           <http://amazon.com/aws/wwso/neptune/demo/multimodel/movmm/lake/> \n",
    "prefix movdoc:           <http://amazon.com/aws/wwso/neptune/demo/multimodel/movmm/doc/> \n",
    "prefix aws:           <http://amazon.com/aws/wwso/neptune/demo/multimodel/aws/> \n",
    "\n",
    "SELECT ?p ?o \n",
    "WHERE \n",
    "{\n",
    "    ?movie movdoc:MovieID \"tt0081505\" .\n",
    "    ?movie a movkg:MovieResource .\n",
    "    ?movie movkg:hasWikidataRef ?wiki .\n",
    "    SERVICE <https://query.wikidata.org/sparql> {\n",
    "        ?wiki ?p ?o . \n",
    "    }    \n",
    "}\n"
   ]
  },
  {
   "cell_type": "markdown",
   "id": "f001571a",
   "metadata": {},
   "source": [
    "## Cleanup"
   ]
  },
  {
   "cell_type": "code",
   "execution_count": null,
   "id": "01386517",
   "metadata": {},
   "outputs": [],
   "source": [
    "%%sparql\n",
    "\n",
    "delete {?s ?p ?o} where {?s ?p ?o}"
   ]
  }
 ],
 "metadata": {
  "kernelspec": {
   "display_name": "Python 3",
   "language": "python",
   "name": "python3"
  },
  "language_info": {
   "codemirror_mode": {
    "name": "ipython",
    "version": 3
   },
   "file_extension": ".py",
   "mimetype": "text/x-python",
   "name": "python",
   "nbconvert_exporter": "python",
   "pygments_lexer": "ipython3",
   "version": "3.7.12"
  }
 },
 "nbformat": 4,
 "nbformat_minor": 5
}
