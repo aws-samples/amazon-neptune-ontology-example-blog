{
 "cells": [
  {
   "cell_type": "code",
   "execution_count": 66,
   "id": "d8699a2d",
   "metadata": {
    "scrolled": true
   },
   "outputs": [
    {
     "data": {
      "application/vnd.jupyter.widget-view+json": {
       "model_id": "f1c96c1a604d47c8b36dbcb9c508a5b5",
       "version_major": 2,
       "version_minor": 0
      },
      "text/plain": [
       "Tab(children=(Output(layout=Layout(max_height='600px', max_width='940px', overflow='scroll')), Output(layout=L…"
      ]
     },
     "metadata": {},
     "output_type": "display_data"
    }
   ],
   "source": [
    "%%oc\n",
    "\n",
    "MATCH ()-[e:referencedByDoc]->()\n",
    "DELETE e"
   ]
  },
  {
   "cell_type": "code",
   "execution_count": 56,
   "id": "5293d285",
   "metadata": {
    "scrolled": true
   },
   "outputs": [
    {
     "data": {
      "application/vnd.jupyter.widget-view+json": {
       "model_id": "7ea981667ec140ff93c7d0168c3d29b2",
       "version_major": 2,
       "version_minor": 0
      },
      "text/plain": [
       "Tab(children=(Output(layout=Layout(max_height='600px', max_width='940px', overflow='scroll')), Output(layout=L…"
      ]
     },
     "metadata": {},
     "output_type": "display_data"
    }
   ],
   "source": [
    "%%oc\n",
    "MATCH (o:OrgKG_Organization)<-[:hasParentCompany*0..]-(o1:OrgKG_Organization)<-[:resolvesToOrg]-(n:ORGANIZATION)<-[]-()<-[:EVENT]-(d:DOCUMENT)\n",
    "WITH DISTINCT o, d\n",
    "CREATE (o)-[:referencedByDoc]->(d)"
   ]
  },
  {
   "cell_type": "markdown",
   "id": "afd2b4b6",
   "metadata": {},
   "source": [
    "## Jaccard Similarity (common nodes / union of neighbors of either node)\n",
    "Most of the documents mentioning Amazon do not mention Whole Foods"
   ]
  },
  {
   "cell_type": "code",
   "execution_count": 1,
   "id": "7b2ee027",
   "metadata": {
    "scrolled": false
   },
   "outputs": [
    {
     "data": {
      "application/vnd.jupyter.widget-view+json": {
       "model_id": "25b1e0206b8a4e54bc2c7219ab2d850b",
       "version_major": 2,
       "version_minor": 0
      },
      "text/plain": [
       "Tab(children=(Output(layout=Layout(max_height='600px', max_width='940px', overflow='scroll')), Output(layout=L…"
      ]
     },
     "metadata": {},
     "output_type": "display_data"
    }
   ],
   "source": [
    "%%oc\n",
    "MATCH (o1:OrgKG_Organization {`~id`:\"http://dbpedia.org/resource/Amazon_(company)\"}),(o2:OrgKG_Organization {`~id`:\"http://dbpedia.org/resource/Whole_Foods_Market\"})\n",
    "CALL neptune.algo.jaccardSimilarity(o1, o2, {edgeLabels: ['referencedByDoc']})\n",
    "YIELD score\n",
    "RETURN ID(o1), ID(o2), score"
   ]
  },
  {
   "cell_type": "markdown",
   "id": "81d7b116",
   "metadata": {},
   "source": [
    "## Overlap Similarity [ common nodes / min(# of neighbors of either node) ]\n",
    "All of the documents mentioning Whole Foods also mention Amazon"
   ]
  },
  {
   "cell_type": "code",
   "execution_count": 2,
   "id": "b9693c60",
   "metadata": {
    "scrolled": true
   },
   "outputs": [
    {
     "data": {
      "application/vnd.jupyter.widget-view+json": {
       "model_id": "36886c2a9bec4c0a9133064615d78a77",
       "version_major": 2,
       "version_minor": 0
      },
      "text/plain": [
       "Tab(children=(Output(layout=Layout(max_height='600px', max_width='940px', overflow='scroll')), Output(layout=L…"
      ]
     },
     "metadata": {},
     "output_type": "display_data"
    }
   ],
   "source": [
    "%%oc\n",
    "MATCH (o1:OrgKG_Organization {`~id`:\"http://dbpedia.org/resource/Amazon_(company)\"}),(o2:OrgKG_Organization {`~id`:\"http://dbpedia.org/resource/Whole_Foods_Market\"})\n",
    "CALL neptune.algo.overlapSimilarity(o1, o2, {edgeLabels: ['referencedByDoc']})\n",
    "YIELD score\n",
    "RETURN ID(o1), ID(o2), score"
   ]
  },
  {
   "cell_type": "markdown",
   "id": "a36b6d42",
   "metadata": {},
   "source": [
    "## We can use Jaccard Similarity across all of the organization references to identify which commonly appear together in the same document"
   ]
  },
  {
   "cell_type": "code",
   "execution_count": 3,
   "id": "73bb5e2c",
   "metadata": {
    "scrolled": true
   },
   "outputs": [
    {
     "data": {
      "application/vnd.jupyter.widget-view+json": {
       "model_id": "e625eae1b5ea40a19c82991233163231",
       "version_major": 2,
       "version_minor": 0
      },
      "text/plain": [
       "Tab(children=(Output(layout=Layout(max_height='600px', max_width='940px', overflow='scroll')), Output(layout=L…"
      ]
     },
     "metadata": {},
     "output_type": "display_data"
    }
   ],
   "source": [
    "%%oc\n",
    "MATCH (o1:OrgKG_Organization)-[:referencedByDoc]->(d:DOCUMENT)<-[:referencedByDoc]-(o2:OrgKG_Organization)\n",
    "CALL neptune.algo.jaccardSimilarity(o1, o2, {edgeLabels: ['referencedByDoc']})\n",
    "YIELD score\n",
    "RETURN ID(o1), ID(o2), score, COLLECT(d.title)\n",
    "ORDER BY score DESC\n",
    "LIMIT 20"
   ]
  },
  {
   "cell_type": "code",
   "execution_count": 4,
   "id": "f59878d6",
   "metadata": {
    "scrolled": true
   },
   "outputs": [
    {
     "data": {
      "application/vnd.jupyter.widget-view+json": {
       "model_id": "44c19877c86d4132a0b7bdd577e3510a",
       "version_major": 2,
       "version_minor": 0
      },
      "text/plain": [
       "Tab(children=(Output(layout=Layout(max_height='600px', max_width='940px', overflow='scroll')), Output(layout=L…"
      ]
     },
     "metadata": {},
     "output_type": "display_data"
    }
   ],
   "source": [
    "%%oc\n",
    "MATCH (o:OrgKG_Organization) \n",
    "CALL neptune.algo.closenessCentrality(\n",
    "  o,\n",
    "  {\n",
    "    numSources: 1000,\n",
    "    traversalDirection: \"both\"\n",
    "  }\n",
    ")\n",
    "YIELD node, score\n",
    "RETURN ID(node), score\n",
    "ORDER BY score DESC"
   ]
  },
  {
   "cell_type": "code",
   "execution_count": 6,
   "id": "882208c8",
   "metadata": {
    "scrolled": true
   },
   "outputs": [
    {
     "data": {
      "application/vnd.jupyter.widget-view+json": {
       "model_id": "c52d13f2fb96477ab2507fe9c9b11c42",
       "version_major": 2,
       "version_minor": 0
      },
      "text/plain": [
       "Tab(children=(Output(layout=Layout(max_height='600px', max_width='940px', overflow='scroll')), Force(network=<…"
      ]
     },
     "metadata": {},
     "output_type": "display_data"
    }
   ],
   "source": [
    "%%oc\n",
    "\n",
    "MATCH p=(n:OrgKG_Organization {`~id`:'resolved_org_Tsawwassen First Nation'})-[e]-(n1)-[e2]-(n2)-[e3]-(n3)\n",
    "WHERE ID(n1) <> 'http://dbpedia.org/resource/Amazon_(company)' AND ID(n2) <> 'http://dbpedia.org/resource/Amazon_(company)' AND ID(n3) <> 'http://dbpedia.org/resource/Amazon_(company)'\n",
    "RETURN p\n",
    "//RETURN DISTINCT TYPE(e), ID(n1), TYPE(e2), ID(n2), COUNT(e2)\n"
   ]
  },
  {
   "cell_type": "code",
   "execution_count": 8,
   "id": "ceddf860",
   "metadata": {
    "scrolled": true
   },
   "outputs": [
    {
     "data": {
      "application/vnd.jupyter.widget-view+json": {
       "model_id": "fbca97266ece43aa9158ffb6022c717e",
       "version_major": 2,
       "version_minor": 0
      },
      "text/plain": [
       "Tab(children=(Output(layout=Layout(max_height='600px', max_width='940px', overflow='scroll')), Output(layout=L…"
      ]
     },
     "metadata": {},
     "output_type": "display_data"
    }
   ],
   "source": [
    "%%oc\n",
    "MATCH (o:OrgKG_Organization) \n",
    "CALL neptune.algo.pageRank(\n",
    "  o,\n",
    "  {\n",
    "  }\n",
    ")\n",
    "YIELD node, rank\n",
    "RETURN ID(node), rank\n",
    "ORDER BY rank DESC"
   ]
  },
  {
   "cell_type": "code",
   "execution_count": 29,
   "id": "7eac9040",
   "metadata": {
    "scrolled": false
   },
   "outputs": [
    {
     "data": {
      "application/vnd.jupyter.widget-view+json": {
       "model_id": "12b0b8cc30ee48a1bdd238cb79403436",
       "version_major": 2,
       "version_minor": 0
      },
      "text/plain": [
       "Tab(children=(Output(layout=Layout(max_height='600px', max_width='940px', overflow='scroll')), Force(network=<…"
      ]
     },
     "metadata": {},
     "output_type": "display_data"
    }
   ],
   "source": [
    "%%oc\n",
    "\n",
    "MATCH (n)\n",
    "CALL neptune.algo.scc(\n",
    "  n,\n",
    "  {\n",
    "  }\n",
    ")\n",
    "YIELD node, component\n",
    "WITH component, collect(node) as nodes_in_component\n",
    "ORDER BY SIZE(nodes_in_component) DESC\n",
    "RETURN component, SIZE(nodes_in_component) as cnt, nodes_in_component\n",
    "%LIMIT 10"
   ]
  },
  {
   "cell_type": "code",
   "execution_count": 30,
   "id": "3a1ec9dd",
   "metadata": {},
   "outputs": [
    {
     "data": {
      "application/vnd.jupyter.widget-view+json": {
       "model_id": "8aad663639ee47599abd89c015391aae",
       "version_major": 2,
       "version_minor": 0
      },
      "text/plain": [
       "Tab(children=(Output(layout=Layout(max_height='600px', max_width='940px', overflow='scroll')), Force(network=<…"
      ]
     },
     "metadata": {},
     "output_type": "display_data"
    }
   ],
   "source": [
    "%%oc\n",
    "\n",
    "MATCH (n)\n",
    "CALL neptune.algo.labelPropagation(\n",
    "n,\n",
    "  {\n",
    "  }\n",
    ")\n",
    "Yield node, community\n",
    "WITH community, collect(node) as nodes_in_component\n",
    "ORDER BY SIZE(nodes_in_component) DESC\n",
    "RETURN community, SIZE(nodes_in_component) as cnt, nodes_in_component\n",
    "LIMIT 10"
   ]
  },
  {
   "cell_type": "markdown",
   "id": "13747c74",
   "metadata": {},
   "source": [
    "## EXPLORATION QUERIES"
   ]
  },
  {
   "cell_type": "code",
   "execution_count": 26,
   "id": "648ddd22",
   "metadata": {},
   "outputs": [
    {
     "name": "stdout",
     "output_type": "stream",
     "text": [
      "{\n",
      "  \"results\" : [ {\n",
      "    \"p\" : [ {\n",
      "      \"~id\" : \"resolved_org_Tsawwassen First Nation\",\n",
      "      \"~entityType\" : \"node\",\n",
      "      \"~labels\" : [ \"OrgKG_Organization\" ],\n",
      "      \"~properties\" : {\n",
      "        \"name\" : \"Tsawwassen First Nation\"\n",
      "      }\n",
      "    }, {\n",
      "      \"~id\" : \"neptune_reserved_1_1152921551851945990\",\n",
      "      \"~entityType\" : \"relationship\",\n",
      "      \"~start\" : \"node__organization_tsawwassen_first_nation\",\n",
      "      \"~end\" : \"resolved_org_Tsawwassen First Nation\",\n",
      "      \"~type\" : \"resolvesToOrg\",\n",
      "      \"~properties\" : { }\n",
      "    }, {\n",
      "      \"~id\" : \"node__organization_tsawwassen_first_nation\",\n",
      "      \"~entityType\" : \"node\",\n",
      "      \"~labels\" : [ \"ORGANIZATION\" ],\n",
      "      \"~properties\" : {\n",
      "        \"names\" : \"Tsawwassen First Nation\",\n",
      "        \"primaryName\" : \"Tsawwassen First Nation\"\n",
      "      }\n",
      "    }, {\n",
      "      \"~id\" : \"neptune_reserved_1_1152921508902666247\",\n",
      "      \"~entityType\" : \"relationship\",\n",
      "      \"~start\" : \"node__event_e5184a80-8e37-43e0-b1d4-be3e59171178_investment_general_investments3981\",\n",
      "      \"~end\" : \"node__organization_tsawwassen_first_nation\",\n",
      "      \"~type\" : \"INVESTOR\",\n",
      "      \"~properties\" : { }\n",
      "    }, {\n",
      "      \"~id\" : \"node__event_e5184a80-8e37-43e0-b1d4-be3e59171178_investment_general_investments3981\",\n",
      "      \"~entityType\" : \"node\",\n",
      "      \"~labels\" : [ \"INVESTMENT_GENERAL\" ],\n",
      "      \"~properties\" : {\n",
      "        \"names\" : \"investments\",\n",
      "        \"primaryName\" : \"investments\"\n",
      "      }\n",
      "    }, {\n",
      "      \"~id\" : \"neptune_reserved_1_1152921504607371277\",\n",
      "      \"~entityType\" : \"relationship\",\n",
      "      \"~start\" : \"e5184a80-8e37-43e0-b1d4-be3e59171178\",\n",
      "      \"~end\" : \"node__event_e5184a80-8e37-43e0-b1d4-be3e59171178_investment_general_investments3981\",\n",
      "      \"~type\" : \"EVENT\",\n",
      "      \"~properties\" : { }\n",
      "    }, {\n",
      "      \"~id\" : \"e5184a80-8e37-43e0-b1d4-be3e59171178\",\n",
      "      \"~entityType\" : \"node\",\n",
      "      \"~labels\" : [ \"DOCUMENT\" ],\n",
      "      \"~properties\" : {\n",
      "        \"keywords\" : \"employs;hiring;investments\",\n",
      "        \"title\" : \"Amazon Expands in British Columbia with New Fulfillment Centre on Tsawwassen First Nation Lands at Deltaport\"\n",
      "      }\n",
      "    } ]\n",
      "  }, {\n",
      "    \"p\" : [ {\n",
      "      \"~id\" : \"resolved_org_Tsawwassen First Nation\",\n",
      "      \"~entityType\" : \"node\",\n",
      "      \"~labels\" : [ \"OrgKG_Organization\" ],\n",
      "      \"~properties\" : {\n",
      "        \"name\" : \"Tsawwassen First Nation\"\n",
      "      }\n",
      "    }, {\n",
      "      \"~id\" : \"neptune_reserved_1_1152921551851945990\",\n",
      "      \"~entityType\" : \"relationship\",\n",
      "      \"~start\" : \"node__organization_tsawwassen_first_nation\",\n",
      "      \"~end\" : \"resolved_org_Tsawwassen First Nation\",\n",
      "      \"~type\" : \"resolvesToOrg\",\n",
      "      \"~properties\" : { }\n",
      "    }, {\n",
      "      \"~id\" : \"node__organization_tsawwassen_first_nation\",\n",
      "      \"~entityType\" : \"node\",\n",
      "      \"~labels\" : [ \"ORGANIZATION\" ],\n",
      "      \"~properties\" : {\n",
      "        \"names\" : \"Tsawwassen First Nation\",\n",
      "        \"primaryName\" : \"Tsawwassen First Nation\"\n",
      "      }\n",
      "    }, {\n",
      "      \"~id\" : \"neptune_reserved_1_1152921508902666247\",\n",
      "      \"~entityType\" : \"relationship\",\n",
      "      \"~start\" : \"node__event_e5184a80-8e37-43e0-b1d4-be3e59171178_investment_general_investments3981\",\n",
      "      \"~end\" : \"node__organization_tsawwassen_first_nation\",\n",
      "      \"~type\" : \"INVESTOR\",\n",
      "      \"~properties\" : { }\n",
      "    }, {\n",
      "      \"~id\" : \"node__event_e5184a80-8e37-43e0-b1d4-be3e59171178_investment_general_investments3981\",\n",
      "      \"~entityType\" : \"node\",\n",
      "      \"~labels\" : [ \"INVESTMENT_GENERAL\" ],\n",
      "      \"~properties\" : {\n",
      "        \"names\" : \"investments\",\n",
      "        \"primaryName\" : \"investments\"\n",
      "      }\n",
      "    }, {\n",
      "      \"~id\" : \"neptune_reserved_1_1152921504607698951\",\n",
      "      \"~entityType\" : \"relationship\",\n",
      "      \"~start\" : \"node__event_e5184a80-8e37-43e0-b1d4-be3e59171178_investment_general_investments3981\",\n",
      "      \"~end\" : \"node__facility_infrastructure\",\n",
      "      \"~type\" : \"INVESTMENT_PLACE\",\n",
      "      \"~properties\" : { }\n",
      "    }, {\n",
      "      \"~id\" : \"node__facility_infrastructure\",\n",
      "      \"~entityType\" : \"node\",\n",
      "      \"~labels\" : [ \"FACILITY\" ],\n",
      "      \"~properties\" : {\n",
      "        \"names\" : \"infrastructure\",\n",
      "        \"primaryName\" : \"infrastructure\"\n",
      "      }\n",
      "    } ]\n",
      "  }, {\n",
      "    \"p\" : [ {\n",
      "      \"~id\" : \"resolved_org_Tsawwassen First Nation\",\n",
      "      \"~entityType\" : \"node\",\n",
      "      \"~labels\" : [ \"OrgKG_Organization\" ],\n",
      "      \"~properties\" : {\n",
      "        \"name\" : \"Tsawwassen First Nation\"\n",
      "      }\n",
      "    }, {\n",
      "      \"~id\" : \"neptune_reserved_1_1152921895449264136\",\n",
      "      \"~entityType\" : \"relationship\",\n",
      "      \"~start\" : \"resolved_org_Tsawwassen First Nation\",\n",
      "      \"~end\" : \"e5184a80-8e37-43e0-b1d4-be3e59171178\",\n",
      "      \"~type\" : \"referencedByDoc\",\n",
      "      \"~properties\" : { }\n",
      "    }, {\n",
      "      \"~id\" : \"e5184a80-8e37-43e0-b1d4-be3e59171178\",\n",
      "      \"~entityType\" : \"node\",\n",
      "      \"~labels\" : [ \"DOCUMENT\" ],\n",
      "      \"~properties\" : {\n",
      "        \"keywords\" : \"employs;hiring;investments\",\n",
      "        \"title\" : \"Amazon Expands in British Columbia with New Fulfillment Centre on Tsawwassen First Nation Lands at Deltaport\"\n",
      "      }\n",
      "    }, {\n",
      "      \"~id\" : \"neptune_reserved_1_1152921513197305856\",\n",
      "      \"~entityType\" : \"relationship\",\n",
      "      \"~start\" : \"e5184a80-8e37-43e0-b1d4-be3e59171178\",\n",
      "      \"~end\" : \"node__event_e5184a80-8e37-43e0-b1d4-be3e59171178_employment_change_create18\",\n",
      "      \"~type\" : \"EVENT\",\n",
      "      \"~properties\" : { }\n",
      "    }, {\n",
      "      \"~id\" : \"node__event_e5184a80-8e37-43e0-b1d4-be3e59171178_employment_change_create18\",\n",
      "      \"~entityType\" : \"node\",\n",
      "      \"~labels\" : [ \"EMPLOYMENT_CHANGE\" ],\n",
      "      \"~properties\" : {\n",
      "        \"names\" : [ \"create\", \"working\" ],\n",
      "        \"primaryName\" : \"create\"\n",
      "      }\n",
      "    }, {\n",
      "      \"~id\" : \"neptune_reserved_1_1152921508901814276\",\n",
      "      \"~entityType\" : \"relationship\",\n",
      "      \"~start\" : \"node__event_e5184a80-8e37-43e0-b1d4-be3e59171178_employment_change_create18\",\n",
      "      \"~end\" : \"node__date_in_2019\",\n",
      "      \"~type\" : \"START_DATE\",\n",
      "      \"~properties\" : { }\n",
      "    }, {\n",
      "      \"~id\" : \"node__date_in_2019\",\n",
      "      \"~entityType\" : \"node\",\n",
      "      \"~labels\" : [ \"DATE\" ],\n",
      "      \"~properties\" : {\n",
      "        \"names\" : [ \"in 2019\", \"in 2018\", \"this year\", \"In 2019\", \"year\" ],\n",
      "        \"primaryName\" : [ \"in 2019\", \"In 2019\" ]\n",
      "      }\n",
      "    } ]\n",
      "  }, {\n",
      "    \"p\" : [ {\n",
      "      \"~id\" : \"resolved_org_Tsawwassen First Nation\",\n",
      "      \"~entityType\" : \"node\",\n",
      "      \"~labels\" : [ \"OrgKG_Organization\" ],\n",
      "      \"~properties\" : {\n",
      "        \"name\" : \"Tsawwassen First Nation\"\n",
      "      }\n",
      "    }, {\n",
      "      \"~id\" : \"neptune_reserved_1_1152921895449264136\",\n",
      "      \"~entityType\" : \"relationship\",\n",
      "      \"~start\" : \"resolved_org_Tsawwassen First Nation\",\n",
      "      \"~end\" : \"e5184a80-8e37-43e0-b1d4-be3e59171178\",\n",
      "      \"~type\" : \"referencedByDoc\",\n",
      "      \"~properties\" : { }\n",
      "    }, {\n",
      "      \"~id\" : \"e5184a80-8e37-43e0-b1d4-be3e59171178\",\n",
      "      \"~entityType\" : \"node\",\n",
      "      \"~labels\" : [ \"DOCUMENT\" ],\n",
      "      \"~properties\" : {\n",
      "        \"keywords\" : \"employs;hiring;investments\",\n",
      "        \"title\" : \"Amazon Expands in British Columbia with New Fulfillment Centre on Tsawwassen First Nation Lands at Deltaport\"\n",
      "      }\n",
      "    }, {\n",
      "      \"~id\" : \"neptune_reserved_1_1152921513197305856\",\n",
      "      \"~entityType\" : \"relationship\",\n",
      "      \"~start\" : \"e5184a80-8e37-43e0-b1d4-be3e59171178\",\n",
      "      \"~end\" : \"node__event_e5184a80-8e37-43e0-b1d4-be3e59171178_employment_change_create18\",\n",
      "      \"~type\" : \"EVENT\",\n",
      "      \"~properties\" : { }\n",
      "    }, {\n",
      "      \"~id\" : \"node__event_e5184a80-8e37-43e0-b1d4-be3e59171178_employment_change_create18\",\n",
      "      \"~entityType\" : \"node\",\n",
      "      \"~labels\" : [ \"EMPLOYMENT_CHANGE\" ],\n",
      "      \"~properties\" : {\n",
      "        \"names\" : [ \"create\", \"working\" ],\n",
      "        \"primaryName\" : \"create\"\n",
      "      }\n",
      "    }, {\n",
      "      \"~id\" : \"neptune_reserved_1_1152921504606846987\",\n",
      "      \"~entityType\" : \"relationship\",\n",
      "      \"~start\" : \"node__event_e5184a80-8e37-43e0-b1d4-be3e59171178_employment_change_create18\",\n",
      "      \"~end\" : \"node__date_september_27,_2018\",\n",
      "      \"~type\" : \"ANNOUNCEMENT_DATE\",\n",
      "      \"~properties\" : { }\n",
      "    }, {\n",
      "      \"~id\" : \"node__date_september_27,_2018\",\n",
      "      \"~entityType\" : \"node\",\n",
      "      \"~labels\" : [ \"DATE\" ],\n",
      "      \"~properties\" : {\n",
      "        \"names\" : [ \"September 27, 2018\", \"today\" ],\n",
      "        \"primaryName\" : \"September 27, 2018\"\n",
      "      }\n",
      "    } ]\n",
      "  }, {\n",
      "    \"p\" : [ {\n",
      "      \"~id\" : \"resolved_org_Tsawwassen First Nation\",\n",
      "      \"~entityType\" : \"node\",\n",
      "      \"~labels\" : [ \"OrgKG_Organization\" ],\n",
      "      \"~properties\" : {\n",
      "        \"name\" : \"Tsawwassen First Nation\"\n",
      "      }\n",
      "    }, {\n",
      "      \"~id\" : \"neptune_reserved_1_1152921895449264136\",\n",
      "      \"~entityType\" : \"relationship\",\n",
      "      \"~start\" : \"resolved_org_Tsawwassen First Nation\",\n",
      "      \"~end\" : \"e5184a80-8e37-43e0-b1d4-be3e59171178\",\n",
      "      \"~type\" : \"referencedByDoc\",\n",
      "      \"~properties\" : { }\n",
      "    }, {\n",
      "      \"~id\" : \"e5184a80-8e37-43e0-b1d4-be3e59171178\",\n",
      "      \"~entityType\" : \"node\",\n",
      "      \"~labels\" : [ \"DOCUMENT\" ],\n",
      "      \"~properties\" : {\n",
      "        \"keywords\" : \"employs;hiring;investments\",\n",
      "        \"title\" : \"Amazon Expands in British Columbia with New Fulfillment Centre on Tsawwassen First Nation Lands at Deltaport\"\n",
      "      }\n",
      "    }, {\n",
      "      \"~id\" : \"neptune_reserved_1_1152921513197305856\",\n",
      "      \"~entityType\" : \"relationship\",\n",
      "      \"~start\" : \"e5184a80-8e37-43e0-b1d4-be3e59171178\",\n",
      "      \"~end\" : \"node__event_e5184a80-8e37-43e0-b1d4-be3e59171178_employment_change_create18\",\n",
      "      \"~type\" : \"EVENT\",\n",
      "      \"~properties\" : { }\n",
      "    }, {\n",
      "      \"~id\" : \"node__event_e5184a80-8e37-43e0-b1d4-be3e59171178_employment_change_create18\",\n",
      "      \"~entityType\" : \"node\",\n",
      "      \"~labels\" : [ \"EMPLOYMENT_CHANGE\" ],\n",
      "      \"~properties\" : {\n",
      "        \"names\" : [ \"create\", \"working\" ],\n",
      "        \"primaryName\" : \"create\"\n",
      "      }\n",
      "    }, {\n",
      "      \"~id\" : \"neptune_reserved_1_1152921543261552654\",\n",
      "      \"~entityType\" : \"relationship\",\n",
      "      \"~start\" : \"node__event_e5184a80-8e37-43e0-b1d4-be3e59171178_employment_change_create18\",\n",
      "      \"~end\" : \"node__organization_amazon\",\n",
      "      \"~type\" : \"EMPLOYER\",\n",
      "      \"~properties\" : { }\n",
      "    }, {\n",
      "      \"~id\" : \"node__organization_amazon\",\n",
      "      \"~entityType\" : \"node\",\n",
      "      \"~labels\" : [ \"ORGANIZATION\" ],\n",
      "      \"~properties\" : {\n",
      "        \"names\" : [ \"Amazon\", \"Amazon.com\", \"we\", \"Alexa\", \"it\", \"business\", \"We\", \"Amazon Hub\", \"us\", \"company\", \"Amazon Handmade\", \"Amazon Future Engineer\", \"Engineer\", \"Amazon Marketplace Appstore\", \"Amazon.com, Inc.\", \"leader\" ],\n",
      "        \"primaryName\" : \"Amazon\"\n",
      "      }\n",
      "    } ]\n",
      "  }, {\n",
      "    \"p\" : [ {\n",
      "      \"~id\" : \"resolved_org_Tsawwassen First Nation\",\n",
      "      \"~entityType\" : \"node\",\n",
      "      \"~labels\" : [ \"OrgKG_Organization\" ],\n",
      "      \"~properties\" : {\n",
      "        \"name\" : \"Tsawwassen First Nation\"\n",
      "      }\n",
      "    }, {\n",
      "      \"~id\" : \"neptune_reserved_1_1152921895449264136\",\n",
      "      \"~entityType\" : \"relationship\",\n",
      "      \"~start\" : \"resolved_org_Tsawwassen First Nation\",\n",
      "      \"~end\" : \"e5184a80-8e37-43e0-b1d4-be3e59171178\",\n",
      "      \"~type\" : \"referencedByDoc\",\n",
      "      \"~properties\" : { }\n",
      "    }, {\n",
      "      \"~id\" : \"e5184a80-8e37-43e0-b1d4-be3e59171178\",\n",
      "      \"~entityType\" : \"node\",\n",
      "      \"~labels\" : [ \"DOCUMENT\" ],\n",
      "      \"~properties\" : {\n",
      "        \"keywords\" : \"employs;hiring;investments\",\n",
      "        \"title\" : \"Amazon Expands in British Columbia with New Fulfillment Centre on Tsawwassen First Nation Lands at Deltaport\"\n",
      "      }\n",
      "    }, {\n",
      "      \"~id\" : \"neptune_reserved_1_1152921504607371265\",\n",
      "      \"~entityType\" : \"relationship\",\n",
      "      \"~start\" : \"e5184a80-8e37-43e0-b1d4-be3e59171178\",\n",
      "      \"~end\" : \"node__event_e5184a80-8e37-43e0-b1d4-be3e59171178_employment_change_employs616\",\n",
      "      \"~type\" : \"EVENT\",\n",
      "      \"~properties\" : { }\n",
      "    }, {\n",
      "      \"~id\" : \"node__event_e5184a80-8e37-43e0-b1d4-be3e59171178_employment_change_employs616\",\n",
      "      \"~entityType\" : \"node\",\n",
      "      \"~labels\" : [ \"EMPLOYMENT_CHANGE\" ],\n",
      "      \"~properties\" : {\n",
      "        \"names\" : \"employs\",\n",
      "        \"primaryName\" : \"employs\"\n",
      "      }\n",
      "    }, {\n",
      "      \"~id\" : \"neptune_reserved_1_1152921513196847108\",\n",
      "      \"~entityType\" : \"relationship\",\n",
      "      \"~start\" : \"node__event_e5184a80-8e37-43e0-b1d4-be3e59171178_employment_change_employs616\",\n",
      "      \"~end\" : \"node__person_columbians\",\n",
      "      \"~type\" : \"EMPLOYEE\",\n",
      "      \"~properties\" : { }\n",
      "    }, {\n",
      "      \"~id\" : \"node__person_columbians\",\n",
      "      \"~entityType\" : \"node\",\n",
      "      \"~labels\" : [ \"PERSON\" ],\n",
      "      \"~properties\" : {\n",
      "        \"names\" : \"Columbians\",\n",
      "        \"primaryName\" : \"Columbians\"\n",
      "      }\n",
      "    } ]\n",
      "  }, {\n",
      "    \"p\" : [ {\n",
      "      \"~id\" : \"resolved_org_Tsawwassen First Nation\",\n",
      "      \"~entityType\" : \"node\",\n",
      "      \"~labels\" : [ \"OrgKG_Organization\" ],\n",
      "      \"~properties\" : {\n",
      "        \"name\" : \"Tsawwassen First Nation\"\n",
      "      }\n",
      "    }, {\n",
      "      \"~id\" : \"neptune_reserved_1_1152921895449264136\",\n",
      "      \"~entityType\" : \"relationship\",\n",
      "      \"~start\" : \"resolved_org_Tsawwassen First Nation\",\n",
      "      \"~end\" : \"e5184a80-8e37-43e0-b1d4-be3e59171178\",\n",
      "      \"~type\" : \"referencedByDoc\",\n",
      "      \"~properties\" : { }\n",
      "    }, {\n",
      "      \"~id\" : \"e5184a80-8e37-43e0-b1d4-be3e59171178\",\n",
      "      \"~entityType\" : \"node\",\n",
      "      \"~labels\" : [ \"DOCUMENT\" ],\n",
      "      \"~properties\" : {\n",
      "        \"keywords\" : \"employs;hiring;investments\",\n",
      "        \"title\" : \"Amazon Expands in British Columbia with New Fulfillment Centre on Tsawwassen First Nation Lands at Deltaport\"\n",
      "      }\n",
      "    }, {\n",
      "      \"~id\" : \"neptune_reserved_1_1152921504607371265\",\n",
      "      \"~entityType\" : \"relationship\",\n",
      "      \"~start\" : \"e5184a80-8e37-43e0-b1d4-be3e59171178\",\n",
      "      \"~end\" : \"node__event_e5184a80-8e37-43e0-b1d4-be3e59171178_employment_change_employs616\",\n",
      "      \"~type\" : \"EVENT\",\n",
      "      \"~properties\" : { }\n",
      "    }, {\n",
      "      \"~id\" : \"node__event_e5184a80-8e37-43e0-b1d4-be3e59171178_employment_change_employs616\",\n",
      "      \"~entityType\" : \"node\",\n",
      "      \"~labels\" : [ \"EMPLOYMENT_CHANGE\" ],\n",
      "      \"~properties\" : {\n",
      "        \"names\" : \"employs\",\n",
      "        \"primaryName\" : \"employs\"\n",
      "      }\n",
      "    }, {\n",
      "      \"~id\" : \"neptune_reserved_1_1152921534671683598\",\n",
      "      \"~entityType\" : \"relationship\",\n",
      "      \"~start\" : \"node__event_e5184a80-8e37-43e0-b1d4-be3e59171178_employment_change_employs616\",\n",
      "      \"~end\" : \"node__organization_amazon\",\n",
      "      \"~type\" : \"EMPLOYER\",\n",
      "      \"~properties\" : { }\n",
      "    }, {\n",
      "      \"~id\" : \"node__organization_amazon\",\n",
      "      \"~entityType\" : \"node\",\n",
      "      \"~labels\" : [ \"ORGANIZATION\" ],\n",
      "      \"~properties\" : {\n",
      "        \"names\" : [ \"Amazon\", \"Amazon.com\", \"we\", \"Alexa\", \"it\", \"business\", \"We\", \"Amazon Hub\", \"us\", \"company\", \"Amazon Handmade\", \"Amazon Future Engineer\", \"Engineer\", \"Amazon Marketplace Appstore\", \"Amazon.com, Inc.\", \"leader\" ],\n",
      "        \"primaryName\" : \"Amazon\"\n",
      "      }\n",
      "    } ]\n",
      "  }, {\n",
      "    \"p\" : [ {\n",
      "      \"~id\" : \"resolved_org_Tsawwassen First Nation\",\n",
      "      \"~entityType\" : \"node\",\n",
      "      \"~labels\" : [ \"OrgKG_Organization\" ],\n",
      "      \"~properties\" : {\n",
      "        \"name\" : \"Tsawwassen First Nation\"\n",
      "      }\n",
      "    }, {\n",
      "      \"~id\" : \"neptune_reserved_1_1152921895449264136\",\n",
      "      \"~entityType\" : \"relationship\",\n",
      "      \"~start\" : \"resolved_org_Tsawwassen First Nation\",\n",
      "      \"~end\" : \"e5184a80-8e37-43e0-b1d4-be3e59171178\",\n",
      "      \"~type\" : \"referencedByDoc\",\n",
      "      \"~properties\" : { }\n",
      "    }, {\n",
      "      \"~id\" : \"e5184a80-8e37-43e0-b1d4-be3e59171178\",\n",
      "      \"~entityType\" : \"node\",\n",
      "      \"~labels\" : [ \"DOCUMENT\" ],\n",
      "      \"~properties\" : {\n",
      "        \"keywords\" : \"employs;hiring;investments\",\n",
      "        \"title\" : \"Amazon Expands in British Columbia with New Fulfillment Centre on Tsawwassen First Nation Lands at Deltaport\"\n",
      "      }\n",
      "    }, {\n",
      "      \"~id\" : \"neptune_reserved_1_1152921508902338561\",\n",
      "      \"~entityType\" : \"relationship\",\n",
      "      \"~start\" : \"e5184a80-8e37-43e0-b1d4-be3e59171178\",\n",
      "      \"~end\" : \"node__event_e5184a80-8e37-43e0-b1d4-be3e59171178_employment_change_create1410\",\n",
      "      \"~type\" : \"EVENT\",\n",
      "      \"~properties\" : { }\n",
      "    }, {\n",
      "      \"~id\" : \"node__event_e5184a80-8e37-43e0-b1d4-be3e59171178_employment_change_create1410\",\n",
      "      \"~entityType\" : \"node\",\n",
      "      \"~labels\" : [ \"EMPLOYMENT_CHANGE\" ],\n",
      "      \"~properties\" : {\n",
      "        \"names\" : \"create\",\n",
      "        \"primaryName\" : \"create\"\n",
      "      }\n",
      "    }, {\n",
      "      \"~id\" : \"neptune_reserved_1_1152921538966650894\",\n",
      "      \"~entityType\" : \"relationship\",\n",
      "      \"~start\" : \"node__event_e5184a80-8e37-43e0-b1d4-be3e59171178_employment_change_create1410\",\n",
      "      \"~end\" : \"node__organization_amazon\",\n",
      "      \"~type\" : \"EMPLOYER\",\n",
      "      \"~properties\" : { }\n",
      "    }, {\n",
      "      \"~id\" : \"node__organization_amazon\",\n",
      "      \"~entityType\" : \"node\",\n",
      "      \"~labels\" : [ \"ORGANIZATION\" ],\n",
      "      \"~properties\" : {\n",
      "        \"names\" : [ \"Amazon\", \"Amazon.com\", \"we\", \"Alexa\", \"it\", \"business\", \"We\", \"Amazon Hub\", \"us\", \"company\", \"Amazon Handmade\", \"Amazon Future Engineer\", \"Engineer\", \"Amazon Marketplace Appstore\", \"Amazon.com, Inc.\", \"leader\" ],\n",
      "        \"primaryName\" : \"Amazon\"\n",
      "      }\n",
      "    } ]\n",
      "  }, {\n",
      "    \"p\" : [ {\n",
      "      \"~id\" : \"resolved_org_Tsawwassen First Nation\",\n",
      "      \"~entityType\" : \"node\",\n",
      "      \"~labels\" : [ \"OrgKG_Organization\" ],\n",
      "      \"~properties\" : {\n",
      "        \"name\" : \"Tsawwassen First Nation\"\n",
      "      }\n",
      "    }, {\n",
      "      \"~id\" : \"neptune_reserved_1_1152921895449264136\",\n",
      "      \"~entityType\" : \"relationship\",\n",
      "      \"~start\" : \"resolved_org_Tsawwassen First Nation\",\n",
      "      \"~end\" : \"e5184a80-8e37-43e0-b1d4-be3e59171178\",\n",
      "      \"~type\" : \"referencedByDoc\",\n",
      "      \"~properties\" : { }\n",
      "    }, {\n",
      "      \"~id\" : \"e5184a80-8e37-43e0-b1d4-be3e59171178\",\n",
      "      \"~entityType\" : \"node\",\n",
      "      \"~labels\" : [ \"DOCUMENT\" ],\n",
      "      \"~properties\" : {\n",
      "        \"keywords\" : \"employs;hiring;investments\",\n",
      "        \"title\" : \"Amazon Expands in British Columbia with New Fulfillment Centre on Tsawwassen First Nation Lands at Deltaport\"\n",
      "      }\n",
      "    }, {\n",
      "      \"~id\" : \"neptune_reserved_1_1152921504607371269\",\n",
      "      \"~entityType\" : \"relationship\",\n",
      "      \"~start\" : \"e5184a80-8e37-43e0-b1d4-be3e59171178\",\n",
      "      \"~end\" : \"node__event_e5184a80-8e37-43e0-b1d4-be3e59171178_employment_change_employs525\",\n",
      "      \"~type\" : \"EVENT\",\n",
      "      \"~properties\" : { }\n",
      "    }, {\n",
      "      \"~id\" : \"node__event_e5184a80-8e37-43e0-b1d4-be3e59171178_employment_change_employs525\",\n",
      "      \"~entityType\" : \"node\",\n",
      "      \"~labels\" : [ \"EMPLOYMENT_CHANGE\" ],\n",
      "      \"~properties\" : {\n",
      "        \"names\" : \"employs\",\n",
      "        \"primaryName\" : \"employs\"\n",
      "      }\n",
      "    }, {\n",
      "      \"~id\" : \"neptune_reserved_1_1152921508902141953\",\n",
      "      \"~entityType\" : \"relationship\",\n",
      "      \"~start\" : \"node__event_e5184a80-8e37-43e0-b1d4-be3e59171178_employment_change_employs525\",\n",
      "      \"~end\" : \"node__person_associates\",\n",
      "      \"~type\" : \"EMPLOYEE\",\n",
      "      \"~properties\" : { }\n",
      "    }, {\n",
      "      \"~id\" : \"node__person_associates\",\n",
      "      \"~entityType\" : \"node\",\n",
      "      \"~labels\" : [ \"PERSON\" ],\n",
      "      \"~properties\" : {\n",
      "        \"names\" : [ \"Associates\", \"associates\" ],\n",
      "        \"primaryName\" : \"associates\"\n",
      "      }\n",
      "    } ]\n",
      "  }, {\n",
      "    \"p\" : [ {\n",
      "      \"~id\" : \"resolved_org_Tsawwassen First Nation\",\n",
      "      \"~entityType\" : \"node\",\n",
      "      \"~labels\" : [ \"OrgKG_Organization\" ],\n",
      "      \"~properties\" : {\n",
      "        \"name\" : \"Tsawwassen First Nation\"\n",
      "      }\n",
      "    }, {\n",
      "      \"~id\" : \"neptune_reserved_1_1152921895449264136\",\n",
      "      \"~entityType\" : \"relationship\",\n",
      "      \"~start\" : \"resolved_org_Tsawwassen First Nation\",\n",
      "      \"~end\" : \"e5184a80-8e37-43e0-b1d4-be3e59171178\",\n",
      "      \"~type\" : \"referencedByDoc\",\n",
      "      \"~properties\" : { }\n",
      "    }, {\n",
      "      \"~id\" : \"e5184a80-8e37-43e0-b1d4-be3e59171178\",\n",
      "      \"~entityType\" : \"node\",\n",
      "      \"~labels\" : [ \"DOCUMENT\" ],\n",
      "      \"~properties\" : {\n",
      "        \"keywords\" : \"employs;hiring;investments\",\n",
      "        \"title\" : \"Amazon Expands in British Columbia with New Fulfillment Centre on Tsawwassen First Nation Lands at Deltaport\"\n",
      "      }\n",
      "    }, {\n",
      "      \"~id\" : \"neptune_reserved_1_1152921504607371269\",\n",
      "      \"~entityType\" : \"relationship\",\n",
      "      \"~start\" : \"e5184a80-8e37-43e0-b1d4-be3e59171178\",\n",
      "      \"~end\" : \"node__event_e5184a80-8e37-43e0-b1d4-be3e59171178_employment_change_employs525\",\n",
      "      \"~type\" : \"EVENT\",\n",
      "      \"~properties\" : { }\n",
      "    }, {\n",
      "      \"~id\" : \"node__event_e5184a80-8e37-43e0-b1d4-be3e59171178_employment_change_employs525\",\n",
      "      \"~entityType\" : \"node\",\n",
      "      \"~labels\" : [ \"EMPLOYMENT_CHANGE\" ],\n",
      "      \"~properties\" : {\n",
      "        \"names\" : \"employs\",\n",
      "        \"primaryName\" : \"employs\"\n",
      "      }\n",
      "    }, {\n",
      "      \"~id\" : \"neptune_reserved_1_1152921521787043854\",\n",
      "      \"~entityType\" : \"relationship\",\n",
      "      \"~start\" : \"node__event_e5184a80-8e37-43e0-b1d4-be3e59171178_employment_change_employs525\",\n",
      "      \"~end\" : \"node__organization_amazon\",\n",
      "      \"~type\" : \"EMPLOYER\",\n",
      "      \"~properties\" : { }\n",
      "    }, {\n",
      "      \"~id\" : \"node__organization_amazon\",\n",
      "      \"~entityType\" : \"node\",\n",
      "      \"~labels\" : [ \"ORGANIZATION\" ],\n",
      "      \"~properties\" : {\n",
      "        \"names\" : [ \"Amazon\", \"Amazon.com\", \"we\", \"Alexa\", \"it\", \"business\", \"We\", \"Amazon Hub\", \"us\", \"company\", \"Amazon Handmade\", \"Amazon Future Engineer\", \"Engineer\", \"Amazon Marketplace Appstore\", \"Amazon.com, Inc.\", \"leader\" ],\n",
      "        \"primaryName\" : \"Amazon\"\n",
      "      }\n",
      "    } ]\n",
      "  }, {\n",
      "    \"p\" : [ {\n",
      "      \"~id\" : \"resolved_org_Tsawwassen First Nation\",\n",
      "      \"~entityType\" : \"node\",\n",
      "      \"~labels\" : [ \"OrgKG_Organization\" ],\n",
      "      \"~properties\" : {\n",
      "        \"name\" : \"Tsawwassen First Nation\"\n",
      "      }\n",
      "    }, {\n",
      "      \"~id\" : \"neptune_reserved_1_1152921895449264136\",\n",
      "      \"~entityType\" : \"relationship\",\n",
      "      \"~start\" : \"resolved_org_Tsawwassen First Nation\",\n",
      "      \"~end\" : \"e5184a80-8e37-43e0-b1d4-be3e59171178\",\n",
      "      \"~type\" : \"referencedByDoc\",\n",
      "      \"~properties\" : { }\n",
      "    }, {\n",
      "      \"~id\" : \"e5184a80-8e37-43e0-b1d4-be3e59171178\",\n",
      "      \"~entityType\" : \"node\",\n",
      "      \"~labels\" : [ \"DOCUMENT\" ],\n",
      "      \"~properties\" : {\n",
      "        \"keywords\" : \"employs;hiring;investments\",\n",
      "        \"title\" : \"Amazon Expands in British Columbia with New Fulfillment Centre on Tsawwassen First Nation Lands at Deltaport\"\n",
      "      }\n",
      "    }, {\n",
      "      \"~id\" : \"neptune_reserved_1_1152921517492273162\",\n",
      "      \"~entityType\" : \"relationship\",\n",
      "      \"~start\" : \"e5184a80-8e37-43e0-b1d4-be3e59171178\",\n",
      "      \"~end\" : \"node__event_e5184a80-8e37-43e0-b1d4-be3e59171178_employment_change_employs710\",\n",
      "      \"~type\" : \"EVENT\",\n",
      "      \"~properties\" : { }\n",
      "    }, {\n",
      "      \"~id\" : \"node__event_e5184a80-8e37-43e0-b1d4-be3e59171178_employment_change_employs710\",\n",
      "      \"~entityType\" : \"node\",\n",
      "      \"~labels\" : [ \"EMPLOYMENT_CHANGE\" ],\n",
      "      \"~properties\" : {\n",
      "        \"names\" : [ \"employs\", \"hiring\" ],\n",
      "        \"primaryName\" : \"employs\"\n",
      "      }\n",
      "    }, {\n",
      "      \"~id\" : \"neptune_reserved_1_1152921517492404224\",\n",
      "      \"~entityType\" : \"relationship\",\n",
      "      \"~start\" : \"node__event_e5184a80-8e37-43e0-b1d4-be3e59171178_employment_change_employs710\",\n",
      "      \"~end\" : \"node__date_currently\",\n",
      "      \"~type\" : \"START_DATE\",\n",
      "      \"~properties\" : { }\n",
      "    }, {\n",
      "      \"~id\" : \"node__date_currently\",\n",
      "      \"~entityType\" : \"node\",\n",
      "      \"~labels\" : [ \"DATE\" ],\n",
      "      \"~properties\" : {\n",
      "        \"names\" : \"currently\",\n",
      "        \"primaryName\" : \"currently\"\n",
      "      }\n",
      "    } ]\n",
      "  }, {\n",
      "    \"p\" : [ {\n",
      "      \"~id\" : \"resolved_org_Tsawwassen First Nation\",\n",
      "      \"~entityType\" : \"node\",\n",
      "      \"~labels\" : [ \"OrgKG_Organization\" ],\n",
      "      \"~properties\" : {\n",
      "        \"name\" : \"Tsawwassen First Nation\"\n",
      "      }\n",
      "    }, {\n",
      "      \"~id\" : \"neptune_reserved_1_1152921895449264136\",\n",
      "      \"~entityType\" : \"relationship\",\n",
      "      \"~start\" : \"resolved_org_Tsawwassen First Nation\",\n",
      "      \"~end\" : \"e5184a80-8e37-43e0-b1d4-be3e59171178\",\n",
      "      \"~type\" : \"referencedByDoc\",\n",
      "      \"~properties\" : { }\n",
      "    }, {\n",
      "      \"~id\" : \"e5184a80-8e37-43e0-b1d4-be3e59171178\",\n",
      "      \"~entityType\" : \"node\",\n",
      "      \"~labels\" : [ \"DOCUMENT\" ],\n",
      "      \"~properties\" : {\n",
      "        \"keywords\" : \"employs;hiring;investments\",\n",
      "        \"title\" : \"Amazon Expands in British Columbia with New Fulfillment Centre on Tsawwassen First Nation Lands at Deltaport\"\n",
      "      }\n",
      "    }, {\n",
      "      \"~id\" : \"neptune_reserved_1_1152921517492273162\",\n",
      "      \"~entityType\" : \"relationship\",\n",
      "      \"~start\" : \"e5184a80-8e37-43e0-b1d4-be3e59171178\",\n",
      "      \"~end\" : \"node__event_e5184a80-8e37-43e0-b1d4-be3e59171178_employment_change_employs710\",\n",
      "      \"~type\" : \"EVENT\",\n",
      "      \"~properties\" : { }\n",
      "    }, {\n",
      "      \"~id\" : \"node__event_e5184a80-8e37-43e0-b1d4-be3e59171178_employment_change_employs710\",\n",
      "      \"~entityType\" : \"node\",\n",
      "      \"~labels\" : [ \"EMPLOYMENT_CHANGE\" ],\n",
      "      \"~properties\" : {\n",
      "        \"names\" : [ \"employs\", \"hiring\" ],\n",
      "        \"primaryName\" : \"employs\"\n",
      "      }\n",
      "    }, {\n",
      "      \"~id\" : \"neptune_reserved_1_1152921517492404230\",\n",
      "      \"~entityType\" : \"relationship\",\n",
      "      \"~start\" : \"node__event_e5184a80-8e37-43e0-b1d4-be3e59171178_employment_change_employs710\",\n",
      "      \"~end\" : \"node__person_people\",\n",
      "      \"~type\" : \"EMPLOYEE\",\n",
      "      \"~properties\" : { }\n",
      "    }, {\n",
      "      \"~id\" : \"node__person_people\",\n",
      "      \"~entityType\" : \"node\",\n",
      "      \"~labels\" : [ \"PERSON\" ],\n",
      "      \"~properties\" : {\n",
      "        \"names\" : \"people\",\n",
      "        \"primaryName\" : \"people\"\n",
      "      }\n",
      "    } ]\n",
      "  }, {\n",
      "    \"p\" : [ {\n",
      "      \"~id\" : \"resolved_org_Tsawwassen First Nation\",\n",
      "      \"~entityType\" : \"node\",\n",
      "      \"~labels\" : [ \"OrgKG_Organization\" ],\n",
      "      \"~properties\" : {\n",
      "        \"name\" : \"Tsawwassen First Nation\"\n",
      "      }\n",
      "    }, {\n",
      "      \"~id\" : \"neptune_reserved_1_1152921895449264136\",\n",
      "      \"~entityType\" : \"relationship\",\n",
      "      \"~start\" : \"resolved_org_Tsawwassen First Nation\",\n",
      "      \"~end\" : \"e5184a80-8e37-43e0-b1d4-be3e59171178\",\n",
      "      \"~type\" : \"referencedByDoc\",\n",
      "      \"~properties\" : { }\n",
      "    }, {\n",
      "      \"~id\" : \"e5184a80-8e37-43e0-b1d4-be3e59171178\",\n",
      "      \"~entityType\" : \"node\",\n",
      "      \"~labels\" : [ \"DOCUMENT\" ],\n",
      "      \"~properties\" : {\n",
      "        \"keywords\" : \"employs;hiring;investments\",\n",
      "        \"title\" : \"Amazon Expands in British Columbia with New Fulfillment Centre on Tsawwassen First Nation Lands at Deltaport\"\n",
      "      }\n",
      "    }, {\n",
      "      \"~id\" : \"neptune_reserved_1_1152921517492273162\",\n",
      "      \"~entityType\" : \"relationship\",\n",
      "      \"~start\" : \"e5184a80-8e37-43e0-b1d4-be3e59171178\",\n",
      "      \"~end\" : \"node__event_e5184a80-8e37-43e0-b1d4-be3e59171178_employment_change_employs710\",\n",
      "      \"~type\" : \"EVENT\",\n",
      "      \"~properties\" : { }\n",
      "    }, {\n",
      "      \"~id\" : \"node__event_e5184a80-8e37-43e0-b1d4-be3e59171178_employment_change_employs710\",\n",
      "      \"~entityType\" : \"node\",\n",
      "      \"~labels\" : [ \"EMPLOYMENT_CHANGE\" ],\n",
      "      \"~properties\" : {\n",
      "        \"names\" : [ \"employs\", \"hiring\" ],\n",
      "        \"primaryName\" : \"employs\"\n",
      "      }\n",
      "    }, {\n",
      "      \"~id\" : \"neptune_reserved_1_1152921530377306126\",\n",
      "      \"~entityType\" : \"relationship\",\n",
      "      \"~start\" : \"node__event_e5184a80-8e37-43e0-b1d4-be3e59171178_employment_change_employs710\",\n",
      "      \"~end\" : \"node__organization_amazon\",\n",
      "      \"~type\" : \"EMPLOYER\",\n",
      "      \"~properties\" : { }\n",
      "    }, {\n",
      "      \"~id\" : \"node__organization_amazon\",\n",
      "      \"~entityType\" : \"node\",\n",
      "      \"~labels\" : [ \"ORGANIZATION\" ],\n",
      "      \"~properties\" : {\n",
      "        \"names\" : [ \"Amazon\", \"Amazon.com\", \"we\", \"Alexa\", \"it\", \"business\", \"We\", \"Amazon Hub\", \"us\", \"company\", \"Amazon Handmade\", \"Amazon Future Engineer\", \"Engineer\", \"Amazon Marketplace Appstore\", \"Amazon.com, Inc.\", \"leader\" ],\n",
      "        \"primaryName\" : \"Amazon\"\n",
      "      }\n",
      "    } ]\n",
      "  }, {\n",
      "    \"p\" : [ {\n",
      "      \"~id\" : \"resolved_org_Tsawwassen First Nation\",\n",
      "      \"~entityType\" : \"node\",\n",
      "      \"~labels\" : [ \"OrgKG_Organization\" ],\n",
      "      \"~properties\" : {\n",
      "        \"name\" : \"Tsawwassen First Nation\"\n",
      "      }\n",
      "    }, {\n",
      "      \"~id\" : \"neptune_reserved_1_1152921895449264136\",\n",
      "      \"~entityType\" : \"relationship\",\n",
      "      \"~start\" : \"resolved_org_Tsawwassen First Nation\",\n",
      "      \"~end\" : \"e5184a80-8e37-43e0-b1d4-be3e59171178\",\n",
      "      \"~type\" : \"referencedByDoc\",\n",
      "      \"~properties\" : { }\n",
      "    }, {\n",
      "      \"~id\" : \"e5184a80-8e37-43e0-b1d4-be3e59171178\",\n",
      "      \"~entityType\" : \"node\",\n",
      "      \"~labels\" : [ \"DOCUMENT\" ],\n",
      "      \"~properties\" : {\n",
      "        \"keywords\" : \"employs;hiring;investments\",\n",
      "        \"title\" : \"Amazon Expands in British Columbia with New Fulfillment Centre on Tsawwassen First Nation Lands at Deltaport\"\n",
      "      }\n",
      "    }, {\n",
      "      \"~id\" : \"neptune_reserved_1_1152921504607371277\",\n",
      "      \"~entityType\" : \"relationship\",\n",
      "      \"~start\" : \"e5184a80-8e37-43e0-b1d4-be3e59171178\",\n",
      "      \"~end\" : \"node__event_e5184a80-8e37-43e0-b1d4-be3e59171178_investment_general_investments3981\",\n",
      "      \"~type\" : \"EVENT\",\n",
      "      \"~properties\" : { }\n",
      "    }, {\n",
      "      \"~id\" : \"node__event_e5184a80-8e37-43e0-b1d4-be3e59171178_investment_general_investments3981\",\n",
      "      \"~entityType\" : \"node\",\n",
      "      \"~labels\" : [ \"INVESTMENT_GENERAL\" ],\n",
      "      \"~properties\" : {\n",
      "        \"names\" : \"investments\",\n",
      "        \"primaryName\" : \"investments\"\n",
      "      }\n",
      "    }, {\n",
      "      \"~id\" : \"neptune_reserved_1_1152921504607698951\",\n",
      "      \"~entityType\" : \"relationship\",\n",
      "      \"~start\" : \"node__event_e5184a80-8e37-43e0-b1d4-be3e59171178_investment_general_investments3981\",\n",
      "      \"~end\" : \"node__facility_infrastructure\",\n",
      "      \"~type\" : \"INVESTMENT_PLACE\",\n",
      "      \"~properties\" : { }\n",
      "    }, {\n",
      "      \"~id\" : \"node__facility_infrastructure\",\n",
      "      \"~entityType\" : \"node\",\n",
      "      \"~labels\" : [ \"FACILITY\" ],\n",
      "      \"~properties\" : {\n",
      "        \"names\" : \"infrastructure\",\n",
      "        \"primaryName\" : \"infrastructure\"\n",
      "      }\n",
      "    } ]\n",
      "  }, {\n",
      "    \"p\" : [ {\n",
      "      \"~id\" : \"resolved_org_Tsawwassen First Nation\",\n",
      "      \"~entityType\" : \"node\",\n",
      "      \"~labels\" : [ \"OrgKG_Organization\" ],\n",
      "      \"~properties\" : {\n",
      "        \"name\" : \"Tsawwassen First Nation\"\n",
      "      }\n",
      "    }, {\n",
      "      \"~id\" : \"neptune_reserved_1_1152921895449264136\",\n",
      "      \"~entityType\" : \"relationship\",\n",
      "      \"~start\" : \"resolved_org_Tsawwassen First Nation\",\n",
      "      \"~end\" : \"e5184a80-8e37-43e0-b1d4-be3e59171178\",\n",
      "      \"~type\" : \"referencedByDoc\",\n",
      "      \"~properties\" : { }\n",
      "    }, {\n",
      "      \"~id\" : \"e5184a80-8e37-43e0-b1d4-be3e59171178\",\n",
      "      \"~entityType\" : \"node\",\n",
      "      \"~labels\" : [ \"DOCUMENT\" ],\n",
      "      \"~properties\" : {\n",
      "        \"keywords\" : \"employs;hiring;investments\",\n",
      "        \"title\" : \"Amazon Expands in British Columbia with New Fulfillment Centre on Tsawwassen First Nation Lands at Deltaport\"\n",
      "      }\n",
      "    }, {\n",
      "      \"~id\" : \"neptune_reserved_1_1152921504607371277\",\n",
      "      \"~entityType\" : \"relationship\",\n",
      "      \"~start\" : \"e5184a80-8e37-43e0-b1d4-be3e59171178\",\n",
      "      \"~end\" : \"node__event_e5184a80-8e37-43e0-b1d4-be3e59171178_investment_general_investments3981\",\n",
      "      \"~type\" : \"EVENT\",\n",
      "      \"~properties\" : { }\n",
      "    }, {\n",
      "      \"~id\" : \"node__event_e5184a80-8e37-43e0-b1d4-be3e59171178_investment_general_investments3981\",\n",
      "      \"~entityType\" : \"node\",\n",
      "      \"~labels\" : [ \"INVESTMENT_GENERAL\" ],\n",
      "      \"~properties\" : {\n",
      "        \"names\" : \"investments\",\n",
      "        \"primaryName\" : \"investments\"\n",
      "      }\n",
      "    }, {\n",
      "      \"~id\" : \"neptune_reserved_1_1152921508902666247\",\n",
      "      \"~entityType\" : \"relationship\",\n",
      "      \"~start\" : \"node__event_e5184a80-8e37-43e0-b1d4-be3e59171178_investment_general_investments3981\",\n",
      "      \"~end\" : \"node__organization_tsawwassen_first_nation\",\n",
      "      \"~type\" : \"INVESTOR\",\n",
      "      \"~properties\" : { }\n",
      "    }, {\n",
      "      \"~id\" : \"node__organization_tsawwassen_first_nation\",\n",
      "      \"~entityType\" : \"node\",\n",
      "      \"~labels\" : [ \"ORGANIZATION\" ],\n",
      "      \"~properties\" : {\n",
      "        \"names\" : \"Tsawwassen First Nation\",\n",
      "        \"primaryName\" : \"Tsawwassen First Nation\"\n",
      "      }\n",
      "    } ]\n",
      "  } ]\n",
      "}\n"
     ]
    }
   ],
   "source": [
    "%%bash\n",
    "\n",
    "awscurl -X POST \"https://g-fcowfewla8.us-west-2.neptune-graph.amazonaws.com/queries\" \\\n",
    "-H \"Content-Type: application/x-www-form-urlencoded\" \\\n",
    "--region us-west-2 \\\n",
    "--service neptune-graph \\\n",
    "-d \"query=MATCH p=(n:OrgKG_Organization)-[e]-(n1)-[e2]-(n2)-[e3]-(n3) WHERE ID(n) = 'resolved_org_Tsawwassen First Nation' AND ID(n1) <> 'http://dbpedia.org/resource/Amazon_(company)' AND ID(n2) <> 'http://dbpedia.org/resource/Amazon_(company)' AND ID(n3) <> 'http://dbpedia.org/resource/Amazon_(company)' RETURN p;&nativeSerialization=false\""
   ]
  },
  {
   "cell_type": "code",
   "execution_count": 4,
   "id": "5097ba18",
   "metadata": {
    "scrolled": true
   },
   "outputs": [
    {
     "data": {
      "application/vnd.jupyter.widget-view+json": {
       "model_id": "73d1ffb2a291402f9bc611ee931e4595",
       "version_major": 2,
       "version_minor": 0
      },
      "text/plain": [
       "Tab(children=(Output(layout=Layout(max_height='600px', max_width='940px', overflow='scroll')), Output(layout=L…"
      ]
     },
     "metadata": {},
     "output_type": "display_data"
    }
   ],
   "source": [
    "%%oc \n",
    "\n",
    "MATCH (n)\n",
    "RETURN DISTINCT LABELS(n), COUNT(n)\n",
    "ORDER BY COUNT(n) DESC"
   ]
  },
  {
   "cell_type": "code",
   "execution_count": 7,
   "id": "e84c1afa",
   "metadata": {
    "scrolled": false
   },
   "outputs": [
    {
     "data": {
      "application/vnd.jupyter.widget-view+json": {
       "model_id": "326550d186934b5ca0080857a0074771",
       "version_major": 2,
       "version_minor": 0
      },
      "text/plain": [
       "Tab(children=(Output(layout=Layout(max_height='600px', max_width='940px', overflow='scroll')), Output(layout=L…"
      ]
     },
     "metadata": {},
     "output_type": "display_data"
    }
   ],
   "source": [
    "%%oc\n",
    "MATCH (o:OrgKG_Organization)-[e]->(n)\n",
    "RETURN DISTINCT TYPE(e), LABELS(n)"
   ]
  },
  {
   "cell_type": "code",
   "execution_count": 8,
   "id": "28740b78",
   "metadata": {
    "scrolled": true
   },
   "outputs": [
    {
     "data": {
      "application/vnd.jupyter.widget-view+json": {
       "model_id": "3d0570cfc705413487066f2a9873330d",
       "version_major": 2,
       "version_minor": 0
      },
      "text/plain": [
       "Tab(children=(Output(layout=Layout(max_height='600px', max_width='940px', overflow='scroll')), Output(layout=L…"
      ]
     },
     "metadata": {},
     "output_type": "display_data"
    }
   ],
   "source": [
    "%%oc\n",
    "MATCH (o:OrgKG_Organization)<-[e]-(n)\n",
    "RETURN DISTINCT TYPE(e), LABELS(n)"
   ]
  },
  {
   "cell_type": "code",
   "execution_count": 15,
   "id": "2247250f",
   "metadata": {
    "scrolled": false
   },
   "outputs": [
    {
     "data": {
      "application/vnd.jupyter.widget-view+json": {
       "model_id": "aeabaf4514384dae9c6204a687068a26",
       "version_major": 2,
       "version_minor": 0
      },
      "text/plain": [
       "Tab(children=(Output(layout=Layout(max_height='600px', max_width='940px', overflow='scroll')), Force(network=<…"
      ]
     },
     "metadata": {},
     "output_type": "display_data"
    }
   ],
   "source": [
    "%%oc\n",
    "MATCH (d:DOCUMENT)\n",
    "RETURN d\n",
    "LIMIT 5"
   ]
  },
  {
   "cell_type": "code",
   "execution_count": 39,
   "id": "fd6e0605",
   "metadata": {
    "scrolled": true
   },
   "outputs": [
    {
     "data": {
      "application/vnd.jupyter.widget-view+json": {
       "model_id": "df416c1b85df45a4acc3bae989ee8214",
       "version_major": 2,
       "version_minor": 0
      },
      "text/plain": [
       "Tab(children=(Output(layout=Layout(max_height='600px', max_width='940px', overflow='scroll')), Output(layout=L…"
      ]
     },
     "metadata": {},
     "output_type": "display_data"
    }
   ],
   "source": [
    "%%oc\n",
    "MATCH (o:OrgKG_Organization)<-[:hasParentCompany*0..]-(o1:OrgKG_Organization)<-[:resolvesToOrg]-(n:ORGANIZATION)<-[e1]-(n1)<-[e2:EVENT]-(d:DOCUMENT)\n",
    "RETURN DISTINCT TYPE(e1), LABELS(n1), TYPE(e2), COUNT(d)\n"
   ]
  },
  {
   "cell_type": "markdown",
   "id": "499c7679",
   "metadata": {},
   "source": [
    "## END OF EXPLORATION QUERIES"
   ]
  },
  {
   "cell_type": "markdown",
   "id": "eb9eb451",
   "metadata": {},
   "source": [
    "## OBSOLETE QUERIES"
   ]
  },
  {
   "cell_type": "code",
   "execution_count": 40,
   "id": "bfe0cc62",
   "metadata": {
    "scrolled": false
   },
   "outputs": [
    {
     "data": {
      "application/vnd.jupyter.widget-view+json": {
       "model_id": "9bf7e930c4224f0f83c6ebdd7137579b",
       "version_major": 2,
       "version_minor": 0
      },
      "text/plain": [
       "Tab(children=(Output(layout=Layout(max_height='600px', max_width='940px', overflow='scroll')), Output(layout=L…"
      ]
     },
     "metadata": {},
     "output_type": "display_data"
    }
   ],
   "source": [
    "%%oc\n",
    "MATCH (o:OrgKG_Organization)<-[:hasParentCompany*0..]-(o1:OrgKG_Organization)<-[:resolvesToOrg]-(n:ORGANIZATION)<-[]-()<-[:EVENT]-(d:DOCUMENT)\n",
    "WITH DISTINCT o, d\n",
    "CREATE (o)<-[:referencesOrgKG]-(d)\n"
   ]
  },
  {
   "cell_type": "code",
   "execution_count": 22,
   "id": "c5bb7804",
   "metadata": {
    "scrolled": false
   },
   "outputs": [
    {
     "data": {
      "application/vnd.jupyter.widget-view+json": {
       "model_id": "8d31918c3f454621b97c2ec1cd4b599e",
       "version_major": 2,
       "version_minor": 0
      },
      "text/plain": [
       "Tab(children=(Output(layout=Layout(max_height='600px', max_width='940px', overflow='scroll')), Output(layout=L…"
      ]
     },
     "metadata": {},
     "output_type": "display_data"
    }
   ],
   "source": [
    "%%oc\n",
    "MATCH (o:OrgKG_Organization)<-[:referencesOrgKG]-(d:DOCUMENT)\n",
    "RETURN ID(o), COUNT(d)\n",
    "ORDER BY COUNT(d) DESC"
   ]
  },
  {
   "cell_type": "code",
   "execution_count": 27,
   "id": "be27acce",
   "metadata": {
    "scrolled": false
   },
   "outputs": [
    {
     "data": {
      "application/vnd.jupyter.widget-view+json": {
       "model_id": "57ad8bcf550f409fb96b6ac9139e1a30",
       "version_major": 2,
       "version_minor": 0
      },
      "text/plain": [
       "Tab(children=(Output(layout=Layout(max_height='600px', max_width='940px', overflow='scroll')), Output(layout=L…"
      ]
     },
     "metadata": {},
     "output_type": "display_data"
    }
   ],
   "source": [
    "%%oc\n",
    "MATCH (o1:OrgKG_Organization {`~id`:\"http://dbpedia.org/resource/Amazon_(company)\"}),(o2:OrgKG_Organization {`~id`:\"http://dbpedia.org/resource/Whole_Foods_Market\"})\n",
    "CALL neptune.algo.jaccardSimilarity(o1, o2, {edgeLabels: ['referencesOrgKG']})\n",
    "YIELD score\n",
    "RETURN ID(o1), ID(o2), score"
   ]
  },
  {
   "cell_type": "code",
   "execution_count": 55,
   "id": "876c1d01",
   "metadata": {},
   "outputs": [
    {
     "data": {
      "application/vnd.jupyter.widget-view+json": {
       "model_id": "c4d88c693a7f4f99abaa1d8ff3a1598a",
       "version_major": 2,
       "version_minor": 0
      },
      "text/plain": [
       "Tab(children=(Output(layout=Layout(max_height='600px', max_width='940px', overflow='scroll')), Output(layout=L…"
      ]
     },
     "metadata": {},
     "output_type": "display_data"
    }
   ],
   "source": [
    "%%oc\n",
    "MATCH (o1:OrgKG_Organization {`~id`:\"http://dbpedia.org/resource/Amazon_(company)\"}),(o2:OrgKG_Organization {`~id`:\"http://dbpedia.org/resource/Whole_Foods_Market\"})\n",
    "CALL neptune.algo.neighbors.common(o1, o2, {edgeLabels: ['referencesOrgKG']})\n",
    "YIELD common\n",
    "RETURN common\n"
   ]
  },
  {
   "cell_type": "code",
   "execution_count": 31,
   "id": "3c6a6920",
   "metadata": {},
   "outputs": [
    {
     "data": {
      "application/vnd.jupyter.widget-view+json": {
       "model_id": "a8203070c15b40468cfd4213648835fc",
       "version_major": 2,
       "version_minor": 0
      },
      "text/plain": [
       "Tab(children=(Output(layout=Layout(max_height='600px', max_width='940px', overflow='scroll')), Output(layout=L…"
      ]
     },
     "metadata": {},
     "output_type": "display_data"
    }
   ],
   "source": [
    "%%oc\n",
    "MATCH (o2 {`~id`:\"http://dbpedia.org/resource/Whole_Foods_Market\"})<-[:referencesOrgKG]-(n)\n",
    "RETURN COUNT(n)"
   ]
  },
  {
   "cell_type": "code",
   "execution_count": 45,
   "id": "f4873ea0",
   "metadata": {
    "scrolled": true
   },
   "outputs": [
    {
     "data": {
      "application/vnd.jupyter.widget-view+json": {
       "model_id": "e7ad8552527c4d96909697c616f308c7",
       "version_major": 2,
       "version_minor": 0
      },
      "text/plain": [
       "Tab(children=(Output(layout=Layout(max_height='600px', max_width='940px', overflow='scroll')), Output(layout=L…"
      ]
     },
     "metadata": {},
     "output_type": "display_data"
    }
   ],
   "source": [
    "%%oc --store-to overlap\n",
    "MATCH (o1:OrgKG_Organization {`~id`:\"http://dbpedia.org/resource/Amazon_(company)\"}),(o2:OrgKG_Organization {`~id`:\"http://dbpedia.org/resource/Whole_Foods_Market\"})\n",
    "MATCH (o1)<-[:referencesOrgKG]-(n)-[:referencesOrgKG]->(o2)\n",
    "RETURN COUNT(DISTINCT n) as cnt\n"
   ]
  },
  {
   "cell_type": "code",
   "execution_count": 46,
   "id": "cbcae474",
   "metadata": {
    "scrolled": true
   },
   "outputs": [
    {
     "data": {
      "text/plain": [
       "3"
      ]
     },
     "execution_count": 46,
     "metadata": {},
     "output_type": "execute_result"
    }
   ],
   "source": [
    "overlap[\"results\"][0][\"cnt\"]"
   ]
  },
  {
   "cell_type": "code",
   "execution_count": 47,
   "id": "e8a48b51",
   "metadata": {
    "scrolled": true
   },
   "outputs": [
    {
     "data": {
      "application/vnd.jupyter.widget-view+json": {
       "model_id": "50fe913728834a58b5b4c69381f1e1b3",
       "version_major": 2,
       "version_minor": 0
      },
      "text/plain": [
       "Tab(children=(Output(layout=Layout(max_height='600px', max_width='940px', overflow='scroll')), Output(layout=L…"
      ]
     },
     "metadata": {},
     "output_type": "display_data"
    }
   ],
   "source": [
    "%%oc --store-to amazon_only\n",
    "MATCH (o1:OrgKG_Organization {`~id`:\"http://dbpedia.org/resource/Amazon_(company)\"}),(o2:OrgKG_Organization {`~id`:\"http://dbpedia.org/resource/Whole_Foods_Market\"})\n",
    "MATCH (o1)<-[:referencesOrgKG]-(n)\n",
    "RETURN COUNT(DISTINCT n) as cnt"
   ]
  },
  {
   "cell_type": "code",
   "execution_count": 48,
   "id": "5e359d3b",
   "metadata": {
    "scrolled": true
   },
   "outputs": [
    {
     "data": {
      "text/plain": [
       "97"
      ]
     },
     "execution_count": 48,
     "metadata": {},
     "output_type": "execute_result"
    }
   ],
   "source": [
    "amazon_only[\"results\"][0][\"cnt\"]"
   ]
  },
  {
   "cell_type": "code",
   "execution_count": 49,
   "id": "851d6d6a",
   "metadata": {
    "scrolled": true
   },
   "outputs": [
    {
     "data": {
      "application/vnd.jupyter.widget-view+json": {
       "model_id": "4a252a9a6a6d4eb6b32ff0aed6c9fa9d",
       "version_major": 2,
       "version_minor": 0
      },
      "text/plain": [
       "Tab(children=(Output(layout=Layout(max_height='600px', max_width='940px', overflow='scroll')), Output(layout=L…"
      ]
     },
     "metadata": {},
     "output_type": "display_data"
    }
   ],
   "source": [
    "%%oc --store-to whole_foods_only\n",
    "MATCH (o1:OrgKG_Organization {`~id`:\"http://dbpedia.org/resource/Amazon_(company)\"}),(o2:OrgKG_Organization {`~id`:\"http://dbpedia.org/resource/Whole_Foods_Market\"})\n",
    "MATCH (o2)<-[:referencesOrgKG]-(n)\n",
    "RETURN COUNT(DISTINCT n) as cnt"
   ]
  },
  {
   "cell_type": "code",
   "execution_count": 50,
   "id": "b6fe38ba",
   "metadata": {},
   "outputs": [
    {
     "name": "stdout",
     "output_type": "stream",
     "text": [
      "0.030927835051546393\n",
      "1.0\n"
     ]
    }
   ],
   "source": [
    "common_neighbors = overlap[\"results\"][0][\"cnt\"]\n",
    "amazon_total_neighbors = amazon_only[\"results\"][0][\"cnt\"]\n",
    "whole_foods_total_neighbors = whole_foods_only[\"results\"][0][\"cnt\"]\n",
    "\n",
    "amazon_similarity = float(common_neighbors) / float(amazon_total_neighbors)\n",
    "whole_foods_similarity = float(common_neighbors) / float(whole_foods_total_neighbors)\n",
    "print(amazon_similarity)\n",
    "print(whole_foods_similarity)"
   ]
  },
  {
   "cell_type": "markdown",
   "id": "58282572",
   "metadata": {},
   "source": [
    "## END OBSOLETE QUERIES"
   ]
  },
  {
   "cell_type": "code",
   "execution_count": null,
   "id": "8ad5067a",
   "metadata": {},
   "outputs": [],
   "source": []
  }
 ],
 "metadata": {
  "kernelspec": {
   "display_name": "Python 3",
   "language": "python",
   "name": "python3"
  },
  "language_info": {
   "codemirror_mode": {
    "name": "ipython",
    "version": 3
   },
   "file_extension": ".py",
   "mimetype": "text/x-python",
   "name": "python",
   "nbconvert_exporter": "python",
   "pygments_lexer": "ipython3",
   "version": "3.10.8"
  }
 },
 "nbformat": 4,
 "nbformat_minor": 5
}
