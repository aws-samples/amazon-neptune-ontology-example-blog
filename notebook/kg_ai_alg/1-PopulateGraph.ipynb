{
 "cells": [
  {
   "cell_type": "markdown",
   "id": "22f2d9b7-5ab8-4f26-b3b0-bd0c4786cf39",
   "metadata": {},
   "source": [
    "Copyright Amazon.com, Inc. or its affiliates. All Rights Reserved. SPDX-License-Identifier: Apache-2.0\n",
    "\n",
    "# KGC 2024 MasterClass: Generating and analyzing knowledge graphs using GenAI and Neptune Analytics\n",
    "# Notebook 1: Populate Knowledge Graph\n",
    "\n",
    "This notebook loads base organizational data, plus press release documents and Comprehend-extracted entities and events, into a knowledge graph running on Amazon Neptune.\n",
    "\n",
    "The data you will need is a set of CSV files available in a public S3 bucket. If you are interested to know how this data was prepared, check our notebook 0-PrepSources.ipynb.\n",
    "\n",
    "Here is our data model:\n",
    "\n",
    "<img src=\"images/kgc_model.png\">\n",
    "\n",
    "\n",
    "We load into a Neptune Analytics graph three sets of data:\n",
    "\n",
    "1. Base org data: organizations, persons, and industries (blue boxes).\n",
    "\n",
    "2. Press release documents and their text content (white boxes).\n",
    "\n",
    "3. Comprehend extraction of press releases in graph form. We link the extraction results to the base org data (yellow boxes). \n",
    "\n",
    "The next figure depicts our design.\n",
    "\n",
    "<img src=\"images/kgc_design.png\">\n",
    "\n",
    "In this notebook we load into Neptune structured data and extracted entities from unstructured data in the bottom third of the figure. \n",
    "\n",
    "To run this notebook you need a Neptune Analytics graph that is accessible from this notebook instance. See README.md for detailed setup instructions.\n"
   ]
  },
  {
   "cell_type": "markdown",
   "id": "db60ad8e-50a6-42a0-961b-c6fd5f70c388",
   "metadata": {},
   "source": [
    "## Batch-load org data to Neptune graph"
   ]
  },
  {
   "cell_type": "code",
   "execution_count": null,
   "id": "99cc1ae6-0b07-4691-9f23-03b094298d04",
   "metadata": {
    "tags": []
   },
   "outputs": [],
   "source": [
    "import graph_notebook as gn\n",
    "config = gn.configuration.get_config.get_config()\n",
    "\n",
    "region = config.aws_region\n",
    "s3_bucket = f\"s3://aws-neptune-customer-samples-{region}/kgc2024_na/prepped/\"\n"
   ]
  },
  {
   "cell_type": "code",
   "execution_count": null,
   "id": "3c7b3ccc-e08c-4ae8-bcfa-53f85179a881",
   "metadata": {
    "tags": []
   },
   "outputs": [],
   "source": [
    "%%oc\n",
    "\n",
    "CALL neptune.load({\n",
    "    format: \"csv\", \n",
    "    source: \"${s3_bucket}\", \n",
    "    region : \"${region}\",\n",
    "    format: \"csv\",\n",
    "    failOnError: False,\n",
    "    concurrency: 1\n",
    "})\n"
   ]
  },
  {
   "cell_type": "markdown",
   "id": "4af27a3b-0239-4884-b034-a870c0298f3f",
   "metadata": {},
   "source": [
    "## View stats - nodes and edges in the graph\n",
    "Wait a minute if stats shows no change. Try again."
   ]
  },
  {
   "cell_type": "code",
   "execution_count": null,
   "id": "99ab18bd-960b-471f-89ed-93d03f18e77a",
   "metadata": {
    "tags": []
   },
   "outputs": [],
   "source": [
    "%summary pg --detailed"
   ]
  },
  {
   "cell_type": "markdown",
   "id": "4d5db8f7-ca06-41c5-9f42-90d3d064e590",
   "metadata": {},
   "source": [
    "## Explore the org data\n",
    "### Base org KG"
   ]
  },
  {
   "cell_type": "code",
   "execution_count": null,
   "id": "dc3c1a63-a186-440f-8073-3fe4c0bb8f87",
   "metadata": {
    "tags": []
   },
   "outputs": [],
   "source": [
    "%%oc\n",
    "\n",
    "MATCH (o:OrgKG_Organization)\n",
    "OPTIONAL MATCH (o)-[:hasIndustry]->(i)\n",
    "OPTIONAL MATCH (o)-[:hasParentCompany]->(p)\n",
    "OPTIONAL MATCH (o)-[:hasKnownPerson]->(r)\n",
    "\n",
    "WITH id(o) as org_id, o.name as org_name, \n",
    "    collect(distinct id(i)) as industries,\n",
    "    id(p) as parent_co_id, \n",
    "    collect(distinct id(r)) as related_persons\n",
    "RETURN org_id, org_name, parent_co_id, industries, related_persons\n",
    "ORDER BY org_id"
   ]
  },
  {
   "cell_type": "markdown",
   "id": "f4cb42fb",
   "metadata": {},
   "source": [
    "### Press release documents that mention Amazon"
   ]
  },
  {
   "cell_type": "code",
   "execution_count": null,
   "id": "e40fcb62-c301-4546-a3c3-1575beee3113",
   "metadata": {},
   "outputs": [],
   "source": [
    "%%oc\n",
    "\n",
    "MATCH path=(d:DOCUMENT)-[ev]->(obs)-[role]->(ent)-[res:resolvesToOrg]->(org {`~id`: \"http://dbpedia.org/resource/Amazon_(company)\"})\n",
    "RETURN path\n",
    "LIMIT 100"
   ]
  },
  {
   "cell_type": "markdown",
   "id": "91157069",
   "metadata": {},
   "source": [
    "### Documents that mention both Amazon and Whole Foods"
   ]
  },
  {
   "cell_type": "code",
   "execution_count": null,
   "id": "c3a632fd",
   "metadata": {},
   "outputs": [],
   "source": [
    "%%oc\n",
    "\n",
    "MATCH (org:OrgKG_Organization)<-[resolve:resolvesToOrg]-(o:ORGANIZATION)<-[role]-(e)<-[event]-(d:DOCUMENT),\n",
    "(d:DOCUMENT)-[event2]->(e2)-[role2]->(o2:ORGANIZATION)-[resolve2:resolvesToOrg]->(org2:OrgKG_Organization)\n",
    "\n",
    "WHERE id(org)=\"http://dbpedia.org/resource/Amazon_(company)\" \n",
    "and id(org2)=\"http://dbpedia.org/resource/Whole_Foods_Market\"\n",
    "\n",
    "RETURN d.title as title, \n",
    "    o.primaryName as org1_name, \n",
    "    type(role) as role_type, \n",
    "    labels(e) as event,\n",
    "    o2.primaryName as org2_name,\n",
    "    type(role2) as role_type_2,\n",
    "    labels(e2) as event2\n",
    "LIMIT 100"
   ]
  },
  {
   "cell_type": "markdown",
   "id": "6b4a8ae2",
   "metadata": {},
   "source": [
    "### Names for Amazon from press releases"
   ]
  },
  {
   "cell_type": "code",
   "execution_count": null,
   "id": "2ce41394",
   "metadata": {},
   "outputs": [],
   "source": [
    "%%oc\n",
    "\n",
    "MATCH (o:OrgKG_Organization {`~id`: \"http://dbpedia.org/resource/Amazon_(company)\"})<-[:resolvesToOrg]-(co)\n",
    "RETURN co.primaryName as name"
   ]
  }
 ],
 "metadata": {
  "kernelspec": {
   "display_name": "Python 3",
   "language": "python",
   "name": "python3"
  },
  "language_info": {
   "codemirror_mode": {
    "name": "ipython",
    "version": 3
   },
   "file_extension": ".py",
   "mimetype": "text/x-python",
   "name": "python",
   "nbconvert_exporter": "python",
   "pygments_lexer": "ipython3",
   "version": "3.10.8"
  }
 },
 "nbformat": 4,
 "nbformat_minor": 5
}
