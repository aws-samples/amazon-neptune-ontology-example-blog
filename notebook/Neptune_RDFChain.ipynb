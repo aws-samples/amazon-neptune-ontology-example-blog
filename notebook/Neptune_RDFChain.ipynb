{
 "cells": [
  {
   "cell_type": "markdown",
   "metadata": {},
   "source": [
    "# SPARQL Langchain with Amazon Neptune\n",
    "\n",
    "This notebook shows use of LLM to query RDF graph in Amazon Neptune. It uses Langchain.\n",
    "\n",
    "Approach adapted from https://python.langchain.com/docs/use_cases/more/graph/graph_sparql_qa.\n",
    "\n",
    "* Create RDFGraph object that connects to Neptune and introspects its schema\n",
    "* Create chain using LLM and RDFGraph. LLM used here is Anthropic Claude 2 via Bedrock\n",
    "* Ask questions to LLM. LLM consults schema and calls RDFGraph to execute SPARQL query"
   ]
  },
  {
   "cell_type": "markdown",
   "metadata": {},
   "source": [
    "## Setup\n",
    "\n",
    "### Notebook Pre-Req\n",
    "\n",
    "You can upload this notebook into a Jupyter environment configured to use Neptune Workbench. I tested this on an Amazon Sagemaker notebook running Python 3.10.x. \n",
    "\n",
    "### Python Pre-Req\n",
    "\n",
    "I tested this on an Amazon Sagemaker notebook running Python 3.10.x. You need Python 3.9 or higher.\n",
    "\n",
    "### Neptune Pre-Req\n",
    "\n",
    "Your Neptune cluster must run engine version 1.2.x or higher\n",
    "\n",
    "### Bedrock\n",
    "\n",
    "In Bedrock console, allow access to Anthropic Claude v2 model in this region.\n",
    "In Notebook IAM role, add\n",
    "\n",
    "{\n",
    "        \"Action\": [\n",
    "            \"bedrock:ListFoundationModels\",\n",
    "            \"bedrock:InvokeModel\"\n",
    "        ],\n",
    "        \"Resource\": \"*\",\n",
    "        \"Effect\": \"Allow\"\n",
    "}"
   ]
  },
  {
   "cell_type": "markdown",
   "metadata": {},
   "source": [
    "## Seed W3C organizational data\n",
    "W3C org ontology plus some instances. \n",
    "\n",
    "You will need an S3 bucket in the same region and account. Set STAGE_BUCKET to name of that bucket."
   ]
  },
  {
   "cell_type": "code",
   "execution_count": null,
   "metadata": {},
   "outputs": [],
   "source": [
    "STAGE_BUCKET='haveym-langchain-sparql'"
   ]
  },
  {
   "cell_type": "code",
   "execution_count": null,
   "metadata": {},
   "outputs": [],
   "source": [
    "%%bash  -s \"$STAGE_BUCKET\"\n",
    "\n",
    "rm -rf data\n",
    "mkdir -p data\n",
    "cd data\n",
    "echo getting org ontology and sample org instances\n",
    "wget http://www.w3.org/ns/org.ttl \n",
    "wget https://raw.githubusercontent.com/aws-samples/amazon-neptune-ontology-example-blog/main/data/example_org.ttl \n",
    "\n",
    "echo Copying org ttl to S3\n",
    "aws s3 cp org.ttl s3://$1/org.ttl\n",
    "aws s3 cp example_org.ttl s3://$1/example_org.ttl\n"
   ]
  },
  {
   "cell_type": "markdown",
   "metadata": {},
   "source": [
    "Bulk-load the org ttl - both ontology and instances"
   ]
  },
  {
   "cell_type": "code",
   "execution_count": null,
   "metadata": {},
   "outputs": [],
   "source": [
    "%load -s s3://{STAGE_BUCKET} -f turtle --store-to loadres --run"
   ]
  },
  {
   "cell_type": "code",
   "execution_count": null,
   "metadata": {},
   "outputs": [],
   "source": [
    "%load_status {loadres['payload']['loadId']} --errors --details"
   ]
  },
  {
   "cell_type": "markdown",
   "metadata": {},
   "source": [
    "## Install Langchain\n",
    "Need python 3.9 or greater plus langchain 0.0.341 ish"
   ]
  },
  {
   "cell_type": "code",
   "execution_count": null,
   "metadata": {},
   "outputs": [],
   "source": [
    "%%bash \n",
    "# 3.9 or higher?\n",
    "python --version"
   ]
  },
  {
   "cell_type": "code",
   "execution_count": null,
   "metadata": {},
   "outputs": [],
   "source": [
    "!pip install langchain"
   ]
  },
  {
   "cell_type": "code",
   "execution_count": null,
   "metadata": {},
   "outputs": [],
   "source": [
    "!pip show langchain"
   ]
  },
  {
   "cell_type": "markdown",
   "metadata": {},
   "source": [
    "## Patch Langhchain\n"
   ]
  },
  {
   "cell_type": "code",
   "execution_count": null,
   "metadata": {},
   "outputs": [],
   "source": [
    "%%bash \n",
    "\n",
    "rm -rf langchain\n",
    "mkdir langchain\n",
    "cd langchain\n",
    "mkdir graphs\n",
    "cd graphs\n",
    "wget https://raw.githubusercontent.com/mhavey/langchain/langchain/libs/langchain/langchain/graphs/neptune_rdf_graph.py\n",
    "wget https://raw.githubusercontent.com/mhavey/langchain/langchain/libs/langchain/langchain/graphs/__init__.py\n",
    "cd ..\n",
    "mkdir chains\n",
    "mkdir chains/graph_qa\n",
    "cd chains\n",
    "wget https://raw.githubusercontent.com/mhavey/langchain/langchain/libs/langchain/langchain/chains/__init__.py\n",
    "cd graph_qa\n",
    "wget https://raw.githubusercontent.com/mhavey/langchain/langchain/libs/langchain/langchain/chains/graph_qa/neptune_sparql.py\n"
   ]
  },
  {
   "cell_type": "code",
   "execution_count": null,
   "metadata": {},
   "outputs": [],
   "source": [
    "%%bash\n",
    "\n",
    "LCDIR=~/anaconda3/envs/JupyterSystemEnv/lib/python3.10/site-packages/langchain\n",
    "\n",
    "cp -r langchain/* $LCDIR\n"
   ]
  },
  {
   "cell_type": "markdown",
   "metadata": {},
   "source": [
    "### Now restart Kernel *** "
   ]
  },
  {
   "cell_type": "markdown",
   "metadata": {},
   "source": [
    "## Setup Chain"
   ]
  },
  {
   "cell_type": "code",
   "execution_count": null,
   "metadata": {},
   "outputs": [],
   "source": [
    "import os\n",
    "\n",
    "# Grab Neptune cluster host/port from notebook instance environment variables\n",
    "GRAPH_NOTEBOOK_HOST= os.popen(\"source ~/.bashrc ; echo $GRAPH_NOTEBOOK_HOST\").read().split(\"\\n\")[0]\n",
    "GRAPH_NOTEBOOK_PORT= os.popen(\"source ~/.bashrc ; echo $GRAPH_NOTEBOOK_PORT\").read().split(\"\\n\")[0]\n",
    "[GRAPH_NOTEBOOK_HOST, GRAPH_NOTEBOOK_PORT]"
   ]
  },
  {
   "cell_type": "code",
   "execution_count": null,
   "metadata": {},
   "outputs": [],
   "source": [
    "EXAMPLES=\"\"\"\n",
    "\n",
    "<question>\n",
    "Find organizations.\n",
    "</question>\n",
    "\n",
    "<sparql>\n",
    "PREFIX rdf: <http://www.w3.org/1999/02/22-rdf-syntax-ns#> \n",
    "PREFIX rdfs: <http://www.w3.org/2000/01/rdf-schema#> \n",
    "PREFIX org: <http://www.w3.org/ns/org#> \n",
    "\n",
    "select ?org ?orgName where {{\n",
    "    ?org rdfs:label ?orgName .\n",
    "}} \n",
    "</sparql>\n",
    "\n",
    "<question>\n",
    "Find sites of an organization\n",
    "</question>\n",
    "\n",
    "<sparql>\n",
    "PREFIX rdf: <http://www.w3.org/1999/02/22-rdf-syntax-ns#> \n",
    "PREFIX rdfs: <http://www.w3.org/2000/01/rdf-schema#> \n",
    "PREFIX org: <http://www.w3.org/ns/org#> \n",
    "\n",
    "select ?org ?orgName ?siteName where {{\n",
    "    ?org rdfs:label ?orgName .\n",
    "    ?org org:hasSite/rdfs:label ?siteName . \n",
    "}} \n",
    "</sparql>\n",
    "\n",
    "<question>\n",
    "Find suborganizations of an organization\n",
    "</question>\n",
    "\n",
    "<sparql>\n",
    "PREFIX rdf: <http://www.w3.org/1999/02/22-rdf-syntax-ns#> \n",
    "PREFIX rdfs: <http://www.w3.org/2000/01/rdf-schema#> \n",
    "PREFIX org: <http://www.w3.org/ns/org#> \n",
    "\n",
    "select ?org ?orgName ?subName where {{\n",
    "    ?org rdfs:label ?orgName .\n",
    "    ?org org:hasSubOrganization/rdfs:label ?subName  .\n",
    "}} \n",
    "</sparql>\n",
    "\n",
    "<question>\n",
    "Find organizational units of an organization\n",
    "</question>\n",
    "\n",
    "<sparql>\n",
    "PREFIX rdf: <http://www.w3.org/1999/02/22-rdf-syntax-ns#> \n",
    "PREFIX rdfs: <http://www.w3.org/2000/01/rdf-schema#> \n",
    "PREFIX org: <http://www.w3.org/ns/org#> \n",
    "\n",
    "select ?org ?orgName ?unitName where {{\n",
    "    ?org rdfs:label ?orgName .\n",
    "    ?org org:hasUnit/rdfs:label ?unitName . \n",
    "}} \n",
    "</sparql>\n",
    "\n",
    "<question>\n",
    "Find members of an organization. Also find their manager, or the member they report to.\n",
    "</question>\n",
    "\n",
    "<sparql>\n",
    "PREFIX org: <http://www.w3.org/ns/org#> \n",
    "PREFIX foaf: <http://xmlns.com/foaf/0.1/> \n",
    "\n",
    "select * where {{\n",
    "    ?person rdf:type foaf:Person .\n",
    "    ?person  org:memberOf ?org .\n",
    "    OPTIONAL {{ ?person foaf:firstName ?firstName . }}\n",
    "    OPTIONAL {{ ?person foaf:family_name ?lastName . }}\n",
    "    OPTIONAL {{ ?person  org:reportsTo ??manager }} .\n",
    "}}\n",
    "</sparql>\n",
    "\n",
    "\n",
    "<question>\n",
    "Find change events, such as mergers and acquisitions, of an organization\n",
    "</question>\n",
    "\n",
    "<sparql>\n",
    "PREFIX org: <http://www.w3.org/ns/org#> \n",
    "\n",
    "select ?event ?prop ?obj where {{\n",
    "    ?org rdfs:label ?orgName .\n",
    "    ?event rdf:type org:ChangeEvent .\n",
    "    ?event org:originalOrganization ?origOrg .\n",
    "    ?event org:resultingOrganization ?resultingOrg .\n",
    "}}\n",
    "</sparql>\n",
    "\n",
    "\"\"\""
   ]
  },
  {
   "cell_type": "code",
   "execution_count": null,
   "metadata": {},
   "outputs": [],
   "source": [
    "import boto3\n",
    "from langchain.chains import NeptuneSparqlQAChain\n",
    "from langchain.graphs import NeptuneRdfGraph\n",
    "from langchain.chains import ConversationChain\n",
    "from langchain.chat_models import BedrockChat\n",
    "from langchain.llms import Bedrock\n",
    "\n",
    "nep_ep = f\"https://{GRAPH_NOTEBOOK_HOST}:{GRAPH_NOTEBOOK_PORT}/sparql\"\n",
    "\n",
    "graph = None\n",
    "graph = NeptuneRdfGraph(\n",
    "    query_endpoint=nep_ep,\n",
    "    use_iam_auth=True,\n",
    "    region_name='us-east-1',\n",
    "    hide_comments=True\n",
    ")\n",
    "\n",
    "bedrock_client = boto3.client('bedrock-runtime')\n",
    "llm = BedrockChat(\n",
    "    model_id = \"anthropic.claude-v2\",\n",
    "    client = bedrock_client\n",
    ")\n",
    "\n",
    "chain = NeptuneSparqlQAChain.from_llm(\n",
    "    llm=llm, graph=graph, examples=EXAMPLES, verbose=True, top_K=10, return_intermediate_steps=True, return_direct=False)\n"
   ]
  },
  {
   "cell_type": "code",
   "execution_count": null,
   "metadata": {},
   "outputs": [],
   "source": [
    "graph.get_schema"
   ]
  },
  {
   "cell_type": "code",
   "execution_count": null,
   "metadata": {},
   "outputs": [],
   "source": [
    "graph.get_schema_elements"
   ]
  },
  {
   "cell_type": "code",
   "execution_count": null,
   "metadata": {},
   "outputs": [],
   "source": [
    "chain"
   ]
  },
  {
   "cell_type": "markdown",
   "metadata": {},
   "source": [
    "## Ask questions\n",
    "Depends on the data we ingested above"
   ]
  },
  {
   "cell_type": "code",
   "execution_count": null,
   "metadata": {},
   "outputs": [],
   "source": [
    "chain.run('''How many organizations are in the graph''')"
   ]
  },
  {
   "cell_type": "code",
   "execution_count": null,
   "metadata": {},
   "outputs": [],
   "source": [
    "chain.run('''Are there any mergers or acquisitions''')"
   ]
  },
  {
   "cell_type": "code",
   "execution_count": null,
   "metadata": {},
   "outputs": [],
   "source": [
    "chain.run('''Find organizations''')"
   ]
  },
  {
   "cell_type": "code",
   "execution_count": null,
   "metadata": {},
   "outputs": [],
   "source": [
    "chain.run('''Find sites of MegaSystems or MegaFinancial''')"
   ]
  },
  {
   "cell_type": "code",
   "execution_count": null,
   "metadata": {},
   "outputs": [],
   "source": [
    "%%time\n",
    "chain.run('''Find a member who is manager of one or more members.''')"
   ]
  },
  {
   "cell_type": "code",
   "execution_count": null,
   "metadata": {},
   "outputs": [],
   "source": [
    "chain.run('''Find five members and who their manager is.''')"
   ]
  },
  {
   "cell_type": "code",
   "execution_count": null,
   "metadata": {},
   "outputs": [],
   "source": [
    "%%time\n",
    "chain.run('''Find org units or suborganizations of The Mega Group. What are the sites of those units?''')"
   ]
  }
 ],
 "metadata": {
  "kernelspec": {
   "display_name": "Python 3",
   "language": "python",
   "name": "python3"
  },
  "language_info": {
   "codemirror_mode": {
    "name": "ipython",
    "version": 3
   },
   "file_extension": ".py",
   "mimetype": "text/x-python",
   "name": "python",
   "nbconvert_exporter": "python",
   "pygments_lexer": "ipython3",
   "version": "3.10.8"
  }
 },
 "nbformat": 4,
 "nbformat_minor": 2
}
