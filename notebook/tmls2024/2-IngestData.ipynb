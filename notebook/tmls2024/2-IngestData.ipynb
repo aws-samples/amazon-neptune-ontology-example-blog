{
 "cells": [
  {
   "cell_type": "markdown",
   "id": "12feb60a-eac5-407d-b296-6a59926b87d1",
   "metadata": {},
   "source": [
    "Copyright Amazon.com, Inc. or its affiliates. All Rights Reserved. SPDX-License-Identifier: Apache-2.0\n",
    "\n",
    "# Ask the Graph\n",
    "# Notebook 2: Ingest Data\n",
    "In this notebook, we ingest into Neptune the data we prepared in notebooks 0 and 1. This includes structured and unstructured organizational data. The following figure shows the data model.\n",
    "\n",
    "TODO - data model\n",
    "\n",
    "We have prepared the data for you. You do not need to prepare it yourself.\n",
    "\n",
    "Two deployment options are available:\n",
    "\n",
    "- Labeled Property Graph (LPG) deployment in an Amazon Neptune Analytics graph\n",
    "- Resource Description Framework (RDF) deployment using a combination of an Amazon Neptune database cluster and an Amazon OpenSearch Service domain.\n",
    "\n",
    "Refer to the README.md file in the repo for instructions how to setup\n",
    "\n",
    "The following diagram shows these options.\n",
    "\n",
    "TODO - diagram\n"
   ]
  },
  {
   "cell_type": "markdown",
   "id": "1f0d556c-309d-450d-a1d1-7654395df8bc",
   "metadata": {},
   "source": [
    "## Option 1: Labeled Property Graph Setup Using Neptune Analytics\n",
    "We assume you have already setup the Neptune Analytics graph and that this notebook instance has connectivity to it. \n",
    "\n",
    "Refer to the README.md file in the repo for instructions how to setup.\n",
    "\n",
    "### Batch-load LPG CSV files into Neptune\n",
    "\n",
    "TODO -remove the graph-notebook-host"
   ]
  },
  {
   "cell_type": "code",
   "execution_count": 6,
   "id": "da63a234-784a-49dd-9ddb-87440f5158d3",
   "metadata": {
    "tags": []
   },
   "outputs": [
    {
     "name": "stdout",
     "output_type": "stream",
     "text": [
      "set host to g-11z1ctsbu7.us-east-1.neptune-graph.amazonaws.com\n"
     ]
    }
   ],
   "source": [
    "%graph_notebook_host g-11z1ctsbu7.us-east-1.neptune-graph.amazonaws.com"
   ]
  },
  {
   "cell_type": "code",
   "execution_count": null,
   "id": "739fbadc-8db8-47a1-9e5f-c26d0d8fa872",
   "metadata": {},
   "outputs": [],
   "source": []
  },
  {
   "cell_type": "code",
   "execution_count": 7,
   "id": "2012a0bc-11a3-4391-9bf4-4f32eac0cba3",
   "metadata": {
    "tags": []
   },
   "outputs": [
    {
     "data": {
      "text/plain": [
       "'s3://aws-neptune-customer-samples-us-east-1/tmls2024/prepped/graphdata/lpg'"
      ]
     },
     "execution_count": 7,
     "metadata": {},
     "output_type": "execute_result"
    }
   ],
   "source": [
    "import graph_notebook as gn\n",
    "config = gn.configuration.get_config.get_config()\n",
    "\n",
    "region = config.aws_region\n",
    "s3_bucket = f\"s3://aws-neptune-customer-samples-{region}/tmls2024/prepped/graphdata/lpg\"\n",
    "s3_bucket"
   ]
  },
  {
   "cell_type": "code",
   "execution_count": 8,
   "id": "f3ec8ecd-3234-4bb2-887f-62f70955e468",
   "metadata": {
    "tags": []
   },
   "outputs": [
    {
     "data": {
      "application/vnd.jupyter.widget-view+json": {
       "model_id": "95a55d78b4284aa98aa8eefb32ed57c5",
       "version_major": 2,
       "version_minor": 0
      },
      "text/plain": [
       "Tab(children=(Output(layout=Layout(max_height='600px', max_width='940px', overflow='scroll')), Output(layout=L…"
      ]
     },
     "metadata": {},
     "output_type": "display_data"
    }
   ],
   "source": [
    "%%oc\n",
    "\n",
    "CALL neptune.load({\n",
    "    format: \"csv\", \n",
    "    source: \"${s3_bucket}\", \n",
    "    region : \"${region}\",\n",
    "    format: \"csv\",\n",
    "    failOnError: False,\n",
    "    concurrency: 1\n",
    "})"
   ]
  },
  {
   "cell_type": "markdown",
   "id": "7fb54bbf-7f2d-4ba5-9b78-9d340522ddb9",
   "metadata": {},
   "source": [
    "### View stats - nodes and edges in the graph,\n",
    "Wait a minute if stats shows no change. Try again."
   ]
  },
  {
   "cell_type": "code",
   "execution_count": null,
   "id": "57d61245-1e8c-4c50-a178-2714906daec9",
   "metadata": {
    "tags": []
   },
   "outputs": [],
   "source": [
    "%summary pg --detailed"
   ]
  },
  {
   "cell_type": "code",
   "execution_count": 9,
   "id": "14c8db38-34c9-4c8d-bdac-777eadc6aba6",
   "metadata": {
    "tags": []
   },
   "outputs": [
    {
     "data": {
      "application/vnd.jupyter.widget-view+json": {
       "model_id": "53ced9887d14453cbb85159273517dca",
       "version_major": 2,
       "version_minor": 0
      },
      "text/plain": [
       "Tab(children=(Output(layout=Layout(max_height='600px', max_width='940px', overflow='scroll')), Output(layout=L…"
      ]
     },
     "metadata": {},
     "output_type": "display_data"
    }
   ],
   "source": [
    "%%oc\n",
    "\n",
    "MATCH (n)\n",
    "WITH labels(n) as ln\n",
    "RETURN ln, count(ln)\n",
    "order by ln\n"
   ]
  },
  {
   "cell_type": "code",
   "execution_count": 17,
   "id": "422430b2-b4c9-4641-bee4-c03cf68eeb55",
   "metadata": {
    "tags": []
   },
   "outputs": [
    {
     "name": "stdout",
     "output_type": "stream",
     "text": [
      "639\n"
     ]
    }
   ],
   "source": [
    "!grep ExtractedEntity graphdata/lpg/extractions.csv | wc -l"
   ]
  },
  {
   "cell_type": "code",
   "execution_count": 18,
   "id": "3946bd48-1879-4afb-93e2-bf641bac3a9d",
   "metadata": {
    "tags": []
   },
   "outputs": [
    {
     "name": "stdout",
     "output_type": "stream",
     "text": [
      "477\n"
     ]
    }
   ],
   "source": [
    "!grep ExtractedEvent graphdata/lpg/extractions.csv | wc -l"
   ]
  },
  {
   "cell_type": "code",
   "execution_count": 15,
   "id": "2e4885e7-6bf8-41cd-ae37-bf6a41821bd8",
   "metadata": {
    "tags": []
   },
   "outputs": [
    {
     "name": "stdout",
     "output_type": "stream",
     "text": [
      "     435 graphdata/lpg/chunk2doc.csv\n",
      "       1 graphdata/lpg/_chunks.csv\n",
      "     435 graphdata/lpg/chunks.csv\n",
      "     118 graphdata/lpg/documents.csv\n",
      "    1282 graphdata/lpg/entity_embeddings.csv\n",
      "     266 graphdata/lpg/extraction_links.csv\n",
      "    1461 graphdata/lpg/extraction_rels.csv\n",
      "    1117 graphdata/lpg/extractions.csv\n",
      "      22 graphdata/lpg/industries.csv\n",
      "      11 graphdata/lpg/locations.csv\n",
      "      56 graphdata/lpg/orgs.csv\n",
      "      11 graphdata/lpg/persons.csv\n",
      "      34 graphdata/lpg/products.csv\n",
      "     141 graphdata/lpg/rels.csv\n",
      "    1291 graphdata/lpg/resolved_entities.csv\n",
      "      16 graphdata/lpg/services.csv\n",
      "      12 graphdata/lpg/_summaries.csv\n",
      "     118 graphdata/lpg/summaries.csv\n",
      "      22 graphdata/lpg/tax_concept_rels.csv\n",
      "      22 graphdata/lpg/taxonomy_concepts.csv\n",
      "    6871 total\n"
     ]
    }
   ],
   "source": [
    "!wc -l graphdata/lpg/*.csv\n"
   ]
  },
  {
   "cell_type": "code",
   "execution_count": null,
   "id": "0052559b-4636-4990-9d80-422da2f0c565",
   "metadata": {
    "tags": []
   },
   "outputs": [],
   "source": [
    "%%oc\n",
    "\n",
    "MATCH (n)\n",
    "WHERE labels(n)=[]\n",
    "RETURN id(n)\n",
    "ORDER by id(n)\n"
   ]
  },
  {
   "cell_type": "code",
   "execution_count": null,
   "id": "806916be-6352-4333-ab77-f781b856a236",
   "metadata": {
    "tags": []
   },
   "outputs": [],
   "source": [
    "%%oc\n",
    "\n",
    "MATCH(n)\n",
    "WHERE id(n)='http://example.org/orgdemo/Document/05b0a143-1900-4356-a562-dba1ee87c3a2'\n",
    "RETURN n"
   ]
  },
  {
   "cell_type": "code",
   "execution_count": 5,
   "id": "8ba91012-f24b-4c13-9656-ef6bb403ca19",
   "metadata": {
    "tags": []
   },
   "outputs": [
    {
     "data": {
      "text/plain": [
       "['Pembroke, Wales',\n",
       " 'Pembroke Castle',\n",
       " 'Pembroke Dock',\n",
       " 'Pembrokeshire',\n",
       " 'Pembroke College, Cambridge',\n",
       " 'Pembroke College, Oxford',\n",
       " 'Pembroke, Ontario',\n",
       " 'Pembroke, Massachusetts',\n",
       " 'Pembroke, New Hampshire',\n",
       " 'Pembroke, Maine',\n",
       " 'Pembroke Pines, Florida',\n",
       " 'Pembroke Township, Illinois',\n",
       " 'Pembroke Township, Michigan',\n",
       " 'Pembroke, Bermuda',\n",
       " 'Pembroke Parish, Bermuda',\n",
       " 'http://dbpedia.org/resource/Pembroke,_Wales',\n",
       " 'http://dbpedia.org/resource/Pembroke_Castle',\n",
       " 'http://dbpedia.org/resource/Pembroke_Dock',\n",
       " 'http://dbpedia.org/resource/Pembrokeshire']"
      ]
     },
     "execution_count": 5,
     "metadata": {},
     "output_type": "execute_result"
    }
   ],
   "source": [
    "import helpers\n",
    "\n",
    "# The NLQ\n",
    "#query=\"Does Amazon have a fulfillment center in Mississippi?\"\n",
    "#query=\"What activities does AWS have going on in San Francisco?\"\n",
    "#query=\"Summarize the top trends in AWS?\"\n",
    "#query=\"What info do you have on Jeff Bezos and Andy Jassy\"\n",
    "query=\"What info do you have on energy storage\"\n",
    "query=\"Is there anything in the press about Ammazon facikities in Mississipppi, Florada, or Saskachaon\"\n",
    "\n",
    "# Make an embedding of it\n",
    "embedding = helpers.make_embedding(query)\n",
    "\n",
    "# What terms are mentioned\n",
    "terms = helpers.extract_keywords(query)\n",
    "\n",
    "resies = helpers.resolve_entities(\"Pembroke\")\n",
    "\n",
    "\n",
    "embparams={'emb': embedding}\n",
    "terms\n",
    "resies\n",
    "\n"
   ]
  },
  {
   "cell_type": "code",
   "execution_count": 3,
   "id": "f744540b-0bb2-48f1-b291-c1188f14617e",
   "metadata": {
    "tags": []
   },
   "outputs": [
    {
     "name": "stdout",
     "output_type": "stream",
     "text": [
      "Invalid query parameter input, ignoring.\n"
     ]
    },
    {
     "data": {
      "application/vnd.jupyter.widget-view+json": {
       "model_id": "942b4803c84e42d1b76a02f3e720487f",
       "version_major": 2,
       "version_minor": 0
      },
      "text/plain": [
       "Tab(children=(Output(layout=Layout(overflow='scroll')),), _titles={'0': 'Error'})"
      ]
     },
     "metadata": {},
     "output_type": "display_data"
    }
   ],
   "source": [
    "%%oc -qp embparams\n",
    "\n",
    "WITH $emb as emb\n",
    "CALL neptune.algo.vectors.topKByEmbedding(emb)\n",
    "YIELD embedding, node, score\n",
    "WITH node, score\n",
    "OPTIONAL MATCH(node)-[:belongsToDocument]->(d:Document)\n",
    "RETURN id(node), labels(node), score, d.title\n"
   ]
  },
  {
   "cell_type": "code",
   "execution_count": null,
   "id": "c7d26ab2-b811-403e-8f52-6e67a2bf9cc9",
   "metadata": {
    "tags": []
   },
   "outputs": [],
   "source": [
    "%%oc \n",
    "\n",
    "MATCH(d:ExtractedEvent)\n",
    "CALL neptune.algo.vectors.get(d)\n",
    "YIELD node, embedding\n",
    "RETURN node.doc, embedding\n",
    "LIMIT 20"
   ]
  },
  {
   "cell_type": "code",
   "execution_count": null,
   "id": "01834ebe-65f6-4f90-ad50-923fd21a6cde",
   "metadata": {
    "tags": []
   },
   "outputs": [],
   "source": [
    "%%oc \n",
    "\n",
    "MATCH(d:Document)\n",
    "CALL neptune.algo.vectors.topKByNode(d)\n",
    "YIELD node, score\n",
    "RETURN d.title, node.title, score\n",
    "LIMIT 10\n"
   ]
  },
  {
   "cell_type": "markdown",
   "id": "84131f36-8d2c-4cfb-b8b0-746527ecb778",
   "metadata": {},
   "source": [
    "### Explore the data"
   ]
  },
  {
   "cell_type": "markdown",
   "id": "73614922-5274-4445-8db8-636215da0d45",
   "metadata": {},
   "source": [
    "### Find entities by name"
   ]
  },
  {
   "cell_type": "code",
   "execution_count": 20,
   "id": "cfd5439b-0e33-4c55-8c0c-2a06fedbe635",
   "metadata": {
    "tags": []
   },
   "outputs": [],
   "source": [
    "import helpers\n",
    "\n",
    "#search_term=\"Whole Foods\"\n",
    "#search_term=\"Amazon Fire\"\n",
    "search_term=\"Zoox\"\n",
    "embedding = helpers.make_embedding(search_term)\n",
    "\n",
    "qparams={'emb': embedding, 'term': search_term}\n",
    "\n"
   ]
  },
  {
   "cell_type": "code",
   "execution_count": 21,
   "id": "f2d156ac-1303-4e1b-a5bf-789e5a74f4cf",
   "metadata": {
    "tags": []
   },
   "outputs": [
    {
     "data": {
      "application/vnd.jupyter.widget-view+json": {
       "model_id": "4631959877024238a89c93a5c8921f07",
       "version_major": 2,
       "version_minor": 0
      },
      "text/plain": [
       "Tab(children=(Output(layout=Layout(max_height='600px', max_width='940px', overflow='scroll')), Output(layout=L…"
      ]
     },
     "metadata": {},
     "output_type": "display_data"
    }
   ],
   "source": [
    "%%oc -qp qparams\n",
    "\n",
    "MATCH(n) \n",
    "WHERE n.label={term}\n",
    "RETURN n"
   ]
  },
  {
   "cell_type": "markdown",
   "id": "cacae8a1-c1ef-440a-ae3c-863a388409d7",
   "metadata": {},
   "source": [
    "### Find entities like\n",
    "\n",
    "Pretty bad \n"
   ]
  },
  {
   "cell_type": "code",
   "execution_count": 30,
   "id": "6009b0ac-398b-459e-8e27-649822a8105b",
   "metadata": {
    "tags": []
   },
   "outputs": [
    {
     "data": {
      "application/vnd.jupyter.widget-view+json": {
       "model_id": "433f10242d1a44f9860f0615ae1608c9",
       "version_major": 2,
       "version_minor": 0
      },
      "text/plain": [
       "Tab(children=(Output(layout=Layout(max_height='600px', max_width='940px', overflow='scroll')), Output(layout=L…"
      ]
     },
     "metadata": {},
     "output_type": "display_data"
    }
   ],
   "source": [
    "%%oc -qp qparams\n",
    "\n",
    "WITH $emb as emb\n",
    "CALL neptune.algo.vectors.topKByEmbedding(emb, {topK: 10})\n",
    "YIELD embedding, node, score\n",
    "WITH node, score \n",
    "WHERE not 'Chunk' in labels(node) and not 'Document' in labels(node)\n",
    "\n",
    "RETURN id(node), labels(node), score\n"
   ]
  },
  {
   "cell_type": "markdown",
   "id": "78709ba7-5208-4277-afc5-ad4594da5def",
   "metadata": {},
   "source": [
    "### Find summaries like"
   ]
  },
  {
   "cell_type": "code",
   "execution_count": 31,
   "id": "fa62bf74-9f60-4239-a440-8a039b0b1d0f",
   "metadata": {
    "tags": []
   },
   "outputs": [
    {
     "data": {
      "text/plain": [
       "['misspelling', 'Amazon', 'Mississippi', 'Florida', 'Saskatchewan']"
      ]
     },
     "execution_count": 31,
     "metadata": {},
     "output_type": "execute_result"
    }
   ],
   "source": [
    "import helpers\n",
    "\n",
    "# The NLQ\n",
    "#query=\"Does Amazon have a fulfillment center in Mississippi?\"\n",
    "#query=\"What activities does AWS have going on in San Francisco?\"\n",
    "#query=\"Summarize the top trends in AWS?\"\n",
    "#query=\"What info do you have on Jeff Bezos and Andy Jassy\"\n",
    "query=\"What info do you have on energy storage\"\n",
    "query=\"Is there anything in the press about Ammazon facikities in Mississipppi, Florada, or Saskachaon\"\n",
    "\n",
    "# Make an embedding of it\n",
    "embedding = helpers.make_embedding(query)\n",
    "\n",
    "# What terms are mentioned\n",
    "terms = helpers.extract_keywords(query)\n",
    "\n",
    "qparams={'emb': embedding, 'terms': terms}\n",
    "terms"
   ]
  },
  {
   "cell_type": "code",
   "execution_count": 33,
   "id": "8ecd06b9-7264-4946-ab91-17dcda2c54db",
   "metadata": {
    "tags": []
   },
   "outputs": [
    {
     "data": {
      "application/vnd.jupyter.widget-view+json": {
       "model_id": "67f56a8f8318411483b13a98917fe165",
       "version_major": 2,
       "version_minor": 0
      },
      "text/plain": [
       "Tab(children=(Output(layout=Layout(max_height='600px', max_width='940px', overflow='scroll')), Output(layout=L…"
      ]
     },
     "metadata": {},
     "output_type": "display_data"
    }
   ],
   "source": [
    "%%oc -qp qparams\n",
    "\n",
    "MATCH(n) \n",
    "WHERE n.label in {terms}\n",
    "RETURN id(n)"
   ]
  },
  {
   "cell_type": "code",
   "execution_count": 38,
   "id": "68547102-4caa-4f30-b735-dbea06f1fca9",
   "metadata": {
    "tags": []
   },
   "outputs": [
    {
     "data": {
      "application/vnd.jupyter.widget-view+json": {
       "model_id": "d754d3b39ffa4ab6aaaf30e829b2f401",
       "version_major": 2,
       "version_minor": 0
      },
      "text/plain": [
       "Tab(children=(Output(layout=Layout(max_height='600px', max_width='940px', overflow='scroll')), Output(layout=L…"
      ]
     },
     "metadata": {},
     "output_type": "display_data"
    }
   ],
   "source": [
    "%%oc -qp qparams\n",
    "\n",
    "WITH $emb as emb\n",
    "CALL neptune.algo.vectors.topKByEmbedding(emb, {topK: 10})\n",
    "YIELD embedding, node, score\n",
    "WITH node, score \n",
    "MATCH (node:Chunk)-[:belongsToDocument]->(doc:Document)\n",
    "OPTIONAL MATCH (doc)-[de:documentHasEvent]->(ev:ExtractedEvent)\n",
    "RETURN id(node), labels(node), id(doc),doc.title, de.role, id(ev), ev.label, score"
   ]
  },
  {
   "cell_type": "markdown",
   "id": "bd881dd6-604b-4450-9654-c9681cbdf21e",
   "metadata": {},
   "source": [
    "### Find document chunks like"
   ]
  }
 ],
 "metadata": {
  "kernelspec": {
   "display_name": "Python 3",
   "language": "python",
   "name": "python3"
  },
  "language_info": {
   "codemirror_mode": {
    "name": "ipython",
    "version": 3
   },
   "file_extension": ".py",
   "mimetype": "text/x-python",
   "name": "python",
   "nbconvert_exporter": "python",
   "pygments_lexer": "ipython3",
   "version": "3.10.8"
  }
 },
 "nbformat": 4,
 "nbformat_minor": 5
}
