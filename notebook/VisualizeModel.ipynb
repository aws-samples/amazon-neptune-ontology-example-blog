{
 "cells": [
  {
   "cell_type": "markdown",
   "metadata": {},
   "source": [
    "# Visualize Graph Data Model Using Diagram-as-Code: Property Graph\n",
    "\n",
    "This notebook shows how to introspect data in your Neptune database and draw a diagram representing the contents of that model. It uses a diagram-as-code approach.\n",
    "\n",
    "Min Requirement: Neptune 1.2.x\n",
    "\n",
    "There will be another one for RDF"
   ]
  },
  {
   "cell_type": "markdown",
   "metadata": {},
   "source": [
    "## Setup PlantUML"
   ]
  },
  {
   "cell_type": "code",
   "execution_count": null,
   "metadata": {},
   "outputs": [],
   "source": [
    "%pip install iplantuml"
   ]
  },
  {
   "cell_type": "markdown",
   "metadata": {},
   "source": [
    "### Restart the kernel\n",
    "To use the libraries installed above, restart the notebook kernel. In Jupyter, choose menu Kernel | Restart and Clear Output."
   ]
  },
  {
   "cell_type": "code",
   "execution_count": null,
   "metadata": {},
   "outputs": [],
   "source": [
    "import iplantuml"
   ]
  },
  {
   "cell_type": "markdown",
   "metadata": {},
   "source": [
    "## Load some data if you like\n",
    "If not, skip and we'll go with what you've got"
   ]
  },
  {
   "cell_type": "code",
   "execution_count": null,
   "metadata": {},
   "outputs": [],
   "source": [
    "%seed --model property_graph --dataset airports|fraud_graph"
   ]
  },
  {
   "cell_type": "code",
   "execution_count": null,
   "metadata": {},
   "outputs": [],
   "source": [
    "%seed --model rdf --dataset airports"
   ]
  },
  {
   "cell_type": "markdown",
   "metadata": {},
   "source": [
    "## Get schema from Neptune DB\n",
    "Start with summary API\n",
    "Dig a bit deeper with some queries\n",
    "\n",
    "Here's a reference: https://github.com/aws/amazon-neptune-for-graphql/blob/main/src/NeptuneSchema.js"
   ]
  },
  {
   "cell_type": "code",
   "execution_count": null,
   "metadata": {},
   "outputs": [],
   "source": [
    "pip install igraph -q "
   ]
  },
  {
   "cell_type": "code",
   "execution_count": null,
   "metadata": {},
   "outputs": [],
   "source": [
    "pip install jsonpath-ng"
   ]
  },
  {
   "cell_type": "code",
   "execution_count": null,
   "metadata": {},
   "outputs": [],
   "source": [
    "import awswrangler as wr\n",
    "import pandas as pd\n",
    "import igraph as ig\n",
    "import graph_notebook as gn\n",
    "from graph_notebook.configuration.generate_config import AuthModeEnum\n",
    "\n",
    "# Get the configuration information for the notebook\n",
    "config = gn.configuration.get_config.get_config()\n",
    "iam=True if config.auth_mode==AuthModeEnum.IAM else False\n",
    "\n",
    "# Retrieve Data from neptune\n",
    "client = wr.neptune.connect(config.host, config.port, iam_enabled=iam)\n",
    "\n",
    "def run_oc_introspect(query):\n",
    "    df = wr.neptune.execute_opencypher(client, query)\n",
    "    #display(df.head(10))\n",
    "    return df\n"
   ]
  },
  {
   "cell_type": "code",
   "execution_count": null,
   "metadata": {},
   "outputs": [],
   "source": [
    "%summary --detail --store-to pgsummary propertygraph"
   ]
  },
  {
   "cell_type": "code",
   "execution_count": null,
   "metadata": {},
   "outputs": [],
   "source": [
    "classes={}\n",
    "rel_classes={}\n",
    "\n",
    "RESULT_LIMIT=10000\n",
    "\n",
    "#\n",
    "# TODO property multiplicity\n",
    "#\n",
    "\n",
    "\n",
    "for n in pgsummary['payload']['graphSummary']['nodeLabels']:\n",
    "    classes[n] = {'labels': [], 'props': {}, 'rels': {}}\n",
    "    \n",
    "    # node labels\n",
    "    structure_query = f\"MATCH(n:{n}) RETURN distinct labels(n) as labels ORDER BY rand() LIMIT {RESULT_LIMIT}\"    \n",
    "    df = run_oc_introspect(structure_query)\n",
    "    for index, row in df.iterrows():\n",
    "        labels = row['labels']\n",
    "        classes[n]['labels'].append(labels)\n",
    "    \n",
    "    # node props\n",
    "    structure_query = f\"MATCH(n:{n}) RETURN properties(n) as props ORDER BY rand() LIMIT {RESULT_LIMIT}\"    \n",
    "    df = run_oc_introspect(structure_query)\n",
    "    for index, row in df.iterrows():\n",
    "        props = row['props']\n",
    "        for p in props:\n",
    "            if not(p in classes[n]['props']):\n",
    "                classes[n]['props'][p] = []\n",
    "            typ = type(props[p])\n",
    "            if not typ in classes[n]['props'][p]:\n",
    "                classes[n]['props'][p].append(typ)\n",
    "\n",
    "    # edges\n",
    "    structure_query = f\"MATCH(n:{n})-[e]->(m) RETURN distinct type(e) as edgetype, labels(m) as target ORDER BY rand() LIMIT {RESULT_LIMIT}\"    \n",
    "    df = run_oc_introspect(structure_query)\n",
    "    for index, row in df.iterrows():\n",
    "        edge_type = row['edgetype']\n",
    "        target = row['target']\n",
    "        if not(edge_type in classes[n]['rels']):\n",
    "            classes[n]['rels'][edge_type] = target\n",
    "\n",
    "    # edge properties when that node is source\n",
    "    structure_query = f\"MATCH(n:{n})-[e]->(m) RETURN type(e) as edgetype, properties(e) as props ORDER BY rand() LIMIT {RESULT_LIMIT}\"    \n",
    "    df = run_oc_introspect(structure_query)\n",
    "    for index, row in df.iterrows():\n",
    "        edge_type = row['edgetype']\n",
    "        props = row['props']\n",
    "        if len(props) > 0:\n",
    "            rel_class = {'props': {}}\n",
    "            if edge_type in rel_classes:\n",
    "                rel_class = rel_classes[edge_type]\n",
    "            else:\n",
    "                rel_classes[edge_type] = rel_class\n",
    "            for p in props:\n",
    "                if not(p in rel_classes[edge_type]['props']):\n",
    "                    rel_classes[edge_type]['props'][p] = []\n",
    "                typ = type(props[p])\n",
    "                if not typ in rel_classes[edge_type]['props'][p]:\n",
    "                    rel_classes[edge_type]['props'][p].append(typ)\n",
    "\n",
    "\n",
    "\n",
    "[classes, rel_classes]"
   ]
  },
  {
   "cell_type": "code",
   "execution_count": null,
   "metadata": {},
   "outputs": [],
   "source": [
    "# Gap analysis - anything from summary not in our model\n",
    "\n",
    "# node labels\n",
    "for n in pgsummary['payload']['graphSummary']['nodeLabels']:\n",
    "    if not(n in classes):\n",
    "        print(f\"***** Summary node label not accounted for {n}\")\n",
    "\n",
    "# edge labels\n",
    "for e in pgsummary['payload']['graphSummary']['edgeLabels']:\n",
    "    found = True\n",
    "    for n in classes:\n",
    "        if e in classes[n]['rels']:\n",
    "            found = True\n",
    "            break\n",
    "            \n",
    "    if not(found):\n",
    "        print(f\"***** Summary edge label not accounted for {e}\")\n",
    "\n",
    "# node properties\n",
    "for np in pgsummary['payload']['graphSummary']['nodeProperties']:\n",
    "    found = True\n",
    "    for p in np:\n",
    "        for n in classes:\n",
    "            if p in classes[n]['props']:\n",
    "                found = True\n",
    "                break            \n",
    "        if not(found):\n",
    "            print(f\"***** Node property not accounted for {p}\")\n",
    "\n",
    "# edge properties\n",
    "for ep in pgsummary['payload']['graphSummary']['edgeProperties']:\n",
    "    found = True\n",
    "    for p in ep:\n",
    "        for n in rel_classes:\n",
    "            if p in rel_classes[n]['props']:\n",
    "                found = True\n",
    "                break            \n",
    "        if not(found):\n",
    "            print(f\"***** Edge property not accounted for {p}\")\n",
    "\n",
    "# node structures\n",
    "for ns in pgsummary['payload']['graphSummary']['nodeStructures']:\n",
    "    len_props = len(ns['nodeProperties'])\n",
    "    len_rels = len(ns['distinctOutgoingEdgeLabels'])\n",
    "    found = False\n",
    "    for n in classes:\n",
    "        props_found = False\n",
    "        rels_found = False\n",
    "        ccount = 0\n",
    "        for p in ns['nodeProperties']:\n",
    "            if p in classes[n]['props']:\n",
    "                ccount += 1\n",
    "        if ccount == len_props:\n",
    "            props_found = True\n",
    "                \n",
    "        if len_rels == 0:\n",
    "            rels_found = True\n",
    "        else:\n",
    "            rcount = 0\n",
    "            for p in ns['distinctOutgoingEdgeLabels']:\n",
    "                if p in classes[n]['rels']:\n",
    "                    rcount += 1\n",
    "            if rcount == len_rels:\n",
    "                rels_found = True\n",
    "                \n",
    "        if props_found and rels_found:\n",
    "            found = True\n",
    "            break\n",
    "    if not(found):\n",
    "        print(f\"***** Node structure not accounted for  {ns}\")\n",
    "\n",
    "# edge structures\n",
    "for es in pgsummary['payload']['graphSummary']['edgeStructures']:\n",
    "    found = False\n",
    "    len_props = len(es['edgeProperties'])\n",
    "    for r in rel_classes:\n",
    "        rcount = 0\n",
    "        for p in es['edgeProperties']:\n",
    "            if p in rel_classes[r]['props']:\n",
    "                rcount += 1\n",
    "        if rcount == len_props:\n",
    "            #print(\"edge prop match \" + r)\n",
    "            found = True\n",
    "            break\n",
    "    if not(found):\n",
    "        print(f\"***** Edge structure not accounted for {es}\")\n",
    "\n",
    "print(\"Checks done\")"
   ]
  },
  {
   "cell_type": "markdown",
   "metadata": {},
   "source": [
    "## Visualize\n",
    "### Build PlantUML spec"
   ]
  },
  {
   "cell_type": "code",
   "execution_count": null,
   "metadata": {},
   "outputs": [],
   "source": [
    "classes_str = \"\"\n",
    "rels_str = \"\"\n",
    "\n",
    "for c in classes:\n",
    "    classstr = f\"\\nclass {c} {{\"\n",
    "    for p in classes[c]['props']:\n",
    "        classstr += f\"\\n   - {classes[c]['props'][p]} {p}\"\n",
    "\n",
    "    for r in classes[c]['rels']:\n",
    "        for target in classes[c]['rels'][r]:\n",
    "            rels_str += f'\\n{c} \"1\" -- \"*\" {target} : {r} > '\n",
    "            \n",
    "        if r in rel_classes:\n",
    "            propstr = \"\"\n",
    "            for rp in rel_classes[r]['props']:\n",
    "                propstr += f\"{rp}:{rel_classes[r]['props'][rp]} \"\n",
    "            rels_str += f\"\\nnote on link : {propstr}\"\n",
    "\n",
    "\n",
    "    classstr += \"\\n}\"\n",
    "    classes_str += classstr\n",
    "\n",
    "#for c in rel_classes:\n",
    "#    classstr = f\"\\nclass {c} {{\"\n",
    "#    for p in classes[c]['props']:\n",
    "#        classstr += f\"\\n   - {classes[c]['props'][p]} {p}\"\n",
    "        \n",
    "#    classstr += \"\\n}\"\n",
    "#    classes_str += classstr\n",
    "\n",
    "plantspec = f\"\"\"\n",
    "@startuml\n",
    "\n",
    "{classes_str}\n",
    "\n",
    "{rels_str}\n",
    "\n",
    "@enduml\n",
    "\"\"\""
   ]
  },
  {
   "cell_type": "code",
   "execution_count": null,
   "metadata": {},
   "outputs": [],
   "source": [
    "print(plantspec)"
   ]
  },
  {
   "cell_type": "markdown",
   "metadata": {},
   "source": [
    "### Render from the Spec"
   ]
  },
  {
   "cell_type": "code",
   "execution_count": null,
   "metadata": {},
   "outputs": [],
   "source": [
    "ipython = get_ipython()\n",
    "ipython.run_cell_magic(\"plantuml\", \"\", plantspec)"
   ]
  },
  {
   "cell_type": "markdown",
   "metadata": {},
   "source": [
    "### If I want to tweak it, do here and render"
   ]
  },
  {
   "cell_type": "code",
   "execution_count": null,
   "metadata": {},
   "outputs": [],
   "source": [
    "%%plantuml\n",
    "\n",
    "@startuml\n",
    "\n",
    "\n",
    "class AuthoritativePublication {\n",
    "   - [<class 'str'>] sourceid\n",
    "   - [<class 'str'>] venue\n",
    "   - [<class 'int'>] year\n",
    "   - [<class 'str'>] source\n",
    "   - [<class 'str'>] title\n",
    "}\n",
    "class PPContract {\n",
    "   - [<class 'str'>] salesChannels\n",
    "   - [<class 'int'>] mcc\n",
    "   - [<class 'int'>] version\n",
    "   - [<class 'list'>] paymentType\n",
    "   - [<class 'str'>] objectType\n",
    "   - [<class 'str'>] contractUid\n",
    "   - [<class 'int'>] createdDate\n",
    "   - [<class 'int'>] nextParameterSync\n",
    "   - [<class 'int'>] merchantId\n",
    "   - [<class 'str'>] entityUid\n",
    "   - [<class 'int'>] modifiedDate\n",
    "   - [<class 'str'>] name\n",
    "   - [<class 'str'>] currency\n",
    "   - [<class 'str'>] startDate\n",
    "   - [<class 'str'>] status\n",
    "}\n",
    "class Publication {\n",
    "   - [<class 'str'>] sourceid\n",
    "   - [<class 'str'>] venue\n",
    "   - [<class 'int'>] year\n",
    "   - [<class 'str'>] source\n",
    "   - [<class 'str'>] title\n",
    "}\n",
    "class Author {\n",
    "   - [<class 'str'>] name\n",
    "}\n",
    "class LinkedPublication {\n",
    "   - [<class 'str'>] sourceid\n",
    "   - [<class 'str'>] venue\n",
    "   - [<class 'int'>] year\n",
    "   - [<class 'str'>] source\n",
    "   - [<class 'str'>] title\n",
    "}\n",
    "\n",
    "\n",
    "AuthoritativePublication \"1\" -- \"*\" Author : hasAuthor > \n",
    "AuthoritativePublication \"1\" -- \"*\" LinkedPublication : matches > \n",
    "note on link : matchReason:[<class 'str'>] matchAlg:[<class 'str'>] matchSource:[<class 'str'>] \n",
    "PPContract \"1\" -- \"*\" PPContract : pois > \n",
    "note on link : additionalParameters:[<class 'str'>] altPoiId:[<class 'int'>] \n",
    "Publication \"1\" -- \"*\" Author : hasAuthor > \n",
    "LinkedPublication \"1\" -- \"*\" Author : hasAuthor > \n",
    "\n",
    "@enduml"
   ]
  }
 ],
 "metadata": {
  "kernelspec": {
   "display_name": "Python 3",
   "language": "python",
   "name": "python3"
  },
  "language_info": {
   "codemirror_mode": {
    "name": "ipython",
    "version": 3
   },
   "file_extension": ".py",
   "mimetype": "text/x-python",
   "name": "python",
   "nbconvert_exporter": "python",
   "pygments_lexer": "ipython3",
   "version": "3.10.8"
  }
 },
 "nbformat": 4,
 "nbformat_minor": 2
}
