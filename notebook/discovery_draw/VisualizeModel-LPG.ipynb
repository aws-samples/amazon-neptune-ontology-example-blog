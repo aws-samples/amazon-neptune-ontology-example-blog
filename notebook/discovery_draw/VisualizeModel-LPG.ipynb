{
 "cells": [
  {
   "cell_type": "markdown",
   "metadata": {},
   "source": [
    "# Visualize Graph Data Model Using Diagram-as-Code: Property Graph\n",
    "\n",
    "This notebook shows how to introspect property graph data in your Neptune database and draw a diagram representing the contents of that model. It uses a diagram-as-code approach. We use a combination of Neptune summary API and OpenCypher queries to discover your graph schema. We then use PlantUML to draw the schema.\n",
    "\n",
    "### Min Requirement: \n",
    "- Neptune 1.2.x or higher\n",
    "- Summary API must be working. See requirements https://docs.aws.amazon.com/neptune/latest/userguide/neptune-graph-summary.html. \n",
    "\n",
    "There is a companion notebook for RDF.\n",
    "\n",
    "\n",
    "TODO add sample data with:\n",
    "- Lots of node labels - E.g., CREATE (n:Customer<N>-Device {`~id`: 'Device_15', ID: 15, Value: 'XYZ123456'})\n",
    "- Multiple labels, so lots of Customer<N> labels: CREATE (n:Device:Customer1 {`~id`: 'Device_15', ID: 15, Value: 'XYZ123456'})\n",
    "- Would I ever have LOTS of edge labels? - try one for fun connectedTo-<N>\n",
    "    \n"
   ]
  },
  {
   "cell_type": "markdown",
   "metadata": {},
   "source": [
    "## Setup PlantUML\n",
    "We will use Plant UML to render the diagram"
   ]
  },
  {
   "cell_type": "code",
   "execution_count": null,
   "metadata": {},
   "outputs": [],
   "source": [
    "%pip install iplantuml"
   ]
  },
  {
   "cell_type": "markdown",
   "metadata": {},
   "source": [
    "** Restart kernel **"
   ]
  },
  {
   "cell_type": "code",
   "execution_count": null,
   "metadata": {},
   "outputs": [],
   "source": [
    "import iplantuml"
   ]
  },
  {
   "cell_type": "markdown",
   "metadata": {},
   "source": [
    "## Setup Discovery\n",
    "Get connection to Neptune"
   ]
  },
  {
   "cell_type": "code",
   "execution_count": null,
   "metadata": {},
   "outputs": [],
   "source": [
    "import json\n",
    "import os\n",
    "import lpg_discovery\n",
    "\n",
    "def get_neptune_env(var):\n",
    "    return os.popen(f\"source ~/.bashrc ; echo ${var}\").read().split(\"\\n\")[0]\n",
    "    \n",
    "# Grab Neptune cluster host/port from notebook instance environment variables\n",
    "GRAPH_NOTEBOOK_HOST= get_neptune_env(\"GRAPH_NOTEBOOK_HOST\")\n",
    "GRAPH_NOTEBOOK_PORT= get_neptune_env(\"GRAPH_NOTEBOOK_PORT\")\n",
    "GRAPH_NOTEBOOK_AUTH_MODE= get_neptune_env(\"GRAPH_NOTEBOOK_AUTH_MODE\")\n",
    "AWS_REGION= get_neptune_env(\"AWS_REGION\")\n",
    "USE_IAM_AUTH = GRAPH_NOTEBOOK_AUTH_MODE != 'DEFAULT'\n",
    "\n",
    "lpg_discovery.set_neptune_env(GRAPH_NOTEBOOK_HOST, GRAPH_NOTEBOOK_PORT, AWS_REGION, USE_IAM_AUTH)\n"
   ]
  },
  {
   "cell_type": "markdown",
   "metadata": {},
   "source": [
    "## Load some data if you like\n",
    "If not, skip and we'll go with what you've got"
   ]
  },
  {
   "cell_type": "code",
   "execution_count": null,
   "metadata": {},
   "outputs": [],
   "source": [
    "%seed --model property_graph --dataset airports"
   ]
  },
  {
   "cell_type": "code",
   "execution_count": null,
   "metadata": {},
   "outputs": [],
   "source": [
    "%seed --model property_graph --dataset fraud_graph"
   ]
  },
  {
   "cell_type": "code",
   "execution_count": null,
   "metadata": {},
   "outputs": [],
   "source": [
    "%seed --model property_graph --dataset knowledge-graph"
   ]
  },
  {
   "cell_type": "markdown",
   "metadata": {},
   "source": [
    "### Movies"
   ]
  },
  {
   "cell_type": "code",
   "execution_count": null,
   "metadata": {},
   "outputs": [],
   "source": [
    "# Use the boto3 session SDK to fetch the region being used for this workshop\n",
    "import boto3\n",
    "\n",
    "# Dynamically build the S3 path based on the region\n",
    "s3datapath = \"s3://ee-assets-prod-\" + AWS_REGION + \\\n",
    "    \"/modules/f3f89ef4607743429fb01ae23d983197/v1/workshop/data-v2/imdb-pg/\"\n",
    "\n",
    "# Using the Neptune Workbench's %load magic to instantiate a bulk load from the social graph in S3\n",
    "%load -s {s3datapath} -f csv -p OVERSUBSCRIBE --store-to result1 --run"
   ]
  },
  {
   "cell_type": "code",
   "execution_count": null,
   "metadata": {},
   "outputs": [],
   "source": [
    "%load_status {result1['payload']['loadId']} --details --errors"
   ]
  },
  {
   "cell_type": "markdown",
   "metadata": {},
   "source": [
    "## Use Summary API to Get Schema\n",
    "\n",
    "Start with summary API to get basic schema from stats\n",
    "\n",
    "Then dig a bit deeper with some queries\n",
    "\n",
    "Here's a reference: https://github.com/aws/amazon-neptune-for-graphql/blob/main/src/NeptuneSchema.js"
   ]
  },
  {
   "cell_type": "code",
   "execution_count": null,
   "metadata": {},
   "outputs": [],
   "source": [
    "%summary --detail --store-to pgsummary propertygraph"
   ]
  },
  {
   "cell_type": "markdown",
   "metadata": {},
   "source": [
    "## Run discovery\n",
    "Run OpenCypher introspection queries.\n",
    "The result is a list of introspected node types, their properties, their relationships."
   ]
  },
  {
   "cell_type": "code",
   "execution_count": null,
   "metadata": {
    "scrolled": true
   },
   "outputs": [],
   "source": [
    "observation=lpg_discovery.discover(pgsummary)\n",
    "\n",
    "observation"
   ]
  },
  {
   "cell_type": "markdown",
   "metadata": {},
   "source": [
    "\n",
    "## Build PlantUML spec\n",
    "Map the observed to UML class diagram PlantUML form."
   ]
  },
  {
   "cell_type": "code",
   "execution_count": null,
   "metadata": {},
   "outputs": [],
   "source": [
    "plantspec = lpg_discovery.to_plant_uml(observation)\n",
    "print(plantspec)"
   ]
  },
  {
   "cell_type": "markdown",
   "metadata": {},
   "source": [
    "## Render from the Spec\n",
    "Draw it in PlantUML"
   ]
  },
  {
   "cell_type": "code",
   "execution_count": null,
   "metadata": {},
   "outputs": [],
   "source": [
    "#import plantuml\n",
    "ipython = get_ipython()\n",
    "ipython.run_cell_magic(\"plantuml\", \"-n lpg_all\", plantspec)"
   ]
  },
  {
   "cell_type": "markdown",
   "metadata": {},
   "source": [
    "## Too much? Wittle it down\n",
    "\n",
    "Just airport."
   ]
  },
  {
   "cell_type": "code",
   "execution_count": null,
   "metadata": {},
   "outputs": [],
   "source": [
    "class_filter = [\"continent\", \"country\", \"airport\", \"version\"]\n",
    "plantspec = lpg_discovery.to_plant_uml(observation, class_filter)\n",
    "print(plantspec)"
   ]
  },
  {
   "cell_type": "code",
   "execution_count": null,
   "metadata": {},
   "outputs": [],
   "source": [
    "ipython = get_ipython()\n",
    "ipython.run_cell_magic(\"plantuml\", \"-n lpg_airport\", plantspec)"
   ]
  }
 ],
 "metadata": {
  "kernelspec": {
   "display_name": "Python 3",
   "language": "python",
   "name": "python3"
  },
  "language_info": {
   "codemirror_mode": {
    "name": "ipython",
    "version": 3
   },
   "file_extension": ".py",
   "mimetype": "text/x-python",
   "name": "python",
   "nbconvert_exporter": "python",
   "pygments_lexer": "ipython3",
   "version": "3.10.8"
  }
 },
 "nbformat": 4,
 "nbformat_minor": 2
}
