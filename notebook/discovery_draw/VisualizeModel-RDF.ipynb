{
 "cells": [
  {
   "cell_type": "markdown",
   "metadata": {},
   "source": [
    "# Visualize Graph Data Model Using Diagram-as-Code: RDF\n",
    "\n",
    "This notebook shows how to introspect Resource Description Framework (RDF) data in your Neptune database and draw a diagram representing the contents of that model. It uses a diagram-as-code approach. We use SPARQL queries to discover your graph schema. We then use PlantUML to draw the schema.\n",
    "\n",
    "What we try to draw:\n",
    "- A set of classes with properties representing the structure of instances in the database.\n",
    "- Edge properties using reification, named graphs, nary relations.\n",
    "- Aspects of the ontology, including classes, properties, and restrictions. \n",
    "\n",
    "What we do not draw (yet):\n",
    "- SHACL\n",
    "\n",
    "### Min Requirement: \n",
    "- Neptune 1.2.x or higher\n",
    "\n",
    "There is a companion notebook for Labeled Property Graph.\n"
   ]
  },
  {
   "cell_type": "markdown",
   "metadata": {},
   "source": [
    "## Setup PlantUML\n",
    "We will use Plant UML to render the diagram"
   ]
  },
  {
   "cell_type": "code",
   "execution_count": null,
   "metadata": {},
   "outputs": [],
   "source": [
    "%pip install iplantuml"
   ]
  },
  {
   "cell_type": "markdown",
   "metadata": {},
   "source": [
    "** Restart kernel **"
   ]
  },
  {
   "cell_type": "code",
   "execution_count": null,
   "metadata": {},
   "outputs": [],
   "source": [
    "import iplantuml"
   ]
  },
  {
   "cell_type": "markdown",
   "metadata": {},
   "source": [
    "## Setup Discovery\n",
    "Get connection to Neptune"
   ]
  },
  {
   "cell_type": "code",
   "execution_count": null,
   "metadata": {},
   "outputs": [],
   "source": [
    "import json\n",
    "import os\n",
    "import rdf_discovery\n",
    "\n",
    "def get_neptune_env(var):\n",
    "    return os.popen(f\"source ~/.bashrc ; echo ${var}\").read().split(\"\\n\")[0]\n",
    "    \n",
    "# Grab Neptune cluster host/port from notebook instance environment variables\n",
    "GRAPH_NOTEBOOK_HOST= get_neptune_env(\"GRAPH_NOTEBOOK_HOST\")\n",
    "GRAPH_NOTEBOOK_PORT= get_neptune_env(\"GRAPH_NOTEBOOK_PORT\")\n",
    "GRAPH_NOTEBOOK_AUTH_MODE= get_neptune_env(\"GRAPH_NOTEBOOK_AUTH_MODE\")\n",
    "AWS_REGION= get_neptune_env(\"AWS_REGION\")\n",
    "USE_IAM_AUTH = GRAPH_NOTEBOOK_AUTH_MODE != 'DEFAULT'\n",
    "\n",
    "rdf_discovery.set_neptune_env(GRAPH_NOTEBOOK_HOST, GRAPH_NOTEBOOK_PORT, AWS_REGION, USE_IAM_AUTH)\n"
   ]
  },
  {
   "cell_type": "markdown",
   "metadata": {},
   "source": [
    "## Load some data if you like\n",
    "If not, skip and we'll go with what you've got"
   ]
  },
  {
   "cell_type": "markdown",
   "metadata": {},
   "source": [
    "### Air routes data"
   ]
  },
  {
   "cell_type": "code",
   "execution_count": null,
   "metadata": {},
   "outputs": [],
   "source": [
    "%seed --model rdf --dataset airports"
   ]
  },
  {
   "cell_type": "markdown",
   "metadata": {},
   "source": [
    "### Edge properties data"
   ]
  },
  {
   "cell_type": "code",
   "execution_count": null,
   "metadata": {},
   "outputs": [],
   "source": [
    "%%sparql\n",
    "\n",
    "# Named graphs - http://kelvinlawrence.net/air-routes/class/Airport route predicate has this\n",
    "\n",
    "PREFIX : <http://example.org/test/>\n",
    "\n",
    "INSERT DATA {\n",
    "    # reification\n",
    "    :mike a :ReMan .\n",
    "    :joe a :ReMan .\n",
    "    :lulu a :ReWoman .\n",
    "    :freckles a :ReWoman .\n",
    "    \n",
    "    :ml_marriage a rdf:Statement .\n",
    "    :ml_marriage rdf:subject :mike .\n",
    "    :ml_marriage rdf:predicate :hasSpouse .\n",
    "    :ml_marriage rdf:object :lulu .\n",
    "    :ml_marriage :rating 6 .\n",
    "    :ml_marriage :ratingSource :BetterMarriages .\n",
    "    \n",
    "    :jf_marriage a rdf:Statement .\n",
    "    :jf_marriage rdf:subject :joe .\n",
    "    :jf_marriage rdf:predicate :hasSpouse .\n",
    "    :jf_marriage rdf:object :freckles .\n",
    "    :jf_marriage :rating 9 .\n",
    "    :jf_marriage :ratingSource :DearlyBetrothed .\n",
    "    \n",
    "    # singleton\n",
    "    :luke a :SMan .\n",
    "    :mark a :SMan .\n",
    "    :veronica a :SWoman .\n",
    "    :seema a :SWoman .\n",
    "    \n",
    "    :luke :hasSpouse_1 :veronica .\n",
    "    :hasSpouse_1 rdf:singletonPropertyOf :hasSpouseSingleton .\n",
    "    :hasSpouse_1 :rating 7 .\n",
    "    :hasSpouse_1 :ratingSource :DearlyBetrothed .\n",
    "\n",
    "    :mark :hasSpouse_2 :seema .\n",
    "    :hasSpouse_2 rdf:singletonPropertyOf :hasSpouseSingleton .\n",
    "    :hasSpouse_2 :rating 9 .\n",
    "    :hasSpouse_2 :ratingSource :WeddingsPartiesAnything .\n",
    "\n",
    "    # n-ary\n",
    "    :jojo a :NMan .\n",
    "    :mardi a :NWoman .\n",
    "    _:b0 a :NMarriage .\n",
    "    _:b0 :partner :jojo .\n",
    "    _:b0 :partner :mardi .\n",
    "    _:b0 :rating 9 .\n",
    "    _:b0 :ratingSource :VegasChapels .\n",
    "}"
   ]
  },
  {
   "cell_type": "markdown",
   "metadata": {},
   "source": [
    "### Lists, multival, multitype props"
   ]
  },
  {
   "cell_type": "code",
   "execution_count": null,
   "metadata": {},
   "outputs": [],
   "source": [
    "%%sparql\n",
    "\n",
    "PREFIX : <http://example.org/test/>\n",
    "\n",
    "INSERT DATA {\n",
    "    :mobj1 a :Multitude .\n",
    "    \n",
    "    :mobj1_x a :Multitude2 .\n",
    "    :mobj1_y a :Multitude2 .\n",
    "    :mobj1_z a :Multitude3 .\n",
    "    \n",
    "    # data\n",
    "    \n",
    "    # single val\n",
    "    :mobj1 :md1 \"val\" .\n",
    " \n",
    "     # multi val\n",
    "    :mobj1 :md2 \"val\" .\n",
    "    :mobj1 :md2 \"val2\" .\n",
    "\n",
    "     # multi val and type\n",
    "    :mobj1 :md3 \"val\" .\n",
    "    :mobj1 :md3 \"val2\" .\n",
    "    :mobj1 :md3 42 .\n",
    "\n",
    "     # mixed obj/data\n",
    "    :mobj1 :md4 \"val\" .\n",
    "    :mobj1 :md4 :mobj1_x .\n",
    "\n",
    "    # object\n",
    "    \n",
    "    # single val\n",
    "    :mobj1 :mo1 :mobj1_x .\n",
    " \n",
    "     # multi val\n",
    "    :mobj1 :mo2 :mobj1_x .\n",
    "    :mobj1 :mo2 :mobj1_y .\n",
    "\n",
    "     # multi val and type\n",
    "    :mobj1 :mo3 :mobj1_x .\n",
    "    :mobj1 :mo3 :mobj1_y .\n",
    "    :mobj1 :mo3 :mobj1_z .\n",
    "\n",
    "    # list\n",
    "    \n",
    "    :mobj1 :mdl1 ( \"val\" ) .\n",
    "    :mobj1 :mdl2 ( \"val\" \"val2\" ) .\n",
    "    :mobj1 :mdl3 ( \"val\" \"val2\" 42 ) .\n",
    "    :mobj1 :mdl4 ( \"val\" :mobj1_x ) .\n",
    "    :mobj1 :mol1 ( :mobj1_x ) .\n",
    "    :mobj1 :mol2 ( :mobj1_x :mobj1_y ) .\n",
    "    :mobj1 :mol3 ( :mobj1_x :mobj1_y :mobj1_z ) .\n",
    "    \n",
    "    # bag (Seq, Alt, Container would be much the same)\n",
    "    \n",
    "    :mobj1 :mdc1 [\n",
    "        a rdf:Bag ;\n",
    "        rdf:_1 \"val\" \n",
    "      ] .\n",
    "    :mobj1 :mdc2 [\n",
    "        a rdf:Bag ;\n",
    "        rdf:_1 \"val\" ;\n",
    "        rdf:_2 \"val2\" \n",
    "      ] .\n",
    "      \n",
    "    :mobj1 :mdc3 [\n",
    "        a rdf:Bag ;\n",
    "        rdf:_1 \"val\" ;\n",
    "        rdf:_2 \"val2\" ;\n",
    "        rdf:_3 :mobj1_x\n",
    "      ] .\n",
    "\n",
    "    :mobj1 :mdc4 [\n",
    "        a rdf:Bag ;\n",
    "        rdf:_1 \"val\" ;\n",
    "        rdf:_2 :mobj1_x\n",
    "      ] .\n",
    "\n",
    "    :mobj1 :moc1 [\n",
    "        a rdf:Bag ;\n",
    "        rdf:_1 :mobj1_x\n",
    "      ] .\n",
    "\n",
    "    :mobj1 :moc2 [\n",
    "        a rdf:Bag ;\n",
    "        rdf:_1 :mobj1_x ;\n",
    "        rdf:_2 :mobj1_y \n",
    "      ] .\n",
    "\n",
    "    :mobj1 :moc3 [\n",
    "        a rdf:Bag ;\n",
    "        rdf:_1 :mobj1_x ;\n",
    "        rdf:_2 :mobj1_y ;\n",
    "        rdf:_3 :mobj1_z\n",
    "      ] .}"
   ]
  },
  {
   "cell_type": "markdown",
   "metadata": {},
   "source": [
    "### Same class name, different namespace"
   ]
  },
  {
   "cell_type": "code",
   "execution_count": null,
   "metadata": {},
   "outputs": [],
   "source": [
    "%%sparql\n",
    "\n",
    "# Class under different \n",
    "\n",
    "PREFIX : <http://example.org/test2/>\n",
    "\n",
    "INSERT DATA {\n",
    "    :mobj1 a :Multitude .\n",
    "    :mobj1 rdfs:label \"different test!\" .\n",
    "}\n"
   ]
  },
  {
   "cell_type": "markdown",
   "metadata": {},
   "source": [
    "### Lots of reification and singleton instances"
   ]
  },
  {
   "cell_type": "code",
   "execution_count": null,
   "metadata": {},
   "outputs": [],
   "source": [
    "for i in range(1000):\n",
    "    singpreds = \"\"\n",
    "    for j in range(50):\n",
    "        singpreds += f'''\n",
    "    :mork{i} :testpred_{j} {j} .\n",
    "    :testpred_{j} rdf:singletonPropertyOf :testPredSingleton .\n",
    "    :testpred_{j} :measure {j} .\n",
    "    :testpred_{j} :measure {j + 1} .\n",
    "'''\n",
    "\n",
    "    q = f'''\n",
    "PREFIX : <http://example.org/test/>\n",
    "\n",
    "INSERT DATA {{\n",
    "    # reification\n",
    "    :mike{i} a :ReifMan .\n",
    "    :reif{i} a rdf:Statement .\n",
    "    :reif{i} rdf:subject :mike{i} .\n",
    "    :reif{i} rdf:predicate :testpred .\n",
    "    :reif{i} rdf:object ( {i} {i+1} {i+2} ) .\n",
    "    :reif{i} :measure :reif{i} .\n",
    "        \n",
    "    # singleton\n",
    "    :mork{i} a :SingMan .\n",
    "    :mork{i} :justAList ( {i} {i+1} {i+2} ) .\n",
    "    :mork{i} :justABag [\n",
    "        a rdf:Bag ;\n",
    "        rdf:_1 {i} ;\n",
    "        rdf:_2 {i + 1}\n",
    "      ] .\n",
    "    {singpreds}\n",
    "\n",
    "}}    \n",
    "'''\n",
    "    if i % 20 == 0:\n",
    "        print(i)\n",
    "    rdf_discovery.execute_sparql(q, \"update\")\n"
   ]
  },
  {
   "cell_type": "markdown",
   "metadata": {},
   "source": [
    "### Ontology"
   ]
  },
  {
   "cell_type": "markdown",
   "metadata": {},
   "source": [
    "For fun, also try loading data used in https://github.com/aws-samples/amazon-neptune-ontology-example-blog/blob/main/notebook/Neptune_Ontology_Example.ipynb.\n",
    "\n",
    "Follow the import steps there. "
   ]
  },
  {
   "cell_type": "markdown",
   "metadata": {},
   "source": [
    "### Movies"
   ]
  },
  {
   "cell_type": "code",
   "execution_count": null,
   "metadata": {},
   "outputs": [],
   "source": [
    "# Use the boto3 session SDK to fetch the region being used for this workshop\n",
    "import boto3\n",
    "\n",
    "# Dynamically build the S3 path based on the region\n",
    "s3datapath = \"s3://ee-assets-prod-\" + AWS_REGION + \\\n",
    "    \"/modules/f3f89ef4607743429fb01ae23d983197/v1/workshop/data-v2/imdb-rdf\"\n",
    "\n",
    "# Using the Neptune Workbench's %load magic to instantiate a bulk load from the social graph in S3\n",
    "%load -s {s3datapath} -f nquads -p OVERSUBSCRIBE --store-to result1 --run"
   ]
  },
  {
   "cell_type": "code",
   "execution_count": null,
   "metadata": {},
   "outputs": [],
   "source": [
    "%load_status {result1['payload']['loadId']} --details --errors"
   ]
  },
  {
   "cell_type": "markdown",
   "metadata": {},
   "source": [
    "## Discover what's in the Neptune database.\n",
    "\n",
    "Find a schema from RDF instances, plus ontology. \n",
    "\n",
    "We don't use the summary API for this. Rather, we run SPARQL queries to sample the data. \n",
    "\n"
   ]
  },
  {
   "cell_type": "code",
   "execution_count": null,
   "metadata": {},
   "outputs": [],
   "source": [
    "observed = rdf_discovery.discover_observational()\n",
    "print(json.dumps(observed, indent=2))\n"
   ]
  },
  {
   "cell_type": "markdown",
   "metadata": {},
   "source": [
    "## Observe ontology too, and merge that with observed"
   ]
  },
  {
   "cell_type": "code",
   "execution_count": null,
   "metadata": {},
   "outputs": [],
   "source": [
    "all_classes = rdf_discovery.discover_and_merge_ontological(observed)\n",
    "print(json.dumps(all_classes, indent=2))\n"
   ]
  },
  {
   "cell_type": "markdown",
   "metadata": {},
   "source": [
    "## Build PlantUML spec\n",
    "Map the observed to UML class diagram PlantUML form."
   ]
  },
  {
   "cell_type": "code",
   "execution_count": null,
   "metadata": {},
   "outputs": [],
   "source": [
    "rdf_discovery.load_prefixes()\n",
    "# ... If I needed to, I could add my own prefixes. I won't\n",
    "# px = rdf_discovery.get_prefixes_by_prefix()\n",
    "# rdf_discovery.add_prefix(\"mypfx\", \"http://example.org/example42/\")\n",
    "\n",
    "plantspec = rdf_discovery.to_plant_uml(all_classes)\n",
    "print(plantspec)"
   ]
  },
  {
   "cell_type": "markdown",
   "metadata": {},
   "source": [
    "## Render from the Spec"
   ]
  },
  {
   "cell_type": "code",
   "execution_count": null,
   "metadata": {},
   "outputs": [],
   "source": [
    "import iplantuml\n",
    "ipython = get_ipython()\n",
    "ipython.run_cell_magic(\"plantuml\", \"-n rdf_all\", plantspec)"
   ]
  },
  {
   "cell_type": "markdown",
   "metadata": {},
   "source": [
    "## Too much? Wittle it down\n",
    "\n",
    "Just airport"
   ]
  },
  {
   "cell_type": "code",
   "execution_count": null,
   "metadata": {},
   "outputs": [],
   "source": [
    "AIRPORT_NS='http://kelvinlawrence.net/air-routes/class/'\n",
    "class_filter = [f\"{AIRPORT_NS}Continent\", f\"{AIRPORT_NS}Country\", f\"{AIRPORT_NS}Airport\", f\"{AIRPORT_NS}Version\"]\n",
    "plantspec = rdf_discovery.to_plant_uml(all_classes, class_filter)\n",
    "print(plantspec)"
   ]
  },
  {
   "cell_type": "code",
   "execution_count": null,
   "metadata": {},
   "outputs": [],
   "source": [
    "ipython = get_ipython()\n",
    "ipython.run_cell_magic(\"plantuml\", \"-n rdf_airport\", plantspec)"
   ]
  }
 ],
 "metadata": {
  "kernelspec": {
   "display_name": "Python 3",
   "language": "python",
   "name": "python3"
  },
  "language_info": {
   "codemirror_mode": {
    "name": "ipython",
    "version": 3
   },
   "file_extension": ".py",
   "mimetype": "text/x-python",
   "name": "python",
   "nbconvert_exporter": "python",
   "pygments_lexer": "ipython3",
   "version": "3.10.8"
  }
 },
 "nbformat": 4,
 "nbformat_minor": 2
}
