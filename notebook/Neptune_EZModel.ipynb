{
 "cells": [
  {
   "cell_type": "markdown",
   "metadata": {},
   "source": [
    "# EZ Model\n",
    "\n",
    "Notebook to drive model discovery, data load, asking questions.\n",
    "\n",
    "You discover model by chatting with an OpenAI LLM model. You visualize the model using PlantUML, a diagram-as-code tool. \n",
    "\n",
    "Once you're happy with the model, you create test data, again with help from OpenAI.\n",
    "\n",
    "You then load that data into Amazon Neptune database.\n",
    "\n",
    "Then you ask it questions. For this we use Langchain's Neptune OpenCypher integration with LLM. The question/answer flow is the following:\n",
    "- During setup, the Langchain Neptune OpenCypher component introspects the Neptune database and extracts a graph schema.\n",
    "- The end user asks as a natural language question.\n",
    "- The LLM writes an OpenCypher query representing the intent of the question. It uses the graph schema extracted above.\n",
    "- The Langchain Neptune OpenCypher component executes the query and returns back the result, represented as a JSON object.\n",
    "- The LLM answers the end user's question in natural language based on the query result.\n",
    "\n",
    "We also include a handy reverse engineer package; generate PlantUML diagram from data in the graph."
   ]
  },
  {
   "cell_type": "markdown",
   "metadata": {},
   "source": [
    "## Setup\n",
    "\n",
    "### Notebook Pre-Req\n",
    "\n",
    "You can upload this notebook into a Jupyter environment configured to use Neptune Workbench. I tested this on an Amazon Sagemaker notebook running Python 3.10.x. \n",
    "\n",
    "### Python Pre-Req\n",
    "\n",
    "I tested this on an Amazon Sagemaker notebook running Python 3.10.x. You need Python 3.9 or higher.\n",
    "\n",
    "### Neptune Pre-Req\n",
    "\n",
    "Your Neptune cluster must run engine version 1.2.1.x.\n",
    "\n",
    "### Setting key\n",
    "\n",
    "You need an OpenAI API key with access to GPT-4 model. See https://platform.openai.com/account/billing/overview for instructions how to fund the key for use.\n",
    "\n",
    "Once you have your key, add a file in the same folder as the notebook called *key.txt*. To do this: \n",
    "- From Jupyter, New | File\n",
    "- Paste your key in the file\n",
    "- Rename key.txt\n"
   ]
  },
  {
   "cell_type": "code",
   "execution_count": null,
   "metadata": {},
   "outputs": [],
   "source": [
    "!pip install langchain"
   ]
  },
  {
   "cell_type": "code",
   "execution_count": null,
   "metadata": {},
   "outputs": [],
   "source": [
    "!pip install openai"
   ]
  },
  {
   "cell_type": "code",
   "execution_count": null,
   "metadata": {},
   "outputs": [],
   "source": [
    "!pip install iplantuml"
   ]
  },
  {
   "cell_type": "code",
   "execution_count": null,
   "metadata": {},
   "outputs": [],
   "source": [
    "import iplantuml"
   ]
  },
  {
   "cell_type": "code",
   "execution_count": null,
   "metadata": {},
   "outputs": [],
   "source": [
    "import os\n",
    "import subprocess\n",
    "\n",
    "GRAPH_NOTEBOOK_HOST= os.popen(\"source ~/.bashrc ; echo $GRAPH_NOTEBOOK_HOST\").read().split(\"\\n\")[0]\n",
    "\n",
    "# assumes your key is in key.txt in the same folder.\n",
    "# if you prefer, uncomment the second line and hardcode the value \n",
    "# Decided not to use dotenv because saving as .env from Jupyter was not obvious. Doable from terminal, but wanted to dumb it down.\n",
    "OPENAI_API_KEY = os.popen(\"cat key.txt | head -1\").read().split(\"\\n\")[0]\n",
    "#OPENAI_API_KEY ='<MYKEY>'"
   ]
  },
  {
   "cell_type": "markdown",
   "metadata": {},
   "source": [
    "## Python version check\n"
   ]
  },
  {
   "cell_type": "code",
   "execution_count": null,
   "metadata": {},
   "outputs": [],
   "source": [
    "%%bash \n",
    "# 3.9 or higher?\n",
    "python --version"
   ]
  },
  {
   "cell_type": "markdown",
   "metadata": {},
   "source": [
    "## Chat with LLM to find a basic model"
   ]
  },
  {
   "cell_type": "code",
   "execution_count": null,
   "metadata": {},
   "outputs": [],
   "source": [
    "#x='Certainly! Here\\'s the PlantUML class diagram representation of the knowledge graph for a company exclusion list:\\n\\n```\\n@startuml\\nclass Company {\\n  - name: string\\n  - industry: string\\n  - exclusionReason: string\\n}\\n\\nclass ExclusionList {\\n  - companies: Company[]\\n  + addCompany(company: Company): void\\n  + getCompanies(): Company[]\\n}\\n\\nclass KnowledgeGraph {\\n  - exclusionList: ExclusionList\\n  + addCompany(company: Company): void\\n  + removeCompany(company: Company): void\\n  + getExclusionReason(company: Company): string\\n  + getExcludedCompanies(): Company[]\\n}\\n\\nKnowledgeGraph \"1\" -- \"1\" ExclusionList\\nExclusionList \"1\" -- \"*\" Company\\n\\n@enduml\\n```\\n\\nIn this diagram, the `Company` class represents individual companies and has attributes like `name`, `industry`, and `exclusionReason`. The `ExclusionList` class contains a list of `Company` objects and provides methods for adding and retrieving companies. The `KnowledgeGraph` class represents the overall knowledge graph and has methods for managing companies and retrieving exclusion information.\\n\\nPlease note that this is just one possible representation and can be customized based on specific requirements and additional relationships between classes.'\n",
    "#y='Sure! Here is an example of a PlantUML class diagram representing a knowledge graph for a company exclusion list:\\n\\n```puml\\n@startuml\\nclass KnowledgeGraph {\\n  +nodes: List<Node>\\n  +edges: List<Edge>\\n}\\n\\nclass Node {\\n  +id: String\\n  +label: String\\n  +properties: Map<String, Object>\\n}\\n\\nclass Edge {\\n  +id: String\\n  +label: String\\n  +sourceNodeId: String\\n  +targetNodeId: String\\n  +properties: Map<String, Object>\\n}\\n\\nKnowledgeGraph \"1\" --> \"n\" Node\\nKnowledgeGraph \"1\" --> \"n\" Edge\\n@enduml\\n```\\n\\nIn this diagram, the `KnowledgeGraph` class represents the overall knowledge graph, which consists of a list of `Node` objects and a list of `Edge` objects. Each `Node` represents a concept or entity in the knowledge graph and has an identifier (`id`), a label, and a set of properties. Similarly, each `Edge` represents a relationship between two nodes and has an identifier, a label, source and target node identifiers, and a set of properties.\\n\\nPlease note that this diagram is a simplified representation and may not capture all the specific details of your desired company exclusion list knowledge graph. Let me know if you have any specific requirements or if you would like any further modifications to this diagram!'\n",
    "\n",
    "def extract_codeblocks(res):\n",
    "    curr_block = None\n",
    "    blocks = []\n",
    "    toks = res.split(\"```\")\n",
    "    for t in toks:\n",
    "        if curr_block is None:\n",
    "            curr_block = {'text': \"\", 'type': \"\"}\n",
    "        else:\n",
    "            first_nl = t.find(\"\\n\")\n",
    "            curr_block['type'] = t[0:first_nl]\n",
    "            curr_block['text'] = t[first_nl:].strip()\n",
    "            blocks.append(curr_block)\n",
    "            curr_block = None\n",
    "    return blocks\n",
    "\n",
    "#extract_codeblocks(y)"
   ]
  },
  {
   "cell_type": "code",
   "execution_count": null,
   "metadata": {},
   "outputs": [],
   "source": [
    "from langchain.chat_models import ChatOpenAI\n",
    "from langchain.chains import ConversationChain  \n",
    "  \n",
    "chat = ChatOpenAI(openai_api_key=OPENAI_API_KEY, temperature=0.9)\n",
    "conversation = ConversationChain(llm=chat)  "
   ]
  },
  {
   "cell_type": "markdown",
   "metadata": {},
   "source": [
    "### Q1 - Show a knowledge graph model for a company exclusion list\n",
    "<details><summary>Click to view/hide sample answer</summary>\n",
    "<p>\n",
    "Sure! One popular knowledge graph model that can be used for a company exclusion list is the Resource Description Framework (RDF) model. RDF provides a way to represent knowledge and information in a graph-like structure, where nodes represent entities and edges represent relationships between those entities.\n",
    "\n",
    "To create a knowledge graph model for a company exclusion list, you could define entities such as \"companies,\" \"exclusion criteria,\" and \"exclusion list.\" The relationships between these entities can be represented using RDF properties.\n",
    "\n",
    "For example, you could have a company entity with properties like \"name,\" \"industry,\" and \"location.\" The exclusion criteria entity could have properties like \"reason,\" \"severity,\" and \"start/end dates.\" Finally, the exclusion list entity could have properties like \"exclusion reason,\" \"date added,\" and \"responsible authority.\"\n",
    "\n",
    "By linking these entities and properties together using RDF triples, you can create a knowledge graph model that represents the relationships between companies, exclusion criteria, and the exclusion list itself. This model can be used to store and query information about which companies are included in the exclusion list, the reasons for their exclusion, and other relevant details.\n",
    "</p>\n",
    "</details>"
   ]
  },
  {
   "cell_type": "code",
   "execution_count": null,
   "metadata": {},
   "outputs": [],
   "source": [
    "res = conversation.run(\"Show a knowledge graph model for a company exclusion list\")\n",
    "print(res)"
   ]
  },
  {
   "cell_type": "markdown",
   "metadata": {},
   "source": [
    "### Q2 - Show as PlantUML class diagram\n",
    "<details><summary>Click to view/hide sample answer</summary>\n",
    "<p>\n",
    "Certainly! Here is a PlantUML class diagram representing the knowledge graph model for a company exclusion list:\n",
    "\n",
    "```\n",
    "@startuml\n",
    "class Company {\n",
    "  - name: string\n",
    "  - industry: string\n",
    "  - location: string\n",
    "}\n",
    "\n",
    "class ExclusionCriteria {\n",
    "  - reason: string\n",
    "  - severity: string\n",
    "  - startEndDate: string\n",
    "}\n",
    "\n",
    "class ExclusionList {\n",
    "  - exclusionReason: string\n",
    "  - dateAdded: string\n",
    "  - responsibleAuthority: string\n",
    "}\n",
    "\n",
    "Company -- \"1\" ExclusionCriteria\n",
    "Company -- \"0..*\" ExclusionList\n",
    "ExclusionList -- \"1\" ExclusionCriteria\n",
    "@enduml\n",
    "```\n",
    "\n",
    "In this diagram, we have three classes representing entities in the knowledge graph model: \"Company,\" \"ExclusionCriteria,\" and \"ExclusionList.\" Each class has its properties defined as private attributes.\n",
    "\n",
    "The \"Company\" class has properties like \"name,\" \"industry,\" and \"location.\" The \"ExclusionCriteria\" class has properties like \"reason,\" \"severity,\" and \"startEndDate.\" The \"ExclusionList\" class has properties like \"exclusionReason,\" \"dateAdded,\" and \"responsibleAuthority.\"\n",
    "\n",
    "The relationships between these classes are represented by associations. A company can have one or more exclusion criteria, so there is a \"1\" to \"*\" association between \"Company\" and \"ExclusionCriteria.\" Similarly, a company can be included in multiple exclusion lists, and an exclusion list can have multiple exclusion criteria. Therefore, there are associations between \"Company\" and \"ExclusionList\" as well as between \"ExclusionList\" and \"ExclusionCriteria,\" both represented by a \"1\" to \"*\" association.\n",
    "\n",
    "This PlantUML class diagram provides a visual representation of the knowledge graph model for a company exclusion list, showcasing the relationships between entities and their properties.\n",
    "    \n",
    "</p>\n",
    "</details>"
   ]
  },
  {
   "cell_type": "code",
   "execution_count": null,
   "metadata": {},
   "outputs": [],
   "source": [
    "res = conversation.run(\"Show as PlantUML class diagram\")\n",
    "uml = extract_codeblocks(res)\n",
    "print(res)"
   ]
  },
  {
   "cell_type": "markdown",
   "metadata": {},
   "source": [
    "### Show PlantUML diagram\n",
    "<details><summary>Click to view/hide sample image</summary>\n",
    "<p>\n",
    "    <img src=\"https://raw.githubusercontent.com/aws-samples/amazon-neptune-ontology-example-blog/main/plantuml/plantuml1.png\"/>   \n",
    "</p>\n",
    "</details>"
   ]
  },
  {
   "cell_type": "code",
   "execution_count": null,
   "metadata": {},
   "outputs": [],
   "source": [
    "print(str(len(uml)))\n",
    "ipython = get_ipython()\n",
    "ipython.run_cell_magic(\"plantuml\", \"\", uml[0]['text'])"
   ]
  },
  {
   "cell_type": "markdown",
   "metadata": {},
   "source": [
    "### Q3 - Include how companies related to each other\n",
    "<details><summary>Click to view/hide sample answer</summary>\n",
    "<p>\n",
    "Certainly! In the context of a knowledge graph model for a company exclusion list, the relationships between companies can be represented in various ways. Here are a few examples:\n",
    "\n",
    "1. Parent-Subsidiary Relationship: Companies can have a parent company or subsidiaries. This relationship can be represented using an additional property in the \"Company\" class, such as \"parentCompany\" or \"subsidaries.\" For example, you could add a property called \"parentCompany\" with a data type of \"Company\" in the \"Company\" class to represent the parent company of a particular company.\n",
    "\n",
    "2. Mergers and Acquisitions: Companies can merge with or acquire other companies. This relationship can be represented using an association class or an additional property. For example, you could create an association class called \"MergersAndAcquisitions\" that has properties like \"acquiringCompany,\" \"acquiredCompany,\" and \"date.\" This association class represents the relationship between two companies involved in a merger or acquisition.\n",
    "\n",
    "3. Competitor Relationship: Companies can have competitors within the same industry. This relationship can be represented using an additional property in the \"Company\" class, such as \"competitors.\" For example, you could add a property called \"competitors\" with a data type of \"Company[]\" in the \"Company\" class to represent the list of competitors for a particular company.\n",
    "\n",
    "These are just a few examples of how companies can be related to each other within the context of a knowledge graph model for a company exclusion list. The specific relationships and their representations may vary depending on the requirements and the domain of the application.    \n",
    "</p>\n",
    "</details>"
   ]
  },
  {
   "cell_type": "code",
   "execution_count": null,
   "metadata": {},
   "outputs": [],
   "source": [
    "res = conversation.run(\"Include how companies related to each other\")\n",
    "uml = extract_codeblocks(res)\n",
    "print(res)"
   ]
  },
  {
   "cell_type": "markdown",
   "metadata": {},
   "source": [
    "### Q4 - Show that as PlantUML\n",
    "<details><summary>Click to view/hide sample answer</summary>\n",
    "<p>\n",
    "Certainly! Here is an updated PlantUML class diagram representing the relationships between companies in the context of a knowledge graph model for a company exclusion list:\n",
    "\n",
    "```\n",
    "@startuml\n",
    "class Company {\n",
    "  - name: string\n",
    "  - industry: string\n",
    "  - location: string\n",
    "  - parentCompany: Company\n",
    "  - subsidiaries: Company[]\n",
    "  - competitors: Company[]\n",
    "}\n",
    "\n",
    "class ExclusionCriteria {\n",
    "  - reason: string\n",
    "  - severity: string\n",
    "  - startEndDate: string\n",
    "}\n",
    "\n",
    "class ExclusionList {\n",
    "  - exclusionReason: string\n",
    "  - dateAdded: string\n",
    "  - responsibleAuthority: string\n",
    "}\n",
    "\n",
    "class MergersAndAcquisitions {\n",
    "  - acquiringCompany: Company\n",
    "  - acquiredCompany: Company\n",
    "  - date: string\n",
    "}\n",
    "\n",
    "Company -- \"1\" ExclusionCriteria\n",
    "Company -- \"0..*\" ExclusionList\n",
    "ExclusionList -- \"1\" ExclusionCriteria\n",
    "Company -- \"1\" Company: parentCompany\n",
    "Company -- \"*\" Company: subsidiaries\n",
    "Company -- \"*\" Company: competitors\n",
    "Company -- \"*\" MergersAndAcquisitions: acquiringCompany\n",
    "Company -- \"*\" MergersAndAcquisitions: acquiredCompany\n",
    "@enduml\n",
    "```\n",
    "\n",
    "In this updated diagram, the \"Company\" class now includes additional properties to represent the relationships between companies. The \"parentCompany\" property represents the parent company of a particular company, while the \"subsidiaries\" property represents a list of subsidiaries for a particular company. The \"competitors\" property represents a list of competitors for a particular company.\n",
    "\n",
    "Additionally, I have added a new class called \"MergersAndAcquisitions\" that represents the relationship between two companies involved in a merger or acquisition. This class has properties like \"acquiringCompany,\" \"acquiredCompany,\" and \"date.\"\n",
    "\n",
    "The associations between these classes have also been updated to reflect the new relationships. There are associations between \"Company\" and \"MergersAndAcquisitions\" for both acquiring and acquired companies.\n",
    "\n",
    "This updated PlantUML class diagram provides a more comprehensive representation of the relationships between companies in the knowledge graph model for a company exclusion list.\n",
    "</p>\n",
    "</details>"
   ]
  },
  {
   "cell_type": "code",
   "execution_count": null,
   "metadata": {},
   "outputs": [],
   "source": [
    "res = conversation.run(\"Show that as PlantUML\")\n",
    "uml = extract_codeblocks(res)\n",
    "print(res)"
   ]
  },
  {
   "cell_type": "markdown",
   "metadata": {},
   "source": [
    "### Show PlantUML Diagram\n",
    "<details><summary>Click to view/hide sample image</summary>\n",
    "<p>\n",
    "    <img src=\"https://raw.githubusercontent.com/aws-samples/amazon-neptune-ontology-example-blog/main/plantuml/plantuml2.png\"/>   \n",
    "</p>\n",
    "</details>"
   ]
  },
  {
   "cell_type": "code",
   "execution_count": null,
   "metadata": {},
   "outputs": [],
   "source": [
    "ipython = get_ipython()\n",
    "ipython.run_cell_magic(\"plantuml\", \"\", uml[0]['text'])"
   ]
  },
  {
   "cell_type": "markdown",
   "metadata": {},
   "source": [
    "### Let's tweak a bit"
   ]
  },
  {
   "cell_type": "code",
   "execution_count": null,
   "metadata": {},
   "outputs": [],
   "source": [
    "good_model_content = \"\"\"\n",
    "class Company {\n",
    "    +Name: String\n",
    "    +Industry: String\n",
    "    +Location: String\n",
    "}\n",
    "\n",
    "class ExclusionCriteria {\n",
    "    +Type: String\n",
    "    +Description: String\n",
    "    +SeverityLevel: String\n",
    "}\n",
    "\n",
    "class Exclusion {\n",
    "    +ExclusionStartDate: Date\n",
    "    +ExclusionEndDate: Date\n",
    "    +ExclusionType: String\n",
    "}\n",
    "\n",
    "Company \"1\" --> \"*\" Exclusion : has exclusion \n",
    "Company \"1\" --> \"0..1\" Exclusion : has current exclusion \n",
    "Exclusion \"1\" --> \"1\" ExclusionCriteria : has criteria\n",
    "\n",
    "Company \"1\" --> \"*\" Company: related to\n",
    "note on link : reltype: String, established date: Date\n",
    "\"\"\"\n",
    "\n",
    "good_model= \"@startuml\\n\" + good_model_content + \"\\n@enduml\\n\"\n",
    "\n"
   ]
  },
  {
   "attachments": {},
   "cell_type": "markdown",
   "metadata": {},
   "source": [
    "### Tweaked PlantUML\n",
    "<details><summary>Click to view/hide image</summary>\n",
    "<p>\n",
    "    <img src=\"https://raw.githubusercontent.com/aws-samples/amazon-neptune-ontology-example-blog/main/plantuml/plantuml3.png\"/>   \n",
    "</p>\n",
    "</details>"
   ]
  },
  {
   "cell_type": "code",
   "execution_count": null,
   "metadata": {},
   "outputs": [],
   "source": [
    "ipython = get_ipython()\n",
    "ipython.run_cell_magic(\"plantuml\", \"\", good_model)"
   ]
  },
  {
   "cell_type": "markdown",
   "metadata": {},
   "source": [
    "## Get some test data for our model\n",
    "\n",
    "<details><summary>Click to view/hide sample answers</summary>\n",
    "<p>\n",
    "    \n",
    "Here is what sample response for OpenCypher looks like:\n",
    "\n",
    "```\n",
    "CREATE (:Company {Name: 'Company A', Industry: 'Tech', Location: 'California'})\n",
    "CREATE (:Company {Name: 'Company B', Industry: 'Finance', Location: 'New York'})\n",
    "CREATE (:Company {Name: 'Company C', Industry: 'Retail', Location: 'Texas'})\n",
    "\n",
    "CREATE (:ExclusionCriteria {Type: 'Financial', Description: 'Non-payment of invoices', SeverityLevel: 'High'})\n",
    "CREATE (:ExclusionCriteria {Type: 'Legal', Description: 'Violation of labor laws', SeverityLevel: 'Medium'})\n",
    "CREATE (:ExclusionCriteria {Type: 'Ethical', Description: 'Unethical business practices', SeverityLevel: 'Low'})\n",
    "\n",
    "MATCH (companyA:Company {Name: 'Company A'})\n",
    "MATCH (companyB:Company {Name: 'Company B'})\n",
    "MATCH (financial:ExclusionCriteria {Type: 'Financial'})\n",
    "CREATE (companyA)-[:has current exclusion]->(:Exclusion {ExclusionStartDate: date('2022-01-01'), ExclusionEndDate: date('2022-12-31'), ExclusionType: 'Financial'})\n",
    "CREATE (companyA)-[:has exclusion]->(:Exclusion {ExclusionStartDate: date('2020-01-01'), ExclusionEndDate: null, ExclusionType: 'Legal'})\n",
    "CREATE (companyA)-[:has exclusion]->(:Exclusion {ExclusionStartDate: date('2021-01-01'), ExclusionEndDate: date('2021-12-31'), ExclusionType: 'Ethical'})\n",
    "CREATE (companyA)-[:has exclusion]->(:Exclusion {ExclusionStartDate: date('2020-01-01'), ExclusionEndDate: null, ExclusionType: 'Financial'})\n",
    "CREATE (companyB)-[:has exclusion]->(:Exclusion {ExclusionStartDate: date('2022-01-01'), ExclusionEndDate: null, ExclusionType: 'Legal'})\n",
    "CREATE (companyB)-[:has exclusion]->(:Exclusion {ExclusionStartDate: date('2021-01-01'), ExclusionEndDate: date('2021-12-31'), ExclusionType: 'Ethical'})\n",
    "CREATE (companyB)-[:has exclusion]->(:Exclusion {ExclusionStartDate: date('2020-01-01'), ExclusionEndDate: null, ExclusionType: 'Financial'})\n",
    "CREATE (companyA)-[:related to {reltype: 'Partner', established date: date('2020-01-01')}]->(companyB)\n",
    "CREATE (companyA)-[:related to {reltype: 'Supplier', established date: date('2021-01-01')}]->(companyC)\n",
    "```\n",
    "    \n",
    "And sample for RDF:\n",
    "\n",
    "```\n",
    "@prefix : <http://example.com/> .\n",
    "@prefix rdf: <http://www.w3.org/1999/02/22-rdf-syntax-ns#> .\n",
    "@prefix rdfs: <http://www.w3.org/2000/01/rdf-schema#> .\n",
    "@prefix xsd: <http://www.w3.org/2001/XMLSchema#> .\n",
    "\n",
    ":CompanyA rdf:type :Company ;\n",
    "          :Name \"Company A\" ;\n",
    "          :Industry \"Tech\" ;\n",
    "          :Location \"California\" .\n",
    "\n",
    ":CompanyB rdf:type :Company ;\n",
    "          :Name \"Company B\" ;\n",
    "          :Industry \"Finance\" ;\n",
    "          :Location \"New York\" .\n",
    "\n",
    ":CompanyC rdf:type :Company ;\n",
    "          :Name \"Company C\" ;\n",
    "          :Industry \"Retail\" ;\n",
    "          :Location \"Texas\" .\n",
    "\n",
    ":Financial rdf:type :ExclusionCriteria ;\n",
    "           :Type \"Financial\" ;\n",
    "           :Description \"Non-payment of invoices\" ;\n",
    "           :SeverityLevel \"High\" .\n",
    "\n",
    ":Legal rdf:type :ExclusionCriteria ;\n",
    "       :Type \"Legal\" ;\n",
    "       :Description \"Violation of labor laws\" ;\n",
    "       :SeverityLevel \"Medium\" .\n",
    "\n",
    ":Ethical rdf:type :ExclusionCriteria ;\n",
    "         :Type \"Ethical\" ;\n",
    "         :Description \"Unethical business practices\" ;\n",
    "         :SeverityLevel \"Low\" .\n",
    "\n",
    ":ExclusionA rdf:type :Exclusion ;\n",
    "            :ExclusionStartDate \"2022-01-01\"^^xsd:date ;\n",
    "            :ExclusionEndDate \"2022-12-31\"^^xsd:date ;\n",
    "            :ExclusionType \"Financial\" ;\n",
    "            :hasCriteria :Financial .\n",
    "\n",
    ":ExclusionB rdf:type :Exclusion ;\n",
    "            :ExclusionStartDate \"2020-01-01\"^^xsd:date ;\n",
    "            :ExclusionType \"Legal\" ;\n",
    "            :hasCriteria :Legal .\n",
    "\n",
    ":ExclusionC rdf:type :Exclusion ;\n",
    "            :ExclusionStartDate \"2021-01-01\"^^xsd:date ;\n",
    "            :ExclusionEndDate \"2021-12-31\"^^xsd:date ;\n",
    "            :ExclusionType \"Ethical\" ;\n",
    "            :hasCriteria :Ethical .\n",
    "\n",
    ":ExclusionD rdf:type :Exclusion ;\n",
    "            :ExclusionStartDate \"2020-01-01\"^^xsd:date ;\n",
    "            :ExclusionType \"Financial\" .\n",
    "\n",
    ":ExclusionE rdf:type :Exclusion ;\n",
    "            :ExclusionStartDate \"2022-01-01\"^^xsd:date ;\n",
    "            :ExclusionType \"Legal\" .\n",
    "\n",
    ":ExclusionF rdf:type :Exclusion ;\n",
    "            :ExclusionStartDate \"2021-01-01\"^^xsd:date ;\n",
    "            :ExclusionEndDate \"2021-12-31\"^^xsd:date ;\n",
    "            :ExclusionType \"Ethical\" .\n",
    "\n",
    ":CompanyA :hasCurrentExclusion :ExclusionA ;\n",
    "          :hasExclusion :ExclusionB, :ExclusionC, :ExclusionD ;\n",
    "          :relatedTo [ :reltype \"Partner\" ; :establishedDate \"2020-01-01\"^^xsd:date ] .\n",
    "\n",
    ":CompanyB :hasExclusion :ExclusionE, :ExclusionF ;\n",
    "          :relatedTo [ :reltype \"Supplier\" ; :establishedDate \"2021-01-01\"^^xsd:date ] .\n",
    "\n",
    ":CompanyA :relatedTo :CompanyB .\n",
    ":CompanyA :relatedTo :CompanyC .\n",
    "```\n",
    "    \n",
    "</p>\n",
    "</details>"
   ]
  },
  {
   "cell_type": "code",
   "execution_count": null,
   "metadata": {},
   "outputs": [],
   "source": [
    "res = conversation.run(\"Generate OpenCypher queries to create sample data based on \" + good_model_content)\n",
    "#ocblock=extract_codeblocks(res)\n",
    "print(res)"
   ]
  },
  {
   "cell_type": "code",
   "execution_count": null,
   "metadata": {},
   "outputs": [],
   "source": [
    "res = conversation.run(\"Generate RDF sample data based on \" + good_model_content)\n",
    "#ocblock=extract_codeblocks(res)\n",
    "print(res)"
   ]
  },
  {
   "cell_type": "markdown",
   "metadata": {},
   "source": [
    "## Load the data from OC into Neptune"
   ]
  },
  {
   "cell_type": "code",
   "execution_count": null,
   "metadata": {
    "scrolled": true
   },
   "outputs": [],
   "source": [
    "%%oc\n",
    "\n",
    "CREATE (:Company {`~id`: 'compA', Name: 'Company A', Industry: 'Tech', Location: 'California'})\n",
    "CREATE (:Company {`~id`: 'compB', Name: 'Company B', Industry: 'Finance', Location: 'New York'})\n",
    "CREATE (:Company {`~id`: 'compC', Name: 'Company C', Industry: 'Retail', Location: 'Texas'})\n",
    "CREATE (:Company {`~id`: 'compD', Name: 'Company D', Industry: 'Retail', Location: 'Texas'})\n",
    "CREATE (:Company {`~id`: 'compE', Name: 'Company E', Industry: 'Retail', Location: 'Texas'})\n",
    "\n",
    "CREATE (:ExclusionCriteria {`~id`: 'xfin', Type: 'Financial', Description: 'Non-payment of invoices', SeverityLevel: 'High'})\n",
    "CREATE (:ExclusionCriteria {`~id`: 'xleg', Type: 'Legal', Description: 'Violation of labor laws', SeverityLevel: 'Medium'})\n",
    "CREATE (:ExclusionCriteria {`~id`: 'xeth',Type: 'Ethical', Description: 'Unethical business practices', SeverityLevel: 'Low'})\n",
    "\n",
    "CREATE (:Exclusion {`~id`: 'xa2', ExclusionStartDate: datetime('2022-01-01T00:00:01'), ExclusionType: 'Financial'})\n",
    "CREATE (:Exclusion {`~id`: 'xa1', ExclusionStartDate: datetime('2020-01-01T00:00:01'), ExclusionEndDate: datetime('2020-06-11T00:00:01'), ExclusionType: 'Financial'})\n",
    "CREATE (:Exclusion {`~id`: 'xb1', ExclusionStartDate: datetime('1985-01-01T00:00:01'), ExclusionType: 'Legal'})\n",
    "CREATE (:Exclusion {`~id`: 'xc1', ExclusionStartDate: datetime('1985-01-01T00:00:01'), ExclusionStartDate: datetime('1989-01-01T00:00:01'), ExclusionType: 'Legal'})\n",
    "                                 "
   ]
  },
  {
   "cell_type": "code",
   "execution_count": null,
   "metadata": {},
   "outputs": [],
   "source": [
    "%%oc\n",
    "\n",
    "MATCH (companyA:Company {Name: 'Company A'}),                   \n",
    "      (companyB:Company {Name: 'Company B'}), \n",
    "      (companyC:Company {Name: 'Company C'}),\n",
    "      (companyD:Company {Name: 'Company D'}),\n",
    "      (xa2:Exclusion {`~id`: 'xa2'}),\n",
    "      (xa1:Exclusion {`~id`: 'xa1'}),\n",
    "      (xb1:Exclusion {`~id`: 'xb1'}),\n",
    "      (xc1:Exclusion {`~id`: 'xc1'})\n",
    "CREATE (companyA)-[r1:relatedTo {reltype: 'Partner', establishedDate: datetime('2020-01-01T00:00:01')}]->(companyB)\n",
    "CREATE (companyA)-[r2:relatedTo {reltype: 'Supplier', establishedDate: datetime('2021-01-01T00:00:01')}]->(companyC)\n",
    "CREATE (companyC)-[r3:relatedTo {reltype: 'Supplier', establishedDate: datetime('2021-01-01T00:00:01')}]->(companyD)\n",
    "CREATE (companyA)-[:hasCurrentExclusion]->(xa2)\n",
    "CREATE (companyA)-[:hasExclusion]->(xa2)\n",
    "CREATE (companyA)-[:hasExclusion]->(xa1)\n",
    "CREATE (companyB)-[:hasCurrentExclusion]->(xb1)\n",
    "CREATE (companyB)-[:hasExclusion]->(xb1)\n",
    "CREATE (companyC)-[:hasExclusion]->(xc1)\n",
    "\n",
    "RETURN r1, r2"
   ]
  },
  {
   "cell_type": "markdown",
   "metadata": {},
   "source": [
    "## Create Neptune Langchain integration\n",
    "Neptune 1.2.1.x required"
   ]
  },
  {
   "cell_type": "code",
   "execution_count": null,
   "metadata": {},
   "outputs": [],
   "source": [
    "from langchain.graphs import NeptuneGraph\n",
    "import os\n",
    "\n",
    "host=GRAPH_NOTEBOOK_HOST\n",
    "port = 8182\n",
    "\n",
    "graph = NeptuneGraph(host=host, port=port)"
   ]
  },
  {
   "cell_type": "code",
   "execution_count": null,
   "metadata": {},
   "outputs": [],
   "source": [
    "from langchain.chat_models import ChatOpenAI\n",
    "from langchain.chains import NeptuneOpenCypherQAChain\n",
    "\n",
    "model='gpt-4'\n",
    "\n",
    "llm = ChatOpenAI(temperature=0, model_name=model, openai_api_key=OPENAI_API_KEY)\n",
    "\n",
    "chain = NeptuneOpenCypherQAChain.from_llm(\n",
    "    llm=llm, graph=graph, verbose=True, top_K=10, return_intermediate_steps=True, return_direct=False)"
   ]
  },
  {
   "cell_type": "markdown",
   "metadata": {},
   "source": [
    "## Ask questions"
   ]
  },
  {
   "cell_type": "markdown",
   "metadata": {},
   "source": [
    "### Q1 - Which companies have financial exclusions\n",
    "\n",
    "<details><summary>Click to view/hide sample answer</summary>\n",
    "<p>\n",
    "    \n",
    "Generated Cypher:\n",
    "    \n",
    "MATCH (c:Company)-[:hasExclusion]->(e:Exclusion) \n",
    "WHERE e.ExclusionType = 'Financial' \n",
    "RETURN c.Name\n",
    "    \n",
    "Full Context:\n",
    "{'results': [{'c.Name': 'Company A'}, {'c.Name': 'Company A'}]}\n",
    "\n",
    "'The company that has financial exclusions is Company A.'\n",
    "    \n",
    "</p>\n",
    "</details>"
   ]
  },
  {
   "cell_type": "code",
   "execution_count": null,
   "metadata": {},
   "outputs": [],
   "source": [
    "chain.run('''Which companies have financial exclusions''')"
   ]
  },
  {
   "cell_type": "markdown",
   "metadata": {},
   "source": [
    "### Q2 - Which companies have current exclusions\n",
    "\n",
    "<details><summary>Click to view/hide sample answer</summary>\n",
    "<p>\n",
    "    \n",
    "Generated Cypher:\n",
    "    \n",
    "MATCH (c:Company)-[:hasExclusion]->(e:Exclusion) \n",
    "WHERE e.ExclusionType = 'Financial' \n",
    "RETURN c.Name\n",
    "    \n",
    "Full Context:\n",
    "{'results': [{'c.Name': 'Company A'}, {'c.Name': 'Company A'}]}\n",
    "\n",
    "'The companies that currently have exclusions are Company A and Company B.'    \n",
    "</p>\n",
    "</details>"
   ]
  },
  {
   "cell_type": "code",
   "execution_count": null,
   "metadata": {},
   "outputs": [],
   "source": [
    "chain.run('''Which companies have current exclusions''')"
   ]
  },
  {
   "cell_type": "markdown",
   "metadata": {},
   "source": [
    "### Q3 - Which companies do not have a current exclusion\n",
    "<details><summary>Click to view/hide sample answer</summary>\n",
    "<p>\n",
    "    \n",
    "Generated Cypher:\n",
    "    \n",
    "MATCH (c:Company)\n",
    "WHERE NOT (c)-[:hasCurrentExclusion]->(:Exclusion)\n",
    "RETURN c.Name    \n",
    "\n",
    "Full Context:\n",
    "{'results': [{'c.Name': 'Company C'}, {'c.Name': 'Company D'}, {'c.Name': 'Company E'}]}\n",
    "\n",
    "'The companies that do not have a current exclusion are Company C, Company D, and Company E.'\n",
    "</p>\n",
    "</details>"
   ]
  },
  {
   "cell_type": "code",
   "execution_count": null,
   "metadata": {},
   "outputs": [],
   "source": [
    "chain.run('''Which companies do not have a current exclusion''')"
   ]
  },
  {
   "cell_type": "markdown",
   "metadata": {},
   "source": [
    "### Q4 - Which companies located in Texas have an exclusion or are directly related to a company with an exclusion\n",
    "<details><summary>Click to view/hide sample answer</summary>\n",
    "<p>\n",
    "    \n",
    "Generated Cypher:\n",
    "    \n",
    "MATCH (c:Company)-[:hasExclusion|:hasCurrentExclusion]->(:Exclusion)\n",
    "WHERE c.Location = 'Texas'\n",
    "RETURN c.Name AS Company\n",
    "\n",
    "UNION\n",
    "\n",
    "MATCH (c:Company)-[:relatedTo]->(related:Company)-[:hasExclusion|:hasCurrentExclusion]->(:Exclusion)\n",
    "WHERE c.Location = 'Texas'\n",
    "RETURN related.Name AS Company\n",
    "\n",
    "Full Context:\n",
    "{'results': [{'Company': 'Company C'}]}\n",
    "\n",
    "'The company located in Texas that has an exclusion or is directly related to a company with an exclusion is Company C.'\n",
    "</p>\n",
    "</details>"
   ]
  },
  {
   "cell_type": "code",
   "execution_count": null,
   "metadata": {},
   "outputs": [],
   "source": [
    "chain.run('''Which companies located in Texas have an exclusion or are directly related to a company with an exclusion''')"
   ]
  },
  {
   "cell_type": "markdown",
   "metadata": {},
   "source": [
    "### Q5 - Which companies are related directly to Company A\n",
    "<details><summary>Click to view/hide sample answer</summary>\n",
    "<p>\n",
    "    \n",
    "Generated Cypher:\n",
    "    \n",
    "MATCH (c1:Company {Name: 'Company A'})-[:relatedTo]->(c2:Company)\n",
    "RETURN c2.Name\n",
    "\n",
    "Full Context:\n",
    "{'results': [{'c2.Name': 'Company C'}, {'c2.Name': 'Company B'}]}\n",
    "\n",
    "'The companies that are directly related to Company A are Company C and Company B.'\n",
    "</p>\n",
    "</details>"
   ]
  },
  {
   "cell_type": "code",
   "execution_count": null,
   "metadata": {},
   "outputs": [],
   "source": [
    "chain.run('''Which companies are related directly to Company A''')"
   ]
  },
  {
   "cell_type": "markdown",
   "metadata": {},
   "source": [
    "### Q6 - Which companies are related directly or indirectly to Company A\n",
    "<details><summary>Click to view/hide sample answer</summary>\n",
    "<p>\n",
    "    \n",
    "Generated Cypher:\n",
    "    \n",
    "MATCH path = (c:Company {Name: 'Company A'})-[:relatedTo*]-(relatedCompany:Company)\n",
    "RETURN DISTINCT relatedCompany.Name\n",
    "\n",
    "Full Context:\n",
    "{'results': [{'relatedCompany.Name': 'Company D'}, {'relatedCompany.Name': 'Company B'}, {'relatedCompany.Name': 'Company C'}]}\n",
    "\n",
    "'The companies that are directly or indirectly related to Company A are Company D, Company B, and Company C.'\n",
    "</p>\n",
    "</details>"
   ]
  },
  {
   "cell_type": "code",
   "execution_count": null,
   "metadata": {},
   "outputs": [],
   "source": [
    "chain.run('''Which companies are related directly or indirectly to Company A''')"
   ]
  }
 ],
 "metadata": {
  "kernelspec": {
   "display_name": "Python 3",
   "language": "python",
   "name": "python3"
  },
  "language_info": {
   "codemirror_mode": {
    "name": "ipython",
    "version": 3
   },
   "file_extension": ".py",
   "mimetype": "text/x-python",
   "name": "python",
   "nbconvert_exporter": "python",
   "pygments_lexer": "ipython3",
   "version": "3.10.8"
  }
 },
 "nbformat": 4,
 "nbformat_minor": 2
}
