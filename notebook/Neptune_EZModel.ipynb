{
 "cells": [
  {
   "cell_type": "markdown",
   "metadata": {},
   "source": [
    "# EZ Model\n",
    "\n",
    "Notebook to drive model discovery, data load, asking questions.\n",
    "\n",
    "You discover model by chatting with an LLM model, specifically Anthropic Claude V2 via Amazon Bedrock. You visualize the model using PlantUML, a diagram-as-code tool. \n",
    "\n",
    "Once you're happy with the model, you create test data, again with help from the LLM.\n",
    "\n",
    "You then load that data into Amazon Neptune database.\n",
    "\n",
    "Then you ask it questions. For this we use Langchain's Neptune OpenCypher integration with LLM. The question/answer flow is the following:\n",
    "- During setup, the Langchain Neptune OpenCypher component introspects the Neptune database and extracts a graph schema.\n",
    "- The end user asks as a natural language question.\n",
    "- The LLM writes an OpenCypher query representing the intent of the question. It uses the graph schema extracted above.\n",
    "- The Langchain Neptune OpenCypher component executes the query and returns back the result, represented as a JSON object.\n",
    "- The LLM answers the end user's question in natural language based on the query result."
   ]
  },
  {
   "cell_type": "markdown",
   "metadata": {},
   "source": [
    "## Setup\n",
    "### Pre-Req\n",
    "This notebook is meant to run in an Amazon Neptune notebook. We recommend using the Quickstart setup to create a Neptune cluster and notebook. See https://docs.aws.amazon.com/neptune/latest/userguide/get-started-cfn-create.html. \n",
    "\n",
    "Your Neptune cluster must run engine version 1.2.1.O.R6 or higher. \n",
    "\n",
    "Python 3.10 or higher is required in the notebook instance. If you are running an older notebook instance, we recommend creating a new instance to use this notebook.\n",
    "\n",
    "This notebook uses Amazon Bedrock. You must setup Neptune and the notebook in a region supported by Bedrock. See https://docs.aws.amazon.com/bedrock/latest/userguide/what-is-bedrock.html for supported regions. We tested this in us-east-1.\n",
    "\n",
    "### IAM policy for Amazon Bedrock\n",
    "Modify the IAM role for your notebook instance with a policy allowing access to Bedrock. You can find that role in the SageMaker console under Notebooks. Select your notebook instance to see its details, including IAM role. Edit the role by adding the following. \n",
    "\n",
    "        {\n",
    "            \"Action\": [\n",
    "                \"bedrock:ListFoundationModels\",\n",
    "                \"bedrock:InvokeModel\"\n",
    "            ],\n",
    "            \"Resource\": \"*\",\n",
    "            \"Effect\": \"Allow\"\n",
    "        }\n",
    "### Install Python dependencies\n",
    "Run the following cells to install required libraries."
   ]
  },
  {
   "cell_type": "code",
   "execution_count": null,
   "metadata": {},
   "outputs": [],
   "source": [
    "%pip install --no-build-isolation --force-reinstall \\\n",
    "    \"boto3>=1.28.57\" \\\n",
    "    \"awscli>=1.29.57\" \\\n",
    "    \"botocore>=1.31.57\""
   ]
  },
  {
   "cell_type": "code",
   "execution_count": null,
   "metadata": {},
   "outputs": [],
   "source": [
    "%pip install langchain==0.0.309"
   ]
  },
  {
   "cell_type": "code",
   "execution_count": null,
   "metadata": {},
   "outputs": [],
   "source": [
    "%pip install iplantuml"
   ]
  },
  {
   "cell_type": "markdown",
   "metadata": {},
   "source": [
    "### Restart the kernel\n",
    "To use the libraries installed above, restart the notebook kernel. In Jupyter, choose menu Kernel | Restart and Clear Output."
   ]
  },
  {
   "cell_type": "markdown",
   "metadata": {},
   "source": [
    "## Create conversational client allowing you to ask questions to LLM\n",
    "Chat with Bedrock Claude V2 large language model (LLM) to create a graph data model for a company exclusion list. Then use PlantUML to visualize the grah model. First setup the conversational interface."
   ]
  },
  {
   "cell_type": "code",
   "execution_count": null,
   "metadata": {},
   "outputs": [],
   "source": [
    "import warnings\n",
    "warnings.filterwarnings('ignore')"
   ]
  },
  {
   "cell_type": "code",
   "execution_count": null,
   "metadata": {},
   "outputs": [],
   "source": [
    "def extract_codeblocks(res):\n",
    "    curr_block = None\n",
    "    blocks = []\n",
    "    toks = res.split(\"```\")\n",
    "    for t in toks:\n",
    "        if curr_block is None:\n",
    "            curr_block = {'text': \"\", 'type': \"\"}\n",
    "        else:\n",
    "            first_nl = t.find(\"\\n\")\n",
    "            curr_block['type'] = t[0:first_nl]\n",
    "            curr_block['text'] = t[first_nl:].strip()\n",
    "            blocks.append(curr_block)\n",
    "            curr_block = None\n",
    "    return blocks"
   ]
  },
  {
   "cell_type": "code",
   "execution_count": null,
   "metadata": {},
   "outputs": [],
   "source": [
    "import boto3\n",
    "from langchain.chains import ConversationChain\n",
    "from langchain.chat_models import BedrockChat\n",
    "from langchain.llms import Bedrock\n",
    "from langchain.memory import ConversationBufferMemory\n",
    "from langchain.prompts import (\n",
    "    ChatPromptTemplate, \n",
    "    SystemMessagePromptTemplate, \n",
    "    MessagesPlaceholder, \n",
    "    HumanMessagePromptTemplate, \n",
    "    PromptTemplate\n",
    ")\n",
    "\n",
    "'''\n",
    "Useful material on chat with claude\n",
    "https://github.com/langchain-ai/langchain/issues/11220\n",
    "https://github.com/aws-samples/amazon-bedrock-workshop/blob/main/04_Chatbot/00_Chatbot_Claude.ipynb\n",
    "'''\n",
    "\n",
    "\n",
    "bedrock_client = boto3.client('bedrock-runtime')\n",
    "llm = BedrockChat(\n",
    "    model_id = \"anthropic.claude-v2\",\n",
    "    client = bedrock_client\n",
    ")\n",
    "\n",
    "# turn verbose to true to see the full logs and documents\n",
    "conversation= ConversationChain(\n",
    "    llm=llm, verbose=False, memory=ConversationBufferMemory() #memory_chain\n",
    ")\n",
    "\n",
    "# langchain prompts do not always work with all the models. This prompt is tuned for Claude\n",
    "claude_prompt = PromptTemplate.from_template(\"\"\"\n",
    "\n",
    "Human: The following is a friendly conversation between a human and an AI.\n",
    "The AI is talkative and provides lots of specific details from its context. If the AI does not know\n",
    "the answer to a question, it truthfully says it does not know.\n",
    "\n",
    "Current conversation:\n",
    "<conversation_history>\n",
    "{history}\n",
    "</conversation_history>\n",
    "\n",
    "Here is the human's next reply:\n",
    "<human_reply>\n",
    "{input}\n",
    "</human_reply>\n",
    "\n",
    "Assistant:\n",
    "\"\"\")\n",
    "\n",
    "conversation.prompt = claude_prompt\n",
    "\n",
    "print(conversation.predict(input=\"Hi there!\"))"
   ]
  },
  {
   "cell_type": "markdown",
   "metadata": {},
   "source": [
    "###  Show a knowledge graph model for a company exclusion list\n",
    "<details><summary>Click to view/hide sample answer</summary>\n",
    "<p>\n",
    "A knowledge graph representing a company exclusion list could potentially model entities like companies, sectors, regions, and reasons for exclusion. It might link together companies with attributes like industry, location, business practices, and controversy level. The graph could illustrate why certain companies are excluded by connecting them to concepts like human rights violations, environmental damage, or corruption. Relationships like \"company X is excluded for reason Y\" could be modeled. Overall the knowledge graph could provide a structured, visual representation of the exclusions, their justifications, and the relationships between entities. But without access to actual exclusion list data, I can only speculate about what such a knowledge graph might look like. Please let me know if you would like me to elaborate on any part of this general response!\n",
    "\n",
    "</p>\n",
    "</details>"
   ]
  },
  {
   "cell_type": "code",
   "execution_count": null,
   "metadata": {
    "scrolled": true
   },
   "outputs": [],
   "source": [
    "print(conversation.run('''Show a knowledge graph model for a company exclusion list.'''))\n",
    "\n"
   ]
  },
  {
   "cell_type": "markdown",
   "metadata": {},
   "source": [
    "### Show as PlantUML class diagram\n",
    "<details><summary>Click to view/hide sample answer</summary>\n",
    "<p>\n",
    "Here is the company exclusion list knowledge graph as a PlantUML class diagram presented in a code block:\n",
    "\n",
    "```plantuml\n",
    "@startuml\n",
    "\n",
    "class Company {\n",
    "  - name\n",
    "  - sector\n",
    "  - region\n",
    "  - controversy_level \n",
    "}\n",
    "\n",
    "class ExclusionReason {\n",
    "  - name\n",
    "  - description  \n",
    "}\n",
    "\n",
    "class ExclusionList {\n",
    "  - name\n",
    "  - owner \n",
    "}\n",
    "\n",
    "Company \"1\" -- \"0..*\" ExclusionReason : is_excluded_for > \n",
    "ExclusionList \"1\" -- \"0..*\" Company : contains >\n",
    "\n",
    "class Sector {\n",
    "  - name  \n",
    "}\n",
    "\n",
    "Company \"1\" -- \"1\" Sector : belongs_to >\n",
    "\n",
    "class Region {\n",
    "  - name\n",
    "}\n",
    "\n",
    "Company \"1\" -- \"1\" Region : located_in >\n",
    "\n",
    "\n",
    "class Controversy {\n",
    "  - category\n",
    "  - description  \n",
    "}\n",
    "\n",
    "Company \"1\" -- \"0..*\" Controversy : involved_in >\n",
    "\n",
    "@enduml\n",
    "```\n",
    "\n",
    "Presenting the PlantUML diagram as code allows it to be easily shared and modified as plain text. Let me know if you would like me to explain or build on this\n",
    " </p>\n",
    "</details>"
   ]
  },
  {
   "cell_type": "code",
   "execution_count": null,
   "metadata": {},
   "outputs": [],
   "source": [
    "res = conversation.run('''Human: Show as a PlantUML class diagram. Present as code block.''')\n",
    "uml = extract_codeblocks(res)\n",
    "print(res)"
   ]
  },
  {
   "cell_type": "markdown",
   "metadata": {},
   "source": [
    "### Show PlantUML diagram\n",
    "<details><summary>Click to view/hide sample image</summary>\n",
    "<p>\n",
    "    <img src=\"https://raw.githubusercontent.com/aws-samples/amazon-neptune-ontology-example-blog/main/plantuml/plantuml1.png\"/>   \n",
    "</p>\n",
    "</details>"
   ]
  },
  {
   "cell_type": "code",
   "execution_count": null,
   "metadata": {},
   "outputs": [],
   "source": [
    "import iplantuml"
   ]
  },
  {
   "cell_type": "code",
   "execution_count": null,
   "metadata": {},
   "outputs": [],
   "source": [
    "print(str(len(uml)))\n",
    "ipython = get_ipython()\n",
    "ipython.run_cell_magic(\"plantuml\", \"\", uml[0]['text'])"
   ]
  },
  {
   "cell_type": "markdown",
   "metadata": {},
   "source": [
    "### Include how companies related to each other\n",
    "<details><summary>Click to view/hide sample answer</summary>\n",
    "<p>\n",
    "Here is an updated PlantUML class diagram that models how companies can be related to each other, presented as a code block:\n",
    "\n",
    "```plantuml\n",
    "@startuml\n",
    "\n",
    "class Company {\n",
    "  - name  \n",
    "  - sector\n",
    "  - region\n",
    "  - controversy_level\n",
    "}\n",
    "\n",
    "class ExclusionReason {\n",
    "  - name \n",
    "  - description   \n",
    "}\n",
    "\n",
    "class ExclusionList {\n",
    "  - name\n",
    "  - owner  \n",
    "}\n",
    "\n",
    "Company \"1\" -- \"0..*\" ExclusionReason : is_excluded_for >\n",
    "ExclusionList \"1\" -- \"0..*\" Company : contains > \n",
    "\n",
    "class Sector {\n",
    "  - name   \n",
    "}\n",
    "\n",
    "Company \"1\" -- \"1\" Sector : belongs_to >\n",
    "\n",
    "class Region {\n",
    "  - name  \n",
    "}\n",
    "\n",
    "Company \"1\" -- \"1\" Region : located_in >\n",
    "\n",
    "\n",
    "class Controversy {\n",
    "  - category\n",
    "  - description   \n",
    "}\n",
    "\n",
    "Company \"1\" -- \"0..*\" Controversy : involved_in >\n",
    "\n",
    "\n",
    "Company \"0..*\" -- \"0..*\" Company : related_to >\n",
    "\n",
    "@enduml\n",
    "```\n",
    "\n",
    "The key addition is the \"related_to\" relationship between Company\n",
    "</p>\n",
    "</details>"
   ]
  },
  {
   "cell_type": "code",
   "execution_count": null,
   "metadata": {},
   "outputs": [],
   "source": [
    "res = conversation.run('''Include how companies related to each other. Present as PlantUML codeblock''')\n",
    "uml = extract_codeblocks(res)\n",
    "print(res)"
   ]
  },
  {
   "cell_type": "markdown",
   "metadata": {},
   "source": [
    "### Show change in PlantUML\n",
    "<details><summary>Click to view/hide sample image</summary>\n",
    "<p>\n",
    "    <img src=\"https://raw.githubusercontent.com/aws-samples/amazon-neptune-ontology-example-blog/main/plantuml/plantuml2.png\"/>   \n",
    "</p>\n",
    "</details>"
   ]
  },
  {
   "cell_type": "code",
   "execution_count": null,
   "metadata": {},
   "outputs": [],
   "source": [
    "ipython = get_ipython()\n",
    "ipython.run_cell_magic(\"plantuml\", \"\", uml[0]['text'])"
   ]
  },
  {
   "cell_type": "markdown",
   "metadata": {},
   "source": [
    "### Let's tweak a bit"
   ]
  },
  {
   "cell_type": "code",
   "execution_count": null,
   "metadata": {},
   "outputs": [],
   "source": [
    "good_model_content = \"\"\"\n",
    "\n",
    "left to right direction\n",
    "class Company {\n",
    "    +Name: String\n",
    "    +Industry: String\n",
    "    +Location: String\n",
    "}\n",
    "\n",
    "class ExclusionCriteria {\n",
    "    +Type: String\n",
    "    +Description: String\n",
    "    +SeverityLevel: String\n",
    "}\n",
    "\n",
    "class Exclusion {\n",
    "    +ExclusionStartDate: Date\n",
    "    +ExclusionEndDate: Date\n",
    "    +ExclusionType: String\n",
    "}\n",
    "\n",
    "Company \"0\" --> \"*\" Exclusion : has exclusion \n",
    "Company \"0\" --> \"0..1\" Exclusion : has current exclusion \n",
    "Exclusion \"1\" --> \"1\" ExclusionCriteria : has criteria\n",
    "\n",
    "Company \"1\" --> \"*\" Company: related to\n",
    "note on link : reltype: String, established date: Date\n",
    "\"\"\"\n",
    "\n",
    "good_model= \"@startuml\\n\" + good_model_content + \"\\n@enduml\\n\"\n",
    "\n"
   ]
  },
  {
   "cell_type": "markdown",
   "metadata": {},
   "source": [
    "### Tweaked PlantUML\n",
    "<details><summary>Click to view/hide image</summary>\n",
    "<p>\n",
    "    <img src=\"https://raw.githubusercontent.com/aws-samples/amazon-neptune-ontology-example-blog/main/plantuml/plantuml3.png\"/>   \n",
    "</p>\n",
    "</details>"
   ]
  },
  {
   "cell_type": "code",
   "execution_count": null,
   "metadata": {},
   "outputs": [],
   "source": [
    "ipython = get_ipython()\n",
    "ipython.run_cell_magic(\"plantuml\", \"\", good_model)"
   ]
  },
  {
   "cell_type": "markdown",
   "metadata": {},
   "source": [
    "## Get some test data for our model\n",
    "\n",
    "<details><summary>Click to view/hide sample answers</summary>\n",
    "<p>\n",
    "    \n",
    "Here is what sample response for OpenCypher looks like:\n",
    "\n",
    "```\n",
    "// Create sample companies\n",
    "CREATE \n",
    "  (acme:Company {name: \"Acme Co\", industry: \"Manufacturing\", location: \"New York\"}),\n",
    "  (globex:Company {name: \"Globex Corp\", industry: \"Technology\", location: \"San Francisco\"}),\n",
    "  (contoso:Company {name: \"Contoso Ltd\", industry: \"Retail\", location: \"London\"})\n",
    "  \n",
    "// Create sample exclusion criteria  \n",
    "CREATE\n",
    "  (criteria1:ExclusionCriteria {type: \"Legal\", description: \"Ongoing investigation\", severity: \"High\"}),\n",
    "  (criteria2:ExclusionCriteria {type: \"Regulatory\", description: \"Sanctions violations\", severity: \"Critical\"})\n",
    "  \n",
    "// Create sample exclusions\n",
    "CREATE \n",
    "  (acme)-[:HAS_EXCLUSION]->(exclusion1:Exclusion {startDate: date('2019-01-01'), endDate: date('2020-12-31'), type: \"Legal\"}),\n",
    "  (globex)-[:HAS_CURRENT_EXCLUSION]->(exclusion2:Exclusion {startDate: date('2021-01-01'), endDate: null, type\n",
    "```\n",
    "    \n",
    "And sample for RDF:\n",
    "\n",
    "```\n",
    "@prefix : <http://example.com/>\n",
    "@prefix xsd: <http://www.w3.org/2001/XMLSchema#>\n",
    "\n",
    "# Companies\n",
    ":acme a :Company; \n",
    "    :name \"Acme Co\"; \n",
    "    :industry \"Manufacturing\";\n",
    "    :location \"New York\".\n",
    "\n",
    ":globex a :Company;\n",
    "   :name \"Globex Corp\";\n",
    "   :industry \"Technology\"; \n",
    "   :location \"San Francisco\".\n",
    "   \n",
    ":contoso a :Company;\n",
    "   :name \"Contoso Ltd\";\n",
    "   :industry \"Retail\";\n",
    "   :location \"London\".\n",
    "   \n",
    "# Exclusion criteria\n",
    ":criteria1 a :ExclusionCriteria;\n",
    "  :type \"Legal\";\n",
    "  :description \"Ongoing investigation\";\n",
    "  :severityLevel \"High\".  \n",
    "\n",
    ":criteria2 a :ExclusionCriteria;\n",
    "  :type \"Regulatory\";\n",
    "  :description \"Sanctions violations\";\n",
    "  :severityLevel \"Critical\".\n",
    "  \n",
    "# Exclusions  \n",
    ":exclusion1 a :Exclusion;\n",
    "  :exclusionStartDate \"2019-01-01\"^^xsd:date;\n",
    "  :exclusionEndDate \"2020\n",
    "```\n",
    "    \n",
    "</p>\n",
    "</details>"
   ]
  },
  {
   "cell_type": "code",
   "execution_count": null,
   "metadata": {},
   "outputs": [],
   "source": [
    "res = conversation.run('''Human: Generate OpenCypher queries to create sample data based on ''' + good_model_content)\n",
    "print(res)"
   ]
  },
  {
   "cell_type": "code",
   "execution_count": null,
   "metadata": {},
   "outputs": [],
   "source": [
    "res = conversation.run('''Human: Generate RDF sample data based on ''' + good_model_content)\n",
    "print(res)"
   ]
  },
  {
   "cell_type": "markdown",
   "metadata": {},
   "source": [
    "## Load the data from OC into Neptune\n",
    "We'll break this into two sets of OpenCypher inserts: nodes and edges. "
   ]
  },
  {
   "cell_type": "code",
   "execution_count": null,
   "metadata": {
    "scrolled": true
   },
   "outputs": [],
   "source": [
    "%%oc\n",
    "\n",
    "CREATE (:Company {`~id`: 'compA', Name: 'Company A', Industry: 'Tech', Location: 'California', Tag: 'demo'})\n",
    "CREATE (:Company {`~id`: 'compB', Name: 'Company B', Industry: 'Finance', Location: 'New York', Tag: 'demo'})\n",
    "CREATE (:Company {`~id`: 'compC', Name: 'Company C', Industry: 'Retail', Location: 'Texas', Tag: 'demo'})\n",
    "CREATE (:Company {`~id`: 'compD', Name: 'Company D', Industry: 'Retail', Location: 'Texas', Tag: 'demo'})\n",
    "CREATE (:Company {`~id`: 'compE', Name: 'Company E', Industry: 'Retail', Location: 'Texas', Tag: 'demo'})\n",
    "\n",
    "CREATE (:ExclusionCriteria {`~id`: 'xfin1', Type: 'Financial', Description: 'Non-payment of invoices', SeverityLevel: 'High', Tag: 'demo'})\n",
    "CREATE (:ExclusionCriteria {`~id`: 'xfin2', Type: 'Financial', Description: 'Rating devaluation', SeverityLevel: 'Medium', Tag: 'demo'})\n",
    "CREATE (:ExclusionCriteria {`~id`: 'xleg', Type: 'Legal', Description: 'Violation of labor laws', SeverityLevel: 'Medium', Tag: 'demo'})\n",
    "CREATE (:ExclusionCriteria {`~id`: 'xeth',Type: 'Ethical', Description: 'Unethical business practices', SeverityLevel: 'Low', Tag: 'demo'})\n",
    "\n",
    "CREATE (:Exclusion {`~id`: 'xa2', ExclusionStartDate: datetime('2022-01-01T00:00:01'), ExclusionType: 'Financial', Tag: 'demo'})\n",
    "CREATE (:Exclusion {`~id`: 'xa1', ExclusionStartDate: datetime('2020-01-01T00:00:01'), ExclusionEndDate: datetime('2020-06-11T00:00:01'), ExclusionType: 'Financial', Tag: 'demo'})\n",
    "CREATE (:Exclusion {`~id`: 'xb1', ExclusionStartDate: datetime('1985-01-01T00:00:01'), ExclusionType: 'Legal', Tag: 'demo'})\n",
    "CREATE (:Exclusion {`~id`: 'xc1', ExclusionStartDate: datetime('1985-01-01T00:00:01'), ExclusionStartDate: datetime('1989-01-01T00:00:01'), ExclusionType: 'Legal', Tag: 'demo'})\n",
    "                                 "
   ]
  },
  {
   "cell_type": "code",
   "execution_count": null,
   "metadata": {},
   "outputs": [],
   "source": [
    "%%oc\n",
    "\n",
    "MATCH (companyA:Company {`~id`: 'compA'})                  \n",
    "MATCH (companyB:Company {`~id`: 'compB'})       \n",
    "MATCH (companyC:Company {`~id`: 'compC'})       \n",
    "MATCH (companyD:Company {`~id`: 'compD'})       \n",
    "MATCH (xa2:Exclusion {`~id`: 'xa2'})\n",
    "MATCH (xa1:Exclusion {`~id`: 'xa1'})\n",
    "MATCH (xb1:Exclusion {`~id`: 'xb1'})\n",
    "MATCH (xc1:Exclusion {`~id`: 'xc1'})\n",
    "CREATE (companyA)-[r1:relatedTo {reltype: 'Partner', establishedDate: datetime('2020-01-01T00:00:01')}]->(companyB)\n",
    "CREATE (companyA)-[r2:relatedTo {reltype: 'Supplier', establishedDate: datetime('2021-01-01T00:00:01')}]->(companyC)\n",
    "CREATE (companyC)-[r3:relatedTo {reltype: 'Supplier', establishedDate: datetime('2021-01-01T00:00:01')}]->(companyD)\n",
    "CREATE (companyA)-[x1:hasCurrentExclusion]->(xa2)\n",
    "CREATE (companyA)-[x2:hasExclusion]->(xa2)\n",
    "CREATE (companyA)-[x3:hasExclusion]->(xa1)\n",
    "CREATE (companyB)-[x4:hasCurrentExclusion]->(xb1)\n",
    "CREATE (companyB)-[x5:hasExclusion]->(xb1)\n",
    "CREATE (companyC)-[x6:hasExclusion]->(xc1)\n",
    "\n"
   ]
  },
  {
   "cell_type": "code",
   "execution_count": null,
   "metadata": {},
   "outputs": [],
   "source": [
    "%%oc\n",
    "\n",
    "MATCH (xfin1:ExclusionCriteria {`~id`: 'xfin1'})\n",
    "MATCH (xfin2:ExclusionCriteria {`~id`: 'xfin2'})\n",
    "MATCH (xleg:ExclusionCriteria {`~id`: 'xleg'})\n",
    "MATCH (xa2:Exclusion {`~id`: 'xa2'})\n",
    "MATCH (xa1:Exclusion {`~id`: 'xa1'})\n",
    "MATCH (xb1:Exclusion {`~id`: 'xb1'})\n",
    "MATCH (xc1:Exclusion {`~id`: 'xc1'})\n",
    "CREATE (xa2)-[c1:hasCriteria]->(xfin1)\n",
    "CREATE (xa1)-[c2:hasCriteria]->(xfin2)\n",
    "CREATE (xb1)-[c3:hasCriteria]->(xfin1)\n",
    "CREATE (xc1)-[c4:hasCriteria]->(xleg)\n"
   ]
  },
  {
   "cell_type": "markdown",
   "metadata": {},
   "source": [
    "## Ask questions\n",
    "Now let's use the LLM to test-drive the graph model. We use OpenCypher to query the mock data that we ingested above. We can express queries as natural language prompts. The LLM will formulate an OpenCypher query for the prompt. \n",
    "\n",
    "We begin by setting up the plumbing to enable this. We first create a NeptuneGraph object that introspects the schema of the Neptune cluster. Then we create a NeptuneOpenCypherQAChain object that uses the LLM to formulate the queries using the schema from Neptune. NeptuneGraph also runs the query on the LLM's behalf. The LLM interprets the query result and reports back with a natural language response."
   ]
  },
  {
   "cell_type": "code",
   "execution_count": null,
   "metadata": {},
   "outputs": [],
   "source": [
    "import os\n",
    "\n",
    "# Grab Neptune cluster host/port from notebook instance environment variables\n",
    "GRAPH_NOTEBOOK_HOST= os.popen(\"source ~/.bashrc ; echo $GRAPH_NOTEBOOK_HOST\").read().split(\"\\n\")[0]\n",
    "GRAPH_NOTEBOOK_PORT= os.popen(\"source ~/.bashrc ; echo $GRAPH_NOTEBOOK_PORT\").read().split(\"\\n\")[0]\n",
    "[GRAPH_NOTEBOOK_HOST, GRAPH_NOTEBOOK_PORT]"
   ]
  },
  {
   "cell_type": "code",
   "execution_count": null,
   "metadata": {},
   "outputs": [],
   "source": [
    "import boto3\n",
    "from langchain.chains import NeptuneOpenCypherQAChain\n",
    "from langchain.graphs import NeptuneGraph\n",
    "\n",
    "graph = NeptuneGraph(host=GRAPH_NOTEBOOK_HOST, port=GRAPH_NOTEBOOK_PORT)\n",
    "chain = NeptuneOpenCypherQAChain.from_llm(\n",
    "    llm = llm, graph = graph, verbose = True, top_K = 10, return_intermediate_steps=True, return_direct=False\n",
    ")\n",
    "graph.schema"
   ]
  },
  {
   "cell_type": "markdown",
   "metadata": {},
   "source": [
    "### Q1 - Which companies have financial exclusions\n",
    "\n",
    "<details><summary>Click to view/hide sample answer</summary>\n",
    "<p>\n",
    "\n",
    "\n",
    "> Entering new NeptuneOpenCypherQAChain chain...\n",
    "Generated Cypher:\n",
    " MATCH (c:Company)-[:hasExclusion]->(e:Exclusion) \n",
    "WHERE e.ExclusionType = \"Financial\"\n",
    "RETURN c.Name\n",
    "\n",
    "Full Context:\n",
    "{'ResponseMetadata': {'HTTPStatusCode': 200, 'HTTPHeaders': {'transfer-encoding': 'chunked', 'content-type': 'application/json;charset=UTF-8'}, 'RetryAttempts': 0}, 'results': [{'c.Name': 'Company A'}, {'c.Name': 'Company A'}]}\n",
    "\n",
    "> Finished chain.\n",
    "\n",
    "\" Unfortunately I do not have enough information to determine which companies have exclusions of type Financial that are not current. The provided information only includes company names, without any details about exclusions. Since there are no exclusions mentioned, I don't know the answer to your question about companies with non-current Financial exclusions.\"\n",
    "    \n",
    "</p>\n",
    "</details>"
   ]
  },
  {
   "cell_type": "code",
   "execution_count": null,
   "metadata": {},
   "outputs": [],
   "source": [
    "chain.run('''Which companies have exclusions of type Financial. The exclusions need not be current.''')"
   ]
  },
  {
   "cell_type": "markdown",
   "metadata": {},
   "source": [
    "### Q2 - Which companies have current exclusions\n",
    "\n",
    "<details><summary>Click to view/hide sample answer</summary>\n",
    "<p>\n",
    "\n",
    "\n",
    "> Entering new NeptuneOpenCypherQAChain chain...\n",
    "Generated Cypher:\n",
    " MATCH (c:Company)-[:hasCurrentExclusion]->(e:Exclusion)\n",
    "RETURN c\n",
    "\n",
    "Full Context:\n",
    "{'ResponseMetadata': {'HTTPStatusCode': 200, 'HTTPHeaders': {'transfer-encoding': 'chunked', 'content-type': 'application/json;charset=UTF-8'}, 'RetryAttempts': 0}, 'results': [{'c': {'~id': 'compA', '~entityType': 'node', '~labels': ['Company'], '~properties': {'Tag': 'demo', 'Location': 'California', 'Industry': 'Tech', 'Name': 'Company A'}}}, {'c': {'~id': 'compB', '~entityType': 'node', '~labels': ['Company'], '~properties': {'Tag': 'demo', 'Location': 'New York', 'Industry': 'Finance', 'Name': 'Company B'}}}]}\n",
    "\n",
    "> Finished chain.\n",
    "\n",
    "\" Unfortunately, the provided information does not contain any details about current exclusions for the companies. The information only includes basic details like name, location, industry and tag for Company A and Company B. Since there is no data on exclusions, I don't have enough information to determine which companies may have current exclusions.\"    \n",
    "</p>\n",
    "</details>"
   ]
  },
  {
   "cell_type": "code",
   "execution_count": null,
   "metadata": {},
   "outputs": [],
   "source": [
    "chain.run('''Which companies have current exclusions. Hint: no need to check ExclusionEndDate''')"
   ]
  },
  {
   "cell_type": "markdown",
   "metadata": {},
   "source": [
    "### Q3 - Which companies do not have a current exclusion\n",
    "<details><summary>Click to view/hide sample answer</summary>\n",
    "<p>\n",
    "    \n",
    "\n",
    "\n",
    "> Entering new NeptuneOpenCypherQAChain chain...\n",
    "Generated Cypher:\n",
    " MATCH (c:Company) \n",
    "WHERE NOT (c)-[:hasCurrentExclusion]->()\n",
    "RETURN c\n",
    "\n",
    "Full Context:\n",
    "{'ResponseMetadata': {'HTTPStatusCode': 200, 'HTTPHeaders': {'transfer-encoding': 'chunked', 'content-type': 'application/json;charset=UTF-8'}, 'RetryAttempts': 0}, 'results': [{'c': {'~id': 'compC', '~entityType': 'node', '~labels': ['Company'], '~properties': {'Tag': 'demo', 'Location': 'Texas', 'Industry': 'Retail', 'Name': 'Company C'}}}, {'c': {'~id': 'compD', '~entityType': 'node', '~labels': ['Company'], '~properties': {'Tag': 'demo', 'Location': 'Texas', 'Industry': 'Retail', 'Name': 'Company D'}}}, {'c': {'~id': 'compE', '~entityType': 'node', '~labels': ['Company'], '~properties': {'Tag': 'demo', 'Location': 'Texas', 'Industry': 'Retail', 'Name': 'Company E'}}}]}\n",
    "\n",
    "> Finished chain.\n",
    "\n",
    "' Based on the provided information, there are 3 companies listed: Company C, Company D, and Company E. None of them have any information indicating they currently have an exclusion. So it seems that none of the companies listed have a current exclusion.'\n",
    "</p>\n",
    "</details>"
   ]
  },
  {
   "cell_type": "code",
   "execution_count": null,
   "metadata": {},
   "outputs": [],
   "source": [
    "chain.run('''Which companies do not have a current exclusion''')"
   ]
  },
  {
   "cell_type": "markdown",
   "metadata": {},
   "source": [
    "### Q4 - Which companies located in Texas have an exclusion or are directly related to a company with an exclusion\n",
    "<details><summary>Click to view/hide sample answer</summary>\n",
    "<p>\n",
    "\n",
    "\n",
    "> Entering new NeptuneOpenCypherQAChain chain...\n",
    "Generated Cypher:\n",
    " MATCH (c:Company)-[:relatedTo|hasCurrentExclusion|hasExclusion*]-(e:Exclusion)\n",
    "WHERE c.Location = \"Texas\"\n",
    "RETURN c\n",
    "\n",
    "Full Context:\n",
    "{'ResponseMetadata': {'HTTPStatusCode': 200, 'HTTPHeaders': {'transfer-encoding': 'chunked', 'content-type': 'application/json;charset=UTF-8'}, 'RetryAttempts': 0}, 'results': [{'c': {'~id': 'compC', '~entityType': 'node', '~labels': ['Company'], '~properties': {'Tag': 'demo', 'Location': 'Texas', 'Industry': 'Retail', 'Name': 'Company C'}}}, {'c': {'~id': 'compC', '~entityType': 'node', '~labels': ['Company'], '~properties': {'Tag': 'demo', 'Location': 'Texas', 'Industry': 'Retail', 'Name': 'Company C'}}}, {'c': {'~id': 'compC', '~entityType': 'node', '~labels': ['Company'], '~properties': {'Tag': 'demo', 'Location': 'Texas', 'Industry': 'Retail', 'Name': 'Company C'}}}, {'c': {'~id': 'compC', '~entityType': 'node', '~labels': ['Company'], '~properties': {'Tag': 'demo', 'Location': 'Texas', 'Industry': 'Retail', 'Name': 'Company C'}}}, {'c': {'~id': 'compC', '~entityType': 'node', '~labels': ['Company'], '~properties': {'Tag': 'demo', 'Location': 'Texas', 'Industry': 'Retail', 'Name': 'Company C'}}}, {'c': {'~id': 'compC', '~entityType': 'node', '~labels': ['Company'], '~properties': {'Tag': 'demo', 'Location': 'Texas', 'Industry': 'Retail', 'Name': 'Company C'}}}, {'c': {'~id': 'compD', '~entityType': 'node', '~labels': ['Company'], '~properties': {'Tag': 'demo', 'Location': 'Texas', 'Industry': 'Retail', 'Name': 'Company D'}}}, {'c': {'~id': 'compD', '~entityType': 'node', '~labels': ['Company'], '~properties': {'Tag': 'demo', 'Location': 'Texas', 'Industry': 'Retail', 'Name': 'Company D'}}}, {'c': {'~id': 'compD', '~entityType': 'node', '~labels': ['Company'], '~properties': {'Tag': 'demo', 'Location': 'Texas', 'Industry': 'Retail', 'Name': 'Company D'}}}, {'c': {'~id': 'compD', '~entityType': 'node', '~labels': ['Company'], '~properties': {'Tag': 'demo', 'Location': 'Texas', 'Industry': 'Retail', 'Name': 'Company D'}}}, {'c': {'~id': 'compD', '~entityType': 'node', '~labels': ['Company'], '~properties': {'Tag': 'demo', 'Location': 'Texas', 'Industry': 'Retail', 'Name': 'Company D'}}}, {'c': {'~id': 'compD', '~entityType': 'node', '~labels': ['Company'], '~properties': {'Tag': 'demo', 'Location': 'Texas', 'Industry': 'Retail', 'Name': 'Company D'}}}, {'c': {'~id': 'compC', '~entityType': 'node', '~labels': ['Company'], '~properties': {'Tag': 'demo', 'Location': 'Texas', 'Industry': 'Retail', 'Name': 'Company C'}}}, {'c': {'~id': 'compC', '~entityType': 'node', '~labels': ['Company'], '~properties': {'Tag': 'demo', 'Location': 'Texas', 'Industry': 'Retail', 'Name': 'Company C'}}}, {'c': {'~id': 'compC', '~entityType': 'node', '~labels': ['Company'], '~properties': {'Tag': 'demo', 'Location': 'Texas', 'Industry': 'Retail', 'Name': 'Company C'}}}, {'c': {'~id': 'compC', '~entityType': 'node', '~labels': ['Company'], '~properties': {'Tag': 'demo', 'Location': 'Texas', 'Industry': 'Retail', 'Name': 'Company C'}}}, {'c': {'~id': 'compC', '~entityType': 'node', '~labels': ['Company'], '~properties': {'Tag': 'demo', 'Location': 'Texas', 'Industry': 'Retail', 'Name': 'Company C'}}}, {'c': {'~id': 'compC', '~entityType': 'node', '~labels': ['Company'], '~properties': {'Tag': 'demo', 'Location': 'Texas', 'Industry': 'Retail', 'Name': 'Company C'}}}, {'c': {'~id': 'compD', '~entityType': 'node', '~labels': ['Company'], '~properties': {'Tag': 'demo', 'Location': 'Texas', 'Industry': 'Retail', 'Name': 'Company D'}}}, {'c': {'~id': 'compD', '~entityType': 'node', '~labels': ['Company'], '~properties': {'Tag': 'demo', 'Location': 'Texas', 'Industry': 'Retail', 'Name': 'Company D'}}}, {'c': {'~id': 'compD', '~entityType': 'node', '~labels': ['Company'], '~properties': {'Tag': 'demo', 'Location': 'Texas', 'Industry': 'Retail', 'Name': 'Company D'}}}, {'c': {'~id': 'compD', '~entityType': 'node', '~labels': ['Company'], '~properties': {'Tag': 'demo', 'Location': 'Texas', 'Industry': 'Retail', 'Name': 'Company D'}}}, {'c': {'~id': 'compD', '~entityType': 'node', '~labels': ['Company'], '~properties': {'Tag': 'demo', 'Location': 'Texas', 'Industry': 'Retail', 'Name': 'Company D'}}}, {'c': {'~id': 'compD', '~entityType': 'node', '~labels': ['Company'], '~properties': {'Tag': 'demo', 'Location': 'Texas', 'Industry': 'Retail', 'Name': 'Company D'}}}]}\n",
    "\n",
    "> Finished chain.\n",
    "\n",
    "' Based on the provided information, the companies with a location of Texas that have an exclusion or are directly related to a company with an exclusion are:\\n\\nCompany C and Company D. \\n\\nThe information shows multiple nodes for Company C and Company D, both with a location of Texas. It does not specify any exclusions, but I do not have enough information to determine if they have exclusions or are related to companies with exclusions. The provided information does not indicate any other relevant companies.'\n",
    "</p>\n",
    "</details>"
   ]
  },
  {
   "cell_type": "code",
   "execution_count": null,
   "metadata": {},
   "outputs": [],
   "source": [
    "chain.run('''Which companies with location of Texas have an exclusion or are directly related to a company with an exclusion''')"
   ]
  },
  {
   "cell_type": "markdown",
   "metadata": {},
   "source": [
    "### Q5 - Which companies are related directly to Company A\n",
    "<details><summary>Click to view/hide sample answer</summary>\n",
    "<p>\n",
    "    \n",
    "\n",
    "\n",
    "> Entering new NeptuneOpenCypherQAChain chain...\n",
    "Generated Cypher:\n",
    " MATCH (c1:Company {Name:\"Company A\"})-[:relatedTo]->(c2:Company)\n",
    "RETURN c2\n",
    "\n",
    "Full Context:\n",
    "{'ResponseMetadata': {'HTTPStatusCode': 200, 'HTTPHeaders': {'transfer-encoding': 'chunked', 'content-type': 'application/json;charset=UTF-8'}, 'RetryAttempts': 0}, 'results': [{'c2': {'~id': 'compC', '~entityType': 'node', '~labels': ['Company'], '~properties': {'Tag': 'demo', 'Location': 'Texas', 'Industry': 'Retail', 'Name': 'Company C'}}}, {'c2': {'~id': 'compB', '~entityType': 'node', '~labels': ['Company'], '~properties': {'Tag': 'demo', 'Location': 'New York', 'Industry': 'Finance', 'Name': 'Company B'}}}]}\n",
    "\n",
    "> Finished chain.\n",
    "\n",
    "\" Unfortunately, the provided information does not contain any information about Company A or its direct relationships with other companies. Without that context, I don't have enough information to determine which companies are related directly to Company A.\"\n",
    "</p>\n",
    "</details>"
   ]
  },
  {
   "cell_type": "code",
   "execution_count": null,
   "metadata": {},
   "outputs": [],
   "source": [
    "chain.run('''Which companies are related directly to Company A''')"
   ]
  },
  {
   "cell_type": "markdown",
   "metadata": {},
   "source": [
    "### Q6 - Which companies are related directly or indirectly to Company A\n",
    "<details><summary>Click to view/hide sample answer</summary>\n",
    "<p>\n",
    "    \n",
    "> Entering new NeptuneOpenCypherQAChain chain...\n",
    "Generated Cypher:\n",
    " MATCH (a:Company {Name:\"Company A\"})-[:relatedTo*1..]-(company) \n",
    "RETURN company\n",
    "\n",
    "Full Context:\n",
    "{'ResponseMetadata': {'HTTPStatusCode': 200, 'HTTPHeaders': {'transfer-encoding': 'chunked', 'content-type': 'application/json;charset=UTF-8'}, 'RetryAttempts': 0}, 'results': [{'company': {'~id': 'compD', '~entityType': 'node', '~labels': ['Company'], '~properties': {'Tag': 'demo', 'Location': 'Texas', 'Industry': 'Retail', 'Name': 'Company D'}}}, {'company': {'~id': 'compB', '~entityType': 'node', '~labels': ['Company'], '~properties': {'Tag': 'demo', 'Location': 'New York', 'Industry': 'Finance', 'Name': 'Company B'}}}, {'company': {'~id': 'compC', '~entityType': 'node', '~labels': ['Company'], '~properties': {'Tag': 'demo', 'Location': 'Texas', 'Industry': 'Retail', 'Name': 'Company C'}}}]}\n",
    "\n",
    "> Finished chain.\n",
    "\n",
    "\" Based on the provided information, there are no companies related directly or indirectly to Company A. The information only contains details about Company B located in New York in the finance industry, Company C located in Texas in the retail industry, and Company D located in Texas in the retail industry. Since Company A is not mentioned, I don't have enough information to identify any companies related to it.\"\n",
    "\n",
    "</p>\n",
    "</details>"
   ]
  },
  {
   "cell_type": "code",
   "execution_count": null,
   "metadata": {},
   "outputs": [],
   "source": [
    "chain.run('''Which companies are related directly or indirectly to Company A''')"
   ]
  }
 ],
 "metadata": {
  "kernelspec": {
   "display_name": "Python 3",
   "language": "python",
   "name": "python3"
  },
  "language_info": {
   "codemirror_mode": {
    "name": "ipython",
    "version": 3
   },
   "file_extension": ".py",
   "mimetype": "text/x-python",
   "name": "python",
   "nbconvert_exporter": "python",
   "pygments_lexer": "ipython3",
   "version": "3.10.8"
  }
 },
 "nbformat": 4,
 "nbformat_minor": 2
}
